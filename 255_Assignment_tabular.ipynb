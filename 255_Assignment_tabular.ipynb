{
  "nbformat": 4,
  "nbformat_minor": 0,
  "metadata": {
    "colab": {
      "name": "255_Assignment_tabular.ipynb",
      "provenance": [],
      "collapsed_sections": []
    },
    "kernelspec": {
      "name": "python3",
      "display_name": "Python 3"
    },
    "language_info": {
      "name": "python"
    }
  },
  "cells": [
    {
      "cell_type": "markdown",
      "metadata": {
        "id": "EUKivBt4xlq8"
      },
      "source": [
        "I will go over breast cancer dataset and apply PCA algorithm to narrow the dataset."
      ]
    },
    {
      "cell_type": "code",
      "metadata": {
        "id": "1umUSynIpBhg"
      },
      "source": [
        "import numpy as np\n",
        "import pandas as pd\n",
        "from sklearn.decomposition import PCA"
      ],
      "execution_count": 15,
      "outputs": []
    },
    {
      "cell_type": "markdown",
      "metadata": {
        "id": "Qo3q1jIuxrxW"
      },
      "source": [
        "we read the breast cancer dataset available on scikit-learn:"
      ]
    },
    {
      "cell_type": "code",
      "metadata": {
        "id": "f1m9i8RGpRLz"
      },
      "source": [
        "dataset = load_breast_cancer()\n",
        "X, y = load_breast_cancer(return_X_y = True)"
      ],
      "execution_count": 16,
      "outputs": []
    },
    {
      "cell_type": "code",
      "metadata": {
        "colab": {
          "base_uri": "https://localhost:8080/"
        },
        "id": "Esf3lFYgwZSO",
        "outputId": "09c43598-19d2-47f6-c5c4-935291a9f197"
      },
      "source": [
        "print(\"Features {}\".format(X.shape))\n",
        "print(\"Target {}\".format(y.shape))"
      ],
      "execution_count": 17,
      "outputs": [
        {
          "output_type": "stream",
          "name": "stdout",
          "text": [
            "Features (569, 30)\n",
            "Target (569,)\n"
          ]
        }
      ]
    },
    {
      "cell_type": "code",
      "metadata": {
        "colab": {
          "base_uri": "https://localhost:8080/"
        },
        "id": "xsIJA0tPxUN3",
        "outputId": "e818c5c8-8e59-4215-d4b6-82db704fbb55"
      },
      "source": [
        "dataset.feature_names"
      ],
      "execution_count": 18,
      "outputs": [
        {
          "output_type": "execute_result",
          "data": {
            "text/plain": [
              "array(['mean radius', 'mean texture', 'mean perimeter', 'mean area',\n",
              "       'mean smoothness', 'mean compactness', 'mean concavity',\n",
              "       'mean concave points', 'mean symmetry', 'mean fractal dimension',\n",
              "       'radius error', 'texture error', 'perimeter error', 'area error',\n",
              "       'smoothness error', 'compactness error', 'concavity error',\n",
              "       'concave points error', 'symmetry error',\n",
              "       'fractal dimension error', 'worst radius', 'worst texture',\n",
              "       'worst perimeter', 'worst area', 'worst smoothness',\n",
              "       'worst compactness', 'worst concavity', 'worst concave points',\n",
              "       'worst symmetry', 'worst fractal dimension'], dtype='<U23')"
            ]
          },
          "metadata": {},
          "execution_count": 18
        }
      ]
    },
    {
      "cell_type": "code",
      "metadata": {
        "id": "FendyhgXx8Ac"
      },
      "source": [
        "from sklearn.ensemble import RandomForestClassifier\n",
        "from sklearn.model_selection import train_test_split\n",
        "from sklearn.preprocessing import StandardScaler\n",
        "from sklearn.metrics import accuracy_score"
      ],
      "execution_count": 19,
      "outputs": []
    },
    {
      "cell_type": "markdown",
      "metadata": {
        "id": "eGmPiAgYyKhY"
      },
      "source": [
        "We create a random forest classifier. The dataset is splitted into training and test subsets using train_test_split function. Then we train the classifier using training set. "
      ]
    },
    {
      "cell_type": "code",
      "metadata": {
        "colab": {
          "base_uri": "https://localhost:8080/"
        },
        "id": "WIxsueLfx_sT",
        "outputId": "64fef531-02c5-4364-b9e4-3defca6e49a6"
      },
      "source": [
        "#Train test split\n",
        "X_train, X_test, y_train, y_test = train_test_split(X, y, random_state=1)\n",
        "#Normalization\n",
        "sc = StandardScaler()\n",
        "X_train = sc.fit_transform(X_train)\n",
        "X_test = sc.transform(X_test)\n",
        "#Create a classifier\n",
        "clf = RandomForestClassifier(n_estimators=100, max_depth=4)\n",
        "#Train the classifier\n",
        "clf.fit(X_train, y_train)"
      ],
      "execution_count": 20,
      "outputs": [
        {
          "output_type": "execute_result",
          "data": {
            "text/plain": [
              "RandomForestClassifier(bootstrap=True, ccp_alpha=0.0, class_weight=None,\n",
              "                       criterion='gini', max_depth=4, max_features='auto',\n",
              "                       max_leaf_nodes=None, max_samples=None,\n",
              "                       min_impurity_decrease=0.0, min_impurity_split=None,\n",
              "                       min_samples_leaf=1, min_samples_split=2,\n",
              "                       min_weight_fraction_leaf=0.0, n_estimators=100,\n",
              "                       n_jobs=None, oob_score=False, random_state=None,\n",
              "                       verbose=0, warm_start=False)"
            ]
          },
          "metadata": {},
          "execution_count": 20
        }
      ]
    },
    {
      "cell_type": "code",
      "metadata": {
        "colab": {
          "base_uri": "https://localhost:8080/"
        },
        "id": "WpKQc5aLyQ3Q",
        "outputId": "7ce11bac-23a3-4ed5-b96e-6bc29650b7ce"
      },
      "source": [
        "clf.score(X_train, y_train)"
      ],
      "execution_count": 21,
      "outputs": [
        {
          "output_type": "execute_result",
          "data": {
            "text/plain": [
              "0.9953051643192489"
            ]
          },
          "metadata": {},
          "execution_count": 21
        }
      ]
    },
    {
      "cell_type": "code",
      "metadata": {
        "colab": {
          "base_uri": "https://localhost:8080/"
        },
        "id": "WOUv2MHXyUbm",
        "outputId": "c09c7108-6279-4bbb-dffb-38d9988c79f6"
      },
      "source": [
        "y_pred = clf.predict(X_test)\n",
        "accuracy_score(y_test, y_pred)"
      ],
      "execution_count": 22,
      "outputs": [
        {
          "output_type": "execute_result",
          "data": {
            "text/plain": [
              "0.958041958041958"
            ]
          },
          "metadata": {},
          "execution_count": 22
        }
      ]
    },
    {
      "cell_type": "markdown",
      "metadata": {
        "id": "4DN00Jgbycnl"
      },
      "source": [
        "apply PCA "
      ]
    },
    {
      "cell_type": "code",
      "metadata": {
        "id": "Gj4iiD-YyYaC"
      },
      "source": [
        "#Read the data\n",
        "dataset = load_breast_cancer()\n",
        "X, y = load_breast_cancer(return_X_y = True)\n",
        "#Normalize\n",
        "sc = StandardScaler()\n",
        "X_normalized = sc.fit_transform(X)\n",
        "#Apply PCA \n",
        "pca = PCA(n_components = 2).fit(X_normalized)\n",
        "pca_X = pca.transform(X_normalized)"
      ],
      "execution_count": 23,
      "outputs": []
    },
    {
      "cell_type": "markdown",
      "metadata": {
        "id": "g3_uHnAXyiKg"
      },
      "source": [
        "Now we have 2 features instead of 30."
      ]
    },
    {
      "cell_type": "code",
      "metadata": {
        "colab": {
          "base_uri": "https://localhost:8080/"
        },
        "id": "YqMePlMwykxm",
        "outputId": "f3336c9f-63f7-4e82-c9e4-5bbf4e4006e2"
      },
      "source": [
        "pca_X.shape"
      ],
      "execution_count": 24,
      "outputs": [
        {
          "output_type": "execute_result",
          "data": {
            "text/plain": [
              "(569, 2)"
            ]
          },
          "metadata": {},
          "execution_count": 24
        }
      ]
    },
    {
      "cell_type": "code",
      "metadata": {
        "colab": {
          "base_uri": "https://localhost:8080/",
          "height": 410
        },
        "id": "LDBcJLaJypqU",
        "outputId": "a55c453b-2ff1-43c0-da3d-a59af4e7911e"
      },
      "source": [
        "import matplotlib.pyplot as plt\n",
        "%matplotlib inline\n",
        "plt.figure(figsize=(10,6))\n",
        "plt.title(\"Principal Components\", fontsize=18)\n",
        "plt.scatter(X[:,0], X[:,1], c=y, cmap='Paired')"
      ],
      "execution_count": 25,
      "outputs": [
        {
          "output_type": "execute_result",
          "data": {
            "text/plain": [
              "<matplotlib.collections.PathCollection at 0x7f773d6ac490>"
            ]
          },
          "metadata": {},
          "execution_count": 25
        },
        {
          "output_type": "display_data",
          "data": {
            "image/png": "[encoded data removed]",
            "text/plain": [
              "<Figure size 720x432 with 1 Axes>"
            ]
          },
          "metadata": {
            "needs_background": "light"
          }
        }
      ]
    },
    {
      "cell_type": "markdown",
      "metadata": {
        "id": "iwo6kLYDzpEH"
      },
      "source": [
        "TSNE"
      ]
    },
    {
      "cell_type": "code",
      "metadata": {
        "colab": {
          "base_uri": "https://localhost:8080/"
        },
        "id": "VVOirFA-zsvQ",
        "outputId": "99ad2714-1de4-4760-8569-716ecd76c9db"
      },
      "source": [
        "df_table=pd.DataFrame(cancer['data'],columns=cancer['feature_names'])\n",
        "from sklearn.preprocessing import StandardScaler\n",
        "\n",
        "standardized_data = StandardScaler().fit_transform(df_table)\n",
        "print(standardized_data.shape)"
      ],
      "execution_count": 27,
      "outputs": [
        {
          "output_type": "stream",
          "name": "stdout",
          "text": [
            "(569, 30)\n"
          ]
        }
      ]
    },
    {
      "cell_type": "code",
      "metadata": {
        "id": "hPIYLb6G074K"
      },
      "source": [
        "df_tbl_target=pd.DataFrame(cancer['target'])\n",
        "df_tbl_target['target']=pd.DataFrame(cancer['target'])\n",
        "# Delete a column by column number\n",
        "# Delete column number 0 (index number 0 in data.columns)\n",
        "df_tbl_target = df_tbl_target.drop(columns=df_tbl_target.columns[0])"
      ],
      "execution_count": 31,
      "outputs": []
    },
    {
      "cell_type": "code",
      "metadata": {
        "id": "2O79P7WP0Y7g"
      },
      "source": [
        "def Implement_TSNE(n, df,target):\n",
        "  from sklearn.manifold import TSNE\n",
        "  model = TSNE(n_components = n, random_state = 42,verbose=0, perplexity=40, n_iter=400)\n",
        "  tsne_data = model.fit_transform(df)\n",
        "  print(tsne_data.shape)\n",
        "  tsne_data = np.vstack((tsne_data.T, target)).T \n",
        "  return tsne_data"
      ],
      "execution_count": 32,
      "outputs": []
    },
    {
      "cell_type": "code",
      "metadata": {
        "colab": {
          "base_uri": "https://localhost:8080/",
          "height": 433
        },
        "id": "fvZQC_vG0fej",
        "outputId": "1c573713-e8d3-4a6c-bea9-bf37d3caf8aa"
      },
      "source": [
        "\n",
        "tsne_df_2 = Implement_TSNE(2, standardized_data,df_tbl_target['target'])\n",
        "tsne_df_2 = pd.DataFrame(data = tsne_df_2, columns = (\"Dim_1\", \"Dim_2\", \"label\")) \n",
        "tsne_df_2"
      ],
      "execution_count": 33,
      "outputs": [
        {
          "output_type": "stream",
          "name": "stdout",
          "text": [
            "(569, 2)\n"
          ]
        },
        {
          "output_type": "execute_result",
          "data": {
            "text/html": [
              "<div>\n",
              "<style scoped>\n",
              "    .dataframe tbody tr th:only-of-type {\n",
              "        vertical-align: middle;\n",
              "    }\n",
              "\n",
              "    .dataframe tbody tr th {\n",
              "        vertical-align: top;\n",
              "    }\n",
              "\n",
              "    .dataframe thead th {\n",
              "        text-align: right;\n",
              "    }\n",
              "</style>\n",
              "<table border=\"1\" class=\"dataframe\">\n",
              "  <thead>\n",
              "    <tr style=\"text-align: right;\">\n",
              "      <th></th>\n",
              "      <th>Dim_1</th>\n",
              "      <th>Dim_2</th>\n",
              "      <th>label</th>\n",
              "    </tr>\n",
              "  </thead>\n",
              "  <tbody>\n",
              "    <tr>\n",
              "      <th>0</th>\n",
              "      <td>-10.990579</td>\n",
              "      <td>17.939388</td>\n",
              "      <td>0.0</td>\n",
              "    </tr>\n",
              "    <tr>\n",
              "      <th>1</th>\n",
              "      <td>-1.647387</td>\n",
              "      <td>15.305823</td>\n",
              "      <td>0.0</td>\n",
              "    </tr>\n",
              "    <tr>\n",
              "      <th>2</th>\n",
              "      <td>-7.373178</td>\n",
              "      <td>17.707848</td>\n",
              "      <td>0.0</td>\n",
              "    </tr>\n",
              "    <tr>\n",
              "      <th>3</th>\n",
              "      <td>-14.194951</td>\n",
              "      <td>10.480234</td>\n",
              "      <td>0.0</td>\n",
              "    </tr>\n",
              "    <tr>\n",
              "      <th>4</th>\n",
              "      <td>-0.378321</td>\n",
              "      <td>18.565407</td>\n",
              "      <td>0.0</td>\n",
              "    </tr>\n",
              "    <tr>\n",
              "      <th>...</th>\n",
              "      <td>...</td>\n",
              "      <td>...</td>\n",
              "      <td>...</td>\n",
              "    </tr>\n",
              "    <tr>\n",
              "      <th>564</th>\n",
              "      <td>-5.669053</td>\n",
              "      <td>21.525757</td>\n",
              "      <td>0.0</td>\n",
              "    </tr>\n",
              "    <tr>\n",
              "      <th>565</th>\n",
              "      <td>-2.060107</td>\n",
              "      <td>20.587854</td>\n",
              "      <td>0.0</td>\n",
              "    </tr>\n",
              "    <tr>\n",
              "      <th>566</th>\n",
              "      <td>0.326482</td>\n",
              "      <td>12.146482</td>\n",
              "      <td>0.0</td>\n",
              "    </tr>\n",
              "    <tr>\n",
              "      <th>567</th>\n",
              "      <td>-9.882661</td>\n",
              "      <td>18.926790</td>\n",
              "      <td>0.0</td>\n",
              "    </tr>\n",
              "    <tr>\n",
              "      <th>568</th>\n",
              "      <td>8.681151</td>\n",
              "      <td>-15.617292</td>\n",
              "      <td>1.0</td>\n",
              "    </tr>\n",
              "  </tbody>\n",
              "</table>\n",
              "<p>569 rows × 3 columns</p>\n",
              "</div>"
            ],
            "text/plain": [
              "         Dim_1      Dim_2  label\n",
              "0   -10.990579  17.939388    0.0\n",
              "1    -1.647387  15.305823    0.0\n",
              "2    -7.373178  17.707848    0.0\n",
              "3   -14.194951  10.480234    0.0\n",
              "4    -0.378321  18.565407    0.0\n",
              "..         ...        ...    ...\n",
              "564  -5.669053  21.525757    0.0\n",
              "565  -2.060107  20.587854    0.0\n",
              "566   0.326482  12.146482    0.0\n",
              "567  -9.882661  18.926790    0.0\n",
              "568   8.681151 -15.617292    1.0\n",
              "\n",
              "[569 rows x 3 columns]"
            ]
          },
          "metadata": {},
          "execution_count": 33
        }
      ]
    },
    {
      "cell_type": "code",
      "metadata": {
        "colab": {
          "base_uri": "https://localhost:8080/",
          "height": 517
        },
        "id": "DkcqStAg1Oyk",
        "outputId": "e90a4948-c871-41eb-a432-dd30602f8c2a"
      },
      "source": [
        "import plotly.graph_objects as go\n",
        "fig = go.Figure(data=go.Scatter(\n",
        "        x = tsne_df_2.iloc[:,0],\n",
        "        y = tsne_df_2.iloc[:,1],\n",
        "        mode='markers',\n",
        "        marker=dict(\n",
        "            size=10,\n",
        "            color=tsne_df_2.iloc[:,2], #set color equal to a variable\n",
        "            colorscale = 'Viridis', # one of plotly colorscales\n",
        "            showscale=True,\n",
        "            line_width=1\n",
        "        )\n",
        "    ))\n",
        "fig.update_layout(margin=dict( l=100,r=100,b=100,t=100),width=1000,height=500)                 \n",
        "fig.layout.template = 'plotly_dark'\n",
        "    \n",
        "fig.show()"
      ],
      "execution_count": 34,
      "outputs": [
        {
          "output_type": "display_data",
          "data": {
            "text/html": [
              "<html>\n",
              "<head><meta charset=\"utf-8\" /></head>\n",
              "<body>\n",
              "    <div>\n",
              "            <script src=\"https://cdnjs.cloudflare.com/ajax/libs/mathjax/2.7.5/MathJax.js?config=TeX-AMS-MML_SVG\"></script><script type=\"text/javascript\">if (window.MathJax) {MathJax.Hub.Config({SVG: {font: \"STIX-Web\"}});}</script>\n",
              "                <script type=\"text/javascript\">window.PlotlyConfig = {MathJaxConfig: 'local'};</script>\n",
              "        <script src=\"https://cdn.plot.ly/plotly-latest.min.js\"></script>    \n",
              "            <div id=\"709b1788-3abb-4707-86ce-dfbc252ac39f\" class=\"plotly-graph-div\" style=\"height:500px; width:1000px;\"></div>\n",
              "            <script type=\"text/javascript\">\n",
              "                \n",
              "                    window.PLOTLYENV=window.PLOTLYENV || {};\n",
              "                    \n",
              "                if (document.getElementById(\"709b1788-3abb-4707-86ce-dfbc252ac39f\")) {\n",
              "                    Plotly.newPlot(\n",
              "                        '709b1788-3abb-4707-86ce-dfbc252ac39f',\n",
              "                        [{\"marker\": {\"color\": [0.0, 0.0, 0.0, 0.0, 0.0, 0.0, 0.0, 0.0, 0.0, 0.0, 0.0, 0.0, 0.0, 0.0, 0.0, 0.0, 0.0, 0.0, 0.0, 1.0, 1.0, 1.0, 0.0, 0.0, 0.0, 0.0, 0.0, 0.0, 0.0, 0.0, 0.0, 0.0, 0.0, 0.0, 0.0, 0.0, 0.0, 1.0, 0.0, 0.0, 0.0, 0.0, 0.0, 0.0, 0.0, 0.0, 1.0, 0.0, 1.0, 1.0, 1.0, 1.0, 1.0, 0.0, 0.0, 1.0, 0.0, 0.0, 1.0, 1.0, 1.0, 1.0, 0.0, 1.0, 0.0, 0.0, 1.0, 1.0, 1.0, 1.0, 0.0, 1.0, 0.0, 0.0, 1.0, 0.0, 1.0, 0.0, 0.0, 1.0, 1.0, 1.0, 0.0, 0.0, 1.0, 0.0, 0.0, 0.0, 1.0, 1.0, 1.0, 0.0, 1.0, 1.0, 0.0, 0.0, 1.0, 1.0, 1.0, 0.0, 0.0, 1.0, 1.0, 1.0, 1.0, 0.0, 1.0, 1.0, 0.0, 1.0, 1.0, 1.0, 1.0, 1.0, 1.0, 1.0, 1.0, 0.0, 0.0, 0.0, 1.0, 0.0, 0.0, 1.0, 1.0, 1.0, 0.0, 0.0, 1.0, 0.0, 1.0, 0.0, 0.0, 1.0, 0.0, 0.0, 1.0, 1.0, 0.0, 1.0, 1.0, 0.0, 1.0, 1.0, 1.0, 1.0, 0.0, 1.0, 1.0, 1.0, 1.0, 1.0, 1.0, 1.0, 1.0, 1.0, 0.0, 1.0, 1.0, 1.0, 1.0, 0.0, 0.0, 1.0, 0.0, 1.0, 1.0, 0.0, 0.0, 1.0, 1.0, 0.0, 0.0, 1.0, 1.0, 1.0, 1.0, 0.0, 1.0, 1.0, 0.0, 0.0, 0.0, 1.0, 0.0, 1.0, 0.0, 1.0, 1.0, 1.0, 0.0, 1.0, 1.0, 0.0, 0.0, 1.0, 0.0, 0.0, 0.0, 0.0, 1.0, 0.0, 0.0, 0.0, 1.0, 0.0, 1.0, 0.0, 1.0, 1.0, 0.0, 1.0, 0.0, 0.0, 0.0, 0.0, 1.0, 1.0, 0.0, 0.0, 1.0, 1.0, 1.0, 0.0, 1.0, 1.0, 1.0, 1.0, 1.0, 0.0, 0.0, 1.0, 1.0, 0.0, 1.0, 1.0, 0.0, 0.0, 1.0, 0.0, 1.0, 1.0, 1.0, 1.0, 0.0, 1.0, 1.0, 1.0, 1.0, 1.0, 0.0, 1.0, 0.0, 0.0, 0.0, 0.0, 0.0, 0.0, 0.0, 0.0, 0.0, 0.0, 0.0, 0.0, 0.0, 0.0, 1.0, 1.0, 1.0, 1.0, 1.0, 1.0, 0.0, 1.0, 0.0, 1.0, 1.0, 0.0, 1.0, 1.0, 0.0, 1.0, 0.0, 0.0, 1.0, 1.0, 1.0, 1.0, 1.0, 1.0, 1.0, 1.0, 1.0, 1.0, 1.0, 1.0, 1.0, 0.0, 1.0, 1.0, 0.0, 1.0, 0.0, 1.0, 1.0, 1.0, 1.0, 1.0, 1.0, 1.0, 1.0, 1.0, 1.0, 1.0, 1.0, 1.0, 1.0, 0.0, 1.0, 1.0, 1.0, 0.0, 1.0, 0.0, 1.0, 1.0, 1.0, 1.0, 0.0, 0.0, 0.0, 1.0, 1.0, 1.0, 1.0, 0.0, 1.0, 0.0, 1.0, 0.0, 1.0, 1.0, 1.0, 0.0, 1.0, 1.0, 1.0, 1.0, 1.0, 1.0, 1.0, 0.0, 0.0, 0.0, 1.0, 1.0, 1.0, 1.0, 1.0, 1.0, 1.0, 1.0, 1.0, 1.0, 1.0, 0.0, 0.0, 1.0, 0.0, 0.0, 0.0, 1.0, 0.0, 0.0, 1.0, 1.0, 1.0, 1.0, 1.0, 0.0, 1.0, 1.0, 1.0, 1.0, 1.0, 0.0, 1.0, 1.0, 1.0, 0.0, 1.0, 1.0, 0.0, 0.0, 1.0, 1.0, 1.0, 1.0, 1.0, 1.0, 0.0, 1.0, 1.0, 1.0, 1.0, 1.0, 1.0, 1.0, 0.0, 1.0, 1.0, 1.0, 1.0, 1.0, 0.0, 1.0, 1.0, 0.0, 1.0, 1.0, 1.0, 1.0, 1.0, 1.0, 1.0, 1.0, 1.0, 1.0, 1.0, 1.0, 0.0, 1.0, 0.0, 0.0, 1.0, 0.0, 1.0, 1.0, 1.0, 1.0, 1.0, 0.0, 1.0, 1.0, 0.0, 1.0, 0.0, 1.0, 1.0, 0.0, 1.0, 0.0, 1.0, 1.0, 1.0, 1.0, 1.0, 1.0, 1.0, 1.0, 0.0, 0.0, 1.0, 1.0, 1.0, 1.0, 1.0, 1.0, 0.0, 1.0, 1.0, 1.0, 1.0, 1.0, 1.0, 1.0, 1.0, 1.0, 1.0, 0.0, 1.0, 1.0, 1.0, 1.0, 1.0, 1.0, 1.0, 0.0, 1.0, 0.0, 1.0, 1.0, 0.0, 1.0, 1.0, 1.0, 1.0, 1.0, 0.0, 0.0, 1.0, 0.0, 1.0, 0.0, 1.0, 1.0, 1.0, 1.0, 1.0, 0.0, 1.0, 1.0, 0.0, 1.0, 0.0, 1.0, 0.0, 0.0, 1.0, 1.0, 1.0, 0.0, 1.0, 1.0, 1.0, 1.0, 1.0, 1.0, 1.0, 1.0, 1.0, 1.0, 1.0, 0.0, 1.0, 0.0, 0.0, 1.0, 1.0, 1.0, 1.0, 1.0, 1.0, 1.0, 1.0, 1.0, 1.0, 1.0, 1.0, 1.0, 1.0, 1.0, 1.0, 1.0, 1.0, 1.0, 1.0, 1.0, 1.0, 1.0, 1.0, 1.0, 0.0, 0.0, 0.0, 0.0, 0.0, 0.0, 1.0], \"colorscale\": [[0.0, \"#440154\"], [0.1111111111111111, \"#482878\"], [0.2222222222222222, \"#3e4989\"], [0.3333333333333333, \"#31688e\"], [0.4444444444444444, \"#26828e\"], [0.5555555555555556, \"#1f9e89\"], [0.6666666666666666, \"#35b779\"], [0.7777777777777778, \"#6ece58\"], [0.8888888888888888, \"#b5de2b\"], [1.0, \"#fde725\"]], \"line\": {\"width\": 1}, \"showscale\": true, \"size\": 10}, \"mode\": \"markers\", \"type\": \"scatter\", \"x\": [-10.990578651428223, -1.647387146949768, -7.373177528381348, -14.194951057434082, -0.37832093238830566, -10.905064582824707, -2.8541576862335205, -9.44709300994873, -10.974320411682129, -13.310017585754395, 0.8660134673118591, -6.83558464050293, -11.996627807617188, 4.070797443389893, -12.345551490783691, -11.494264602661133, -0.6157280206680298, -9.503523826599121, -3.4239866733551025, -4.504119396209717, -4.278222560882568, 10.80053424835205, -13.28243637084961, -3.2418549060821533, -5.500248908996582, -11.011728286743164, -11.215719223022461, -1.1163607835769653, -10.566926956176758, -0.32166606187820435, -7.405581474304199, -11.643223762512207, -7.656408786773682, -7.916028022766113, -7.490005970001221, -11.575331687927246, -7.1265645027160645, 8.79194164276123, 12.405739784240723, -7.693728446960449, 0.49026307463645935, -4.978367805480957, -11.873647689819336, -8.206159591674805, -6.804303169250488, -8.00266170501709, 11.172821044921875, -9.762304306030273, -1.802558183670044, 0.5315629839897156, 6.713927268981934, 0.8972798585891724, 6.03598690032959, -2.068112850189209, -0.26290589570999146, 6.862257480621338, -4.916579246520996, -8.384064674377441, 6.827540874481201, 9.325772285461426, 10.368087768554688, 13.28728199005127, -9.211828231811523, 9.731037139892578, -8.757368087768555, -8.21699047088623, 12.265668869018555, 5.703311443328857, 1.4719116687774658, 5.042112350463867, -1.6236345767974854, 3.7445948123931885, -8.943232536315918, -6.547112464904785, 2.464909791946411, 0.3001115918159485, 7.747722625732422, -10.430974960327148, -12.15262222290039, 2.9943723678588867, 12.138569831848145, -9.237404823303223, -8.748395919799805, -1.799431562423706, 4.8164262771606445, -2.735572338104248, 3.977642774581909, -5.3601531982421875, 2.2224647998809814, -2.402169942855835, 1.2588789463043213, 4.022468090057373, -0.595453143119812, 2.9073071479797363, -6.500681400299072, -3.72921085357666, 10.875692367553711, 12.075835227966309, -1.905096173286438, -3.961369752883911, 0.08076068013906479, 11.731645584106445, -4.498660087585449, 5.346325397491455, 8.380403518676758, -11.13206672668457, 5.006770133972168, 1.9235252141952515, -10.423805236816406, 2.4369890689849854, 13.957168579101562, 5.479713439941406, 1.246880054473877, 6.106720924377441, 8.882668495178223, 2.1632304191589355, 6.491297245025635, -8.930553436279297, -9.692659378051758, 2.921480655670166, -1.9021077156066895, -1.9077186584472656, -10.702040672302246, -5.6897358894348145, -1.7219583988189697, 1.2743947505950928, -1.44033944606781, 1.3654659986495972, -2.238229274749756, -6.802333354949951, 5.019406795501709, -3.7181687355041504, -3.291139841079712, -6.106786251068115, -2.6278209686279297, -4.455068111419678, 11.853564262390137, 2.7902283668518066, 0.3367721736431122, 13.871118545532227, 10.463479995727539, 0.025412097573280334, 10.282580375671387, 1.9027040004730225, 4.758030891418457, 7.437943935394287, -13.396600723266602, 0.023173660039901733, -5.597402572631836, 0.8104015588760376, 8.275453567504883, 3.5913424491882324, 1.741450548171997, 9.151455879211426, 4.3294525146484375, 4.040165901184082, -1.5935015678405762, 3.7724609375, -1.1074942350387573, 4.6280364990234375, 7.387299537658691, 0.30500927567481995, -7.060333251953125, 5.6714677810668945, -4.104610443115234, 1.605674386024475, -2.3270859718322754, 0.6834222078323364, -5.952474117279053, 0.2648570239543915, -0.7018218040466309, -0.1114724650979042, -7.402935028076172, 14.582978248596191, 9.237812042236328, 10.741455078125, 3.199345827102661, -6.82879114151001, 2.0201408863067627, -1.9953281879425049, -7.858168125152588, -9.592231750488281, -1.423515796661377, -0.9483368396759033, -6.2041215896606445, 11.868830680847168, -1.614955186843872, 4.5205230712890625, 7.901687145233154, 3.9335150718688965, -13.91907024383545, 11.505369186401367, 11.433242797851562, -9.438632011413574, -7.128955364227295, 2.136122941970825, -4.353750228881836, 2.1177639961242676, -4.586722373962402, -7.624517917633057, 2.7920331954956055, -1.9970680475234985, -9.21853256225586, -10.222992897033691, 2.690587282180786, -6.7303853034973145, 9.311202049255371, 1.528615951538086, -8.540515899658203, -2.5904619693756104, -2.5743796825408936, 3.2417941093444824, -6.998316764831543, 6.2479424476623535, -12.485419273376465, -9.036611557006836, 3.9699463844299316, 5.150496006011963, -4.163078784942627, -3.7393393516540527, -3.230269193649292, -4.788977146148682, 9.361021995544434, -7.600661277770996, 0.4203723073005676, -4.903049468994141, 8.349431037902832, -4.877815246582031, -2.7340433597564697, -10.571150779724121, -5.818121910095215, -6.316951274871826, -7.281924247741699, -3.291231393814087, 10.856642723083496, -4.851723670959473, -7.038679122924805, -1.1308475732803345, -7.945943355560303, -5.813539981842041, -0.4072585701942444, 3.3656091690063477, 1.2259759902954102, 1.9386990070343018, -2.3644330501556396, 13.91854190826416, 3.8389296531677246, -0.4031282365322113, 6.943357944488525, 4.672049045562744, -7.931795597076416, 6.083177089691162, -9.379332542419434, -2.6775434017181396, -3.8734958171844482, -5.268664360046387, -6.379950523376465, -10.445452690124512, -10.781733512878418, -11.220459938049316, -4.7852396965026855, 1.3313820362091064, -0.9784472584724426, -0.06163027137517929, -2.94398832321167, -4.864071846008301, 7.279451370239258, 1.9884674549102783, 4.957818984985352, 5.071635723114014, 2.025017261505127, -1.2712074518203735, -7.036253929138184, 11.702264785766602, 0.9811588525772095, 14.534908294677734, 9.015323638916016, 1.8888942003250122, 1.6243144273757935, 0.6534227728843689, -6.595622539520264, 9.3098783493042, -5.009293079376221, -6.750880241394043, -1.1919643878936768, 6.915437698364258, 0.46100306510925293, 3.0367374420166016, 5.237053394317627, 7.07475471496582, 3.155167579650879, -4.337915897369385, 4.633342266082764, 4.971853256225586, -1.0272274017333984, -1.0078846216201782, 6.0434889793396, 11.75986385345459, 0.5382494926452637, 13.834009170532227, -7.181325912475586, -0.0283394493162632, -8.717844009399414, 11.168993949890137, 3.926251173019409, 6.912289142608643, 1.7555768489837646, 10.524120330810547, 2.7655129432678223, 2.8090858459472656, 6.038242816925049, 1.6469635963439941, -2.139634609222412, -0.8960134983062744, 15.01558780670166, 3.5658013820648193, 4.288427352905273, -2.643906831741333, 2.1675198078155518, 8.518552780151367, 6.138648986816406, 1.2600836753845215, -1.598917007446289, -8.957354545593262, 1.7699649333953857, 4.945242404937744, -1.7570661306381226, 4.0281596183776855, -4.450245380401611, -3.01849365234375, -5.8332672119140625, -3.1142382621765137, 14.221429824829102, 5.55246639251709, 5.148799896240234, -1.6304646730422974, -1.3447355031967163, -4.710199356079102, 8.977355003356934, -6.5995893478393555, -4.947327136993408, 3.5064196586608887, 4.8838982582092285, -3.703138828277588, 6.866001605987549, 14.637818336486816, 5.051584720611572, -5.6026506423950195, 9.955509185791016, 8.222631454467773, 5.669051647186279, -13.496758460998535, -8.302873611450195, -4.149778842926025, 7.349449634552002, -0.5833494663238525, 3.9487392902374268, 2.143112897872925, 9.97388744354248, 10.792400360107422, 4.577849864959717, 1.710681676864624, 3.3813276290893555, 1.6409183740615845, 1.2134710550308228, -1.8393076658248901, -3.1477503776550293, 2.794735908508301, -5.630099773406982, -7.141382217407227, -11.86203384399414, -1.522267460823059, -4.936387538909912, -2.5021188259124756, 1.2332878112792969, -5.476532459259033, 1.7024893760681152, -6.195407390594482, -3.110701084136963, -12.640440940856934, 5.906667232513428, 4.360063552856445, -0.25542423129081726, 2.7089154720306396, -3.731802463531494, 2.6964643001556396, -1.9132531881332397, 1.4036237001419067, 2.3504257202148438, -1.7056723833084106, -1.0803637504577637, 12.514680862426758, -8.521513938903809, -8.676888465881348, 7.071079730987549, 2.7804062366485596, -3.9136850833892822, -1.164197325706482, 2.1992883682250977, 3.644538402557373, -9.807395935058594, -1.510962963104248, 3.3730974197387695, 1.9305628538131714, 6.518406867980957, 10.948898315429688, -6.0947489738464355, -0.055011022835969925, -3.9603805541992188, 5.908693790435791, -3.99509596824646, 7.7197699546813965, 6.9728217124938965, -3.986320972442627, 11.213894844055176, 6.660471439361572, 13.750296592712402, -7.616666316986084, -2.2956361770629883, 7.965968608856201, 5.906857013702393, -1.926501750946045, 4.6152191162109375, -3.9114155769348145, 10.68442440032959, 6.273958683013916, 3.800405979156494, 6.305641174316406, 5.150892734527588, 4.69197940826416, -8.974797248840332, 5.598931789398193, -6.013828754425049, -2.5940256118774414, -0.34767356514930725, -7.550707817077637, 3.715059995651245, 0.10492244362831116, 3.1102454662323, -0.49417078495025635, 1.2779409885406494, 0.16552063822746277, -1.398019790649414, 8.565546035766602, -1.9526245594024658, 2.23370623588562, -5.564835548400879, 1.3506605625152588, 0.6553921103477478, -2.924954652786255, -0.07172812521457672, -0.2157377302646637, -7.713424205780029, -5.747503280639648, 1.6059033870697021, -7.149762153625488, -8.902012825012207, -5.674064636230469, -5.616519927978516, -7.294560432434082, -3.567538022994995, -7.021087169647217, -5.815451145172119, 3.627692699432373, 0.28483787178993225, -0.32842859625816345, -2.8120248317718506, 11.686748504638672, -10.06769847869873, 6.808508396148682, 7.9309282302856445, 12.562908172607422, -4.875895977020264, 12.228058815002441, 2.905268430709839, -3.1998684406280518, -2.7673351764678955, 0.6766219139099121, 4.173198223114014, -7.4648919105529785, 3.1008951663970947, 0.640977680683136, -4.8523712158203125, 0.7931696176528931, -6.556853294372559, 1.8837591409683228, 0.3048369288444519, -6.211239814758301, 6.569839000701904, -4.748330116271973, -4.075098991394043, -1.446324348449707, -2.2756218910217285, 7.409268856048584, 4.35237455368042, 1.7856818437576294, -7.704457759857178, 1.815205454826355, -1.4014278650283813, -5.894056797027588, -6.917095184326172, -9.775090217590332, 6.572824001312256, -6.128358840942383, 8.675741195678711, 8.533978462219238, 3.6394448280334473, 7.797717094421387, -6.897163391113281, -9.058024406433105, -1.5516178607940674, -1.0393626689910889, -9.351316452026367, -5.775476455688477, 0.7561355233192444, 6.707212924957275, -3.4033985137939453, -3.5909087657928467, 1.2694885730743408, 6.115010738372803, 9.149545669555664, -7.590994834899902, 6.020191669464111, 2.0543324947357178, 10.821879386901855, 9.014724731445312, -7.058554172515869, -0.4964540898799896, 14.604522705078125, -1.4745795726776123, 10.624418258666992, 2.7151377201080322, 0.7136231064796448, -3.1717634201049805, 5.69413948059082, -6.42323637008667, -3.986595392227173, 6.955035209655762, 13.144783973693848, 4.017889976501465, 5.935876369476318, -6.264618396759033, 0.6284297704696655, -6.541772842407227, 1.1586968898773193, 1.443164587020874, 8.324419975280762, 6.7705078125, 6.9141058921813965, 7.219998836517334, 8.171524047851562, 5.501258850097656, -6.860820293426514, 13.832085609436035, -7.367401599884033, -9.094348907470703, 13.310638427734375, 12.31558609008789, -1.8247441053390503, -8.82992172241211, 1.398375153541565, 12.252279281616211, -12.405618667602539, -8.859405517578125, -5.669053077697754, -2.0601067543029785, 0.32648220658302307, -9.882660865783691, 8.681151390075684], \"y\": [17.939388275146484, 15.30582332611084, 17.707847595214844, 10.480234146118164, 18.565406799316406, 7.31442928314209, 14.086374282836914, 8.206706047058105, 8.188740730285645, 9.185461044311523, 10.16320514678955, 7.913161754608154, 20.39849281311035, 8.951395034790039, 9.068502426147461, 9.329216003417969, 9.587753295898438, 10.252015113830566, 17.262409210205078, -4.779784202575684, -2.9361345767974854, -8.676087379455566, 12.788793563842773, 16.93086814880371, 18.04879379272461, 17.550067901611328, 8.788898468017578, 19.491676330566406, 10.4635648727417, 14.720379829406738, 18.43737030029297, 7.768754482269287, 15.649487495422363, 14.481612205505371, 7.460920810699463, 12.85892391204834, 5.934240341186523, -17.80956268310547, -0.33578187227249146, 4.187074184417725, -8.256257057189941, 5.877054691314697, 19.627004623413086, 6.189431190490723, 3.2854442596435547, 16.887046813964844, -11.507582664489746, 7.191264629364014, -7.2918477058410645, -6.9134321212768555, -15.399889945983887, -15.565489768981934, -11.772345542907715, 18.375450134277344, 9.244681358337402, -10.243971824645996, 18.01523780822754, 7.159248352050781, -16.473777770996094, -1.0124735832214355, -6.556059837341309, -5.994081020355225, 11.797591209411621, -7.918433666229248, 8.083070755004883, 8.135071754455566, -5.574952602386475, -12.879434585571289, 5.370390892028809, -11.879973411560059, 16.13387107849121, 4.849262237548828, 13.92155933380127, -0.6242896318435669, -11.432380676269531, 16.100841522216797, -3.1740715503692627, 17.420326232910156, 19.11184310913086, -8.779790878295898, -5.451162338256836, 6.1593756675720215, 21.820877075195312, 22.590469360351562, -8.217415809631348, 18.625991821289062, 7.968857288360596, 15.094097137451172, -1.7504655122756958, 5.171934604644775, -6.805830955505371, 8.989771842956543, -17.718685150146484, -8.32093334197998, 10.688076972961426, 19.799131393432617, -2.314671039581299, -4.425456523895264, -8.827306747436523, 3.8847548961639404, 8.643521308898926, -7.280767917633057, -12.902193069458008, -1.064337134361267, -6.798603534698486, 6.933026313781738, -0.7609006762504578, -11.968589782714844, 20.525205612182617, -4.787292003631592, -5.052857398986816, 2.717747926712036, 4.560648441314697, 2.042778730392456, -0.4644968509674072, -4.341323375701904, 5.0522685050964355, 9.387362480163574, 11.2218656539917, 14.425334930419922, -8.881659507751465, 18.620830535888672, 21.033775329589844, -3.5034475326538086, -2.3503196239471436, -15.00886058807373, 8.019377708435059, 15.484842300415039, 5.356266498565674, 16.54709815979004, -3.1087639331817627, 12.24758529663086, 11.474387168884277, -5.25900936126709, 14.625200271606445, -11.314788818359375, -2.0814480781555176, -11.259485244750977, 20.849782943725586, -1.9424365758895874, -12.79522705078125, 14.971528053283691, -3.9589383602142334, -9.375246047973633, -16.69377326965332, 1.6935925483703613, 12.04051399230957, 0.04476629197597504, -1.3010120391845703, -16.822187423706055, -4.7820611000061035, 3.4659674167633057, 5.701436996459961, -11.848455429077148, -2.8100664615631104, -9.40842342376709, 19.283462524414062, 12.025327682495117, -11.702293395996094, -16.802995681762695, -1.7253438234329224, 19.560699462890625, 18.051809310913086, 0.2863706648349762, 17.836593627929688, -16.643878936767578, -10.417426109313965, 15.02073860168457, 20.0361385345459, -11.995534896850586, -7.937541484832764, 9.126200675964355, 9.287428855895996, -4.9269208908081055, -13.930976867675781, -12.725876808166504, 4.880011081695557, 10.436544418334961, -19.995527267456055, -16.242769241333008, 22.61665153503418, 18.576547622680664, 10.258576393127441, -2.550112724304199, 2.7129065990448, -10.192089080810547, 12.517487525939941, -11.647292137145996, -9.515655517578125, -16.051227569580078, 10.231447219848633, -0.6545639634132385, -16.933591842651367, 8.644434928894043, 10.728938102722168, -10.814960479736328, 8.658639907836914, 15.741392135620117, 15.038250923156738, 6.263724327087402, -3.0566792488098145, 13.475457191467285, 20.653827667236328, 9.546148300170898, -2.5871174335479736, 0.17766614258289337, -6.16414213180542, 14.712754249572754, 5.30840539932251, -14.368067741394043, 21.240869522094727, -12.31869888305664, 24.546743392944336, 5.918921947479248, 11.911487579345703, 6.293312072753906, 1.7361805438995361, -6.75216007232666, 19.46148681640625, 16.587560653686523, -8.769293785095215, -2.957401752471924, -5.865325450897217, 6.812094211578369, -14.281494140625, -5.245802402496338, -11.56241512298584, -0.7800911664962769, 0.45622336864471436, 8.343427658081055, 11.604072570800781, -14.266024589538574, -13.882134437561035, 16.126224517822266, -10.617246627807617, -10.881675720214844, 22.12399673461914, 16.311315536499023, -10.634368896484375, 13.829872131347656, -13.178040504455566, -17.241348266601562, 3.499537944793701, -6.425912380218506, 19.562101364135742, -6.422038555145264, -14.64744758605957, 3.1498217582702637, -7.301350116729736, -5.145420551300049, 20.49087905883789, -11.182698249816895, 15.317670822143555, 12.897032737731934, 15.54897403717041, 0.47356748580932617, 19.797657012939453, 11.58836841583252, 19.83576202392578, 10.122099876403809, 14.571128845214844, 10.427206039428711, 20.576961517333984, -16.841588973999023, 13.278512954711914, 22.8204345703125, -1.8117401599884033, -6.907359600067139, -8.546308517456055, 2.056467056274414, -18.98012924194336, -8.951489448547363, 21.240585327148438, -9.493216514587402, 10.569096565246582, -2.004645824432373, -12.95062255859375, 11.783574104309082, -16.711650848388672, -10.266430854797363, 15.750374794006348, -9.551270484924316, 15.873431205749512, 9.805826187133789, -1.9620506763458252, -16.2131404876709, 0.9847399592399597, -18.944292068481445, 4.3435797691345215, -8.946194648742676, 5.23256778717041, 1.2339221239089966, -2.8525938987731934, -9.4207124710083, -11.881624221801758, -12.831603050231934, -18.671506881713867, -1.8289657831192017, -17.846956253051758, -8.807068824768066, 20.013776779174805, -1.6441009044647217, 19.94065284729004, -4.34318733215332, -12.86337947845459, -8.723621368408203, -14.39218521118164, -13.655694961547852, -18.75364112854004, -18.216293334960938, -9.327068328857422, -17.597036361694336, -4.97283411026001, -10.264200210571289, -6.829107284545898, -18.115089416503906, -18.289485931396484, 13.614665985107422, 4.256922245025635, -17.82439422607422, 1.7527886629104614, 15.260709762573242, -6.717637062072754, 17.699377059936523, -12.807241439819336, -11.111163139343262, -15.644930839538574, -17.509145736694336, 11.860730171203613, 7.629978179931641, 9.841866493225098, -0.9317721128463745, -7.435469150543213, -15.526827812194824, -13.988875389099121, 19.86638069152832, -5.13124418258667, 18.906158447265625, -6.202290058135986, 22.32012176513672, 0.04391903802752495, 0.021809915080666542, -3.1941452026367188, 20.72389793395996, -3.8528106212615967, -5.179304599761963, -13.516462326049805, -6.437283515930176, -10.744869232177734, -4.414791584014893, -17.229541778564453, 12.795334815979004, 22.426471710205078, 8.934038162231445, -19.53033447265625, -1.4182634353637695, 1.8635174036026, -15.455436706542969, -8.953859329223633, -4.614345073699951, -18.431123733520508, -7.557229995727539, -8.596929550170898, 8.989584922790527, -13.819653511047363, 15.96951675415039, 21.446578979492188, -9.80953311920166, 22.963905334472656, 21.469295501708984, 12.683636665344238, -14.352657318115234, 16.473499298095703, 15.927349090576172, -10.393765449523926, -2.0398991107940674, 4.5198655128479, -13.197492599487305, -5.811091899871826, 8.338384628295898, -2.7319135665893555, -10.040058135986328, 0.8635351061820984, 0.7022721171379089, -7.17544412612915, 8.524874687194824, -4.297622203826904, -18.274169921875, 2.9643335342407227, 21.651866912841797, -9.193531036376953, -7.543795585632324, 11.085134506225586, 18.282020568847656, -5.687332630157471, -15.231307029724121, 2.774423599243164, -2.095310688018799, -13.518665313720703, -10.181668281555176, 12.6857271194458, -11.921380043029785, -6.578916072845459, -10.023333549499512, -17.917293548583984, -3.7088658809661865, -5.748377799987793, -0.11693421751260757, 13.504938125610352, -8.490138053894043, -11.722830772399902, -6.02467679977417, -13.701216697692871, 1.823322057723999, 4.571287631988525, -5.571784496307373, -6.49860954284668, 19.604825973510742, -9.200787544250488, -9.472747802734375, -7.216506481170654, 5.530860424041748, -4.569827079772949, 0.9701035618782043, -6.599662780761719, -14.48447036743164, 0.4151495099067688, -7.3978705406188965, -16.900470733642578, -17.715368270874023, 12.011258125305176, 1.2695728540420532, 16.489713668823242, 19.772735595703125, -13.942110061645508, 4.416439056396484, -9.49344253540039, -13.484180450439453, -14.795696258544922, -15.681937217712402, 1.6476093530654907, 12.399744033813477, -16.469928741455078, -8.100998878479004, 12.8363618850708, -1.4420491456985474, 14.29127311706543, -9.562461853027344, 7.524972438812256, 16.795516967773438, 0.8985667824745178, 17.25180435180664, -11.991700172424316, -4.142357349395752, -10.712689399719238, -11.487666130065918, -11.527356147766113, -12.46811294555664, -12.740058898925781, -13.243773460388184, 18.814828872680664, 24.503421783447266, -13.681720733642578, -11.187987327575684, -14.954148292541504, 3.1371564865112305, 1.0951555967330933, -10.70460033416748, 15.832719802856445, 3.254668712615967, -7.122861862182617, 0.5511487126350403, -7.12651252746582, -16.435955047607422, -0.158559650182724, -6.998465538024902, 1.3932024240493774, -18.16769027709961, -3.990093469619751, 11.1580171585083, -12.64067554473877, -16.442140579223633, -2.7985780239105225, -11.639993667602539, -2.742090940475464, 4.271319389343262, -16.27814483642578, 16.960214614868164, -3.8401033878326416, -17.034130096435547, -12.251320838928223, -18.20719337463379, 18.987947463989258, -17.853336334228516, -14.13640308380127, 8.32164478302002, 2.8133773803710938, -11.517133712768555, 18.32090950012207, 17.170448303222656, -1.5812227725982666, 8.684342384338379, -3.655372381210327, 22.626985549926758, 3.1445350646972656, 3.1959476470947266, -1.743962287902832, 1.7936416864395142, -5.503554821014404, 10.716522216796875, -3.9096248149871826, -14.621586799621582, 7.444399356842041, -5.564434051513672, 8.401643753051758, -5.010921478271484, 14.371713638305664, 15.199795722961426, -2.7246992588043213, -3.600560188293457, 1.4434831142425537, 21.91322135925293, -14.681900024414062, -2.34489107131958, -4.598865509033203, -0.669304370880127, 2.3399569988250732, -10.80817699432373, -1.5902453660964966, -7.927614212036133, -3.226884126663208, -3.991234302520752, -12.662290573120117, 20.270357131958008, -0.24675367772579193, 17.930566787719727, 3.8437108993530273, 3.45910382270813, -10.628040313720703, 3.3097879886627197, 1.4110167026519775, 5.357630252838135, -6.609127521514893, -12.362564086914062, -4.417436599731445, -7.125992774963379, -12.026772499084473, -0.2916487753391266, -13.203362464904785, -8.122132301330566, -15.677358627319336, -6.679676055908203, -12.514294624328613, -8.724470138549805, -12.207043647766113, -10.95093059539795, -7.7155609130859375, -16.145925521850586, 1.0848779678344727, -10.531070709228516, -0.930109977722168, -16.643741607666016, 9.8235445022583, 20.401203155517578, 21.5257568359375, 20.587854385375977, 12.146482467651367, 18.926790237426758, -15.617292404174805]}],\n",
              "                        {\"height\": 500, \"margin\": {\"b\": 100, \"l\": 100, \"r\": 100, \"t\": 100}, \"template\": {\"data\": {\"bar\": [{\"error_x\": {\"color\": \"#f2f5fa\"}, \"error_y\": {\"color\": \"#f2f5fa\"}, \"marker\": {\"line\": {\"color\": \"rgb(17,17,17)\", \"width\": 0.5}}, \"type\": \"bar\"}], \"barpolar\": [{\"marker\": {\"line\": {\"color\": \"rgb(17,17,17)\", \"width\": 0.5}}, \"type\": \"barpolar\"}], \"carpet\": [{\"aaxis\": {\"endlinecolor\": \"#A2B1C6\", \"gridcolor\": \"#506784\", \"linecolor\": \"#506784\", \"minorgridcolor\": \"#506784\", \"startlinecolor\": \"#A2B1C6\"}, \"baxis\": {\"endlinecolor\": \"#A2B1C6\", \"gridcolor\": \"#506784\", \"linecolor\": \"#506784\", \"minorgridcolor\": \"#506784\", \"startlinecolor\": \"#A2B1C6\"}, \"type\": \"carpet\"}], \"choropleth\": [{\"colorbar\": {\"outlinewidth\": 0, \"ticks\": \"\"}, \"type\": \"choropleth\"}], \"contour\": [{\"colorbar\": {\"outlinewidth\": 0, \"ticks\": \"\"}, \"colorscale\": [[0.0, \"#0d0887\"], [0.1111111111111111, \"#46039f\"], [0.2222222222222222, \"#7201a8\"], [0.3333333333333333, \"#9c179e\"], [0.4444444444444444, \"#bd3786\"], [0.5555555555555556, \"#d8576b\"], [0.6666666666666666, \"#ed7953\"], [0.7777777777777778, \"#fb9f3a\"], [0.8888888888888888, \"#fdca26\"], [1.0, \"#f0f921\"]], \"type\": \"contour\"}], \"contourcarpet\": [{\"colorbar\": {\"outlinewidth\": 0, \"ticks\": \"\"}, \"type\": \"contourcarpet\"}], \"heatmap\": [{\"colorbar\": {\"outlinewidth\": 0, \"ticks\": \"\"}, \"colorscale\": [[0.0, \"#0d0887\"], [0.1111111111111111, \"#46039f\"], [0.2222222222222222, \"#7201a8\"], [0.3333333333333333, \"#9c179e\"], [0.4444444444444444, \"#bd3786\"], [0.5555555555555556, \"#d8576b\"], [0.6666666666666666, \"#ed7953\"], [0.7777777777777778, \"#fb9f3a\"], [0.8888888888888888, \"#fdca26\"], [1.0, \"#f0f921\"]], \"type\": \"heatmap\"}], \"heatmapgl\": [{\"colorbar\": {\"outlinewidth\": 0, \"ticks\": \"\"}, \"colorscale\": [[0.0, \"#0d0887\"], [0.1111111111111111, \"#46039f\"], [0.2222222222222222, \"#7201a8\"], [0.3333333333333333, \"#9c179e\"], [0.4444444444444444, \"#bd3786\"], [0.5555555555555556, \"#d8576b\"], [0.6666666666666666, \"#ed7953\"], [0.7777777777777778, \"#fb9f3a\"], [0.8888888888888888, \"#fdca26\"], [1.0, \"#f0f921\"]], \"type\": \"heatmapgl\"}], \"histogram\": [{\"marker\": {\"colorbar\": {\"outlinewidth\": 0, \"ticks\": \"\"}}, \"type\": \"histogram\"}], \"histogram2d\": [{\"colorbar\": {\"outlinewidth\": 0, \"ticks\": \"\"}, \"colorscale\": [[0.0, \"#0d0887\"], [0.1111111111111111, \"#46039f\"], [0.2222222222222222, \"#7201a8\"], [0.3333333333333333, \"#9c179e\"], [0.4444444444444444, \"#bd3786\"], [0.5555555555555556, \"#d8576b\"], [0.6666666666666666, \"#ed7953\"], [0.7777777777777778, \"#fb9f3a\"], [0.8888888888888888, \"#fdca26\"], [1.0, \"#f0f921\"]], \"type\": \"histogram2d\"}], \"histogram2dcontour\": [{\"colorbar\": {\"outlinewidth\": 0, \"ticks\": \"\"}, \"colorscale\": [[0.0, \"#0d0887\"], [0.1111111111111111, \"#46039f\"], [0.2222222222222222, \"#7201a8\"], [0.3333333333333333, \"#9c179e\"], [0.4444444444444444, \"#bd3786\"], [0.5555555555555556, \"#d8576b\"], [0.6666666666666666, \"#ed7953\"], [0.7777777777777778, \"#fb9f3a\"], [0.8888888888888888, \"#fdca26\"], [1.0, \"#f0f921\"]], \"type\": \"histogram2dcontour\"}], \"mesh3d\": [{\"colorbar\": {\"outlinewidth\": 0, \"ticks\": \"\"}, \"type\": \"mesh3d\"}], \"parcoords\": [{\"line\": {\"colorbar\": {\"outlinewidth\": 0, \"ticks\": \"\"}}, \"type\": \"parcoords\"}], \"pie\": [{\"automargin\": true, \"type\": \"pie\"}], \"scatter\": [{\"marker\": {\"line\": {\"color\": \"#283442\"}}, \"type\": \"scatter\"}], \"scatter3d\": [{\"line\": {\"colorbar\": {\"outlinewidth\": 0, \"ticks\": \"\"}}, \"marker\": {\"colorbar\": {\"outlinewidth\": 0, \"ticks\": \"\"}}, \"type\": \"scatter3d\"}], \"scattercarpet\": [{\"marker\": {\"colorbar\": {\"outlinewidth\": 0, \"ticks\": \"\"}}, \"type\": \"scattercarpet\"}], \"scattergeo\": [{\"marker\": {\"colorbar\": {\"outlinewidth\": 0, \"ticks\": \"\"}}, \"type\": \"scattergeo\"}], \"scattergl\": [{\"marker\": {\"line\": {\"color\": \"#283442\"}}, \"type\": \"scattergl\"}], \"scattermapbox\": [{\"marker\": {\"colorbar\": {\"outlinewidth\": 0, \"ticks\": \"\"}}, \"type\": \"scattermapbox\"}], \"scatterpolar\": [{\"marker\": {\"colorbar\": {\"outlinewidth\": 0, \"ticks\": \"\"}}, \"type\": \"scatterpolar\"}], \"scatterpolargl\": [{\"marker\": {\"colorbar\": {\"outlinewidth\": 0, \"ticks\": \"\"}}, \"type\": \"scatterpolargl\"}], \"scatterternary\": [{\"marker\": {\"colorbar\": {\"outlinewidth\": 0, \"ticks\": \"\"}}, \"type\": \"scatterternary\"}], \"surface\": [{\"colorbar\": {\"outlinewidth\": 0, \"ticks\": \"\"}, \"colorscale\": [[0.0, \"#0d0887\"], [0.1111111111111111, \"#46039f\"], [0.2222222222222222, \"#7201a8\"], [0.3333333333333333, \"#9c179e\"], [0.4444444444444444, \"#bd3786\"], [0.5555555555555556, \"#d8576b\"], [0.6666666666666666, \"#ed7953\"], [0.7777777777777778, \"#fb9f3a\"], [0.8888888888888888, \"#fdca26\"], [1.0, \"#f0f921\"]], \"type\": \"surface\"}], \"table\": [{\"cells\": {\"fill\": {\"color\": \"#506784\"}, \"line\": {\"color\": \"rgb(17,17,17)\"}}, \"header\": {\"fill\": {\"color\": \"#2a3f5f\"}, \"line\": {\"color\": \"rgb(17,17,17)\"}}, \"type\": \"table\"}]}, \"layout\": {\"annotationdefaults\": {\"arrowcolor\": \"#f2f5fa\", \"arrowhead\": 0, \"arrowwidth\": 1}, \"coloraxis\": {\"colorbar\": {\"outlinewidth\": 0, \"ticks\": \"\"}}, \"colorscale\": {\"diverging\": [[0, \"#8e0152\"], [0.1, \"#c51b7d\"], [0.2, \"#de77ae\"], [0.3, \"#f1b6da\"], [0.4, \"#fde0ef\"], [0.5, \"#f7f7f7\"], [0.6, \"#e6f5d0\"], [0.7, \"#b8e186\"], [0.8, \"#7fbc41\"], [0.9, \"#4d9221\"], [1, \"#276419\"]], \"sequential\": [[0.0, \"#0d0887\"], [0.1111111111111111, \"#46039f\"], [0.2222222222222222, \"#7201a8\"], [0.3333333333333333, \"#9c179e\"], [0.4444444444444444, \"#bd3786\"], [0.5555555555555556, \"#d8576b\"], [0.6666666666666666, \"#ed7953\"], [0.7777777777777778, \"#fb9f3a\"], [0.8888888888888888, \"#fdca26\"], [1.0, \"#f0f921\"]], \"sequentialminus\": [[0.0, \"#0d0887\"], [0.1111111111111111, \"#46039f\"], [0.2222222222222222, \"#7201a8\"], [0.3333333333333333, \"#9c179e\"], [0.4444444444444444, \"#bd3786\"], [0.5555555555555556, \"#d8576b\"], [0.6666666666666666, \"#ed7953\"], [0.7777777777777778, \"#fb9f3a\"], [0.8888888888888888, \"#fdca26\"], [1.0, \"#f0f921\"]]}, \"colorway\": [\"#636efa\", \"#EF553B\", \"#00cc96\", \"#ab63fa\", \"#FFA15A\", \"#19d3f3\", \"#FF6692\", \"#B6E880\", \"#FF97FF\", \"#FECB52\"], \"font\": {\"color\": \"#f2f5fa\"}, \"geo\": {\"bgcolor\": \"rgb(17,17,17)\", \"lakecolor\": \"rgb(17,17,17)\", \"landcolor\": \"rgb(17,17,17)\", \"showlakes\": true, \"showland\": true, \"subunitcolor\": \"#506784\"}, \"hoverlabel\": {\"align\": \"left\"}, \"hovermode\": \"closest\", \"mapbox\": {\"style\": \"dark\"}, \"paper_bgcolor\": \"rgb(17,17,17)\", \"plot_bgcolor\": \"rgb(17,17,17)\", \"polar\": {\"angularaxis\": {\"gridcolor\": \"#506784\", \"linecolor\": \"#506784\", \"ticks\": \"\"}, \"bgcolor\": \"rgb(17,17,17)\", \"radialaxis\": {\"gridcolor\": \"#506784\", \"linecolor\": \"#506784\", \"ticks\": \"\"}}, \"scene\": {\"xaxis\": {\"backgroundcolor\": \"rgb(17,17,17)\", \"gridcolor\": \"#506784\", \"gridwidth\": 2, \"linecolor\": \"#506784\", \"showbackground\": true, \"ticks\": \"\", \"zerolinecolor\": \"#C8D4E3\"}, \"yaxis\": {\"backgroundcolor\": \"rgb(17,17,17)\", \"gridcolor\": \"#506784\", \"gridwidth\": 2, \"linecolor\": \"#506784\", \"showbackground\": true, \"ticks\": \"\", \"zerolinecolor\": \"#C8D4E3\"}, \"zaxis\": {\"backgroundcolor\": \"rgb(17,17,17)\", \"gridcolor\": \"#506784\", \"gridwidth\": 2, \"linecolor\": \"#506784\", \"showbackground\": true, \"ticks\": \"\", \"zerolinecolor\": \"#C8D4E3\"}}, \"shapedefaults\": {\"line\": {\"color\": \"#f2f5fa\"}}, \"sliderdefaults\": {\"bgcolor\": \"#C8D4E3\", \"bordercolor\": \"rgb(17,17,17)\", \"borderwidth\": 1, \"tickwidth\": 0}, \"ternary\": {\"aaxis\": {\"gridcolor\": \"#506784\", \"linecolor\": \"#506784\", \"ticks\": \"\"}, \"baxis\": {\"gridcolor\": \"#506784\", \"linecolor\": \"#506784\", \"ticks\": \"\"}, \"bgcolor\": \"rgb(17,17,17)\", \"caxis\": {\"gridcolor\": \"#506784\", \"linecolor\": \"#506784\", \"ticks\": \"\"}}, \"title\": {\"x\": 0.05}, \"updatemenudefaults\": {\"bgcolor\": \"#506784\", \"borderwidth\": 0}, \"xaxis\": {\"automargin\": true, \"gridcolor\": \"#283442\", \"linecolor\": \"#506784\", \"ticks\": \"\", \"title\": {\"standoff\": 15}, \"zerolinecolor\": \"#283442\", \"zerolinewidth\": 2}, \"yaxis\": {\"automargin\": true, \"gridcolor\": \"#283442\", \"linecolor\": \"#506784\", \"ticks\": \"\", \"title\": {\"standoff\": 15}, \"zerolinecolor\": \"#283442\", \"zerolinewidth\": 2}}}, \"width\": 1000},\n",
              "                        {\"responsive\": true}\n",
              "                    ).then(function(){\n",
              "                            \n",
              "var gd = document.getElementById('709b1788-3abb-4707-86ce-dfbc252ac39f');\n",
              "var x = new MutationObserver(function (mutations, observer) {{\n",
              "        var display = window.getComputedStyle(gd).display;\n",
              "        if (!display || display === 'none') {{\n",
              "            console.log([gd, 'removed!']);\n",
              "            Plotly.purge(gd);\n",
              "            observer.disconnect();\n",
              "        }}\n",
              "}});\n",
              "\n",
              "// Listen for the removal of the full notebook cells\n",
              "var notebookContainer = gd.closest('#notebook-container');\n",
              "if (notebookContainer) {{\n",
              "    x.observe(notebookContainer, {childList: true});\n",
              "}}\n",
              "\n",
              "// Listen for the clearing of the current output cell\n",
              "var outputEl = gd.closest('.output');\n",
              "if (outputEl) {{\n",
              "    x.observe(outputEl, {childList: true});\n",
              "}}\n",
              "\n",
              "                        })\n",
              "                };\n",
              "                \n",
              "            </script>\n",
              "        </div>\n",
              "</body>\n",
              "</html>"
            ]
          },
          "metadata": {}
        }
      ]
    },
    {
      "cell_type": "markdown",
      "metadata": {
        "id": "5GDcP1Ws1bTV"
      },
      "source": [
        "SVD"
      ]
    },
    {
      "cell_type": "code",
      "metadata": {
        "id": "cMIIabe-1g3L"
      },
      "source": [
        "u, s, v = np.linalg.svd(standardized_data, full_matrices=True)"
      ],
      "execution_count": 35,
      "outputs": []
    },
    {
      "cell_type": "code",
      "metadata": {
        "colab": {
          "base_uri": "https://localhost:8080/"
        },
        "id": "R4pTfAVC1ljt",
        "outputId": "8360867b-e608-49e7-beb8-a1fb3893f650"
      },
      "source": [
        "variance_explained = np.round(s**2/np.sum(s**2), decimals=3)\n",
        "variance_explained"
      ],
      "execution_count": 37,
      "outputs": [
        {
          "output_type": "execute_result",
          "data": {
            "text/plain": [
              "array([0.443, 0.19 , 0.094, 0.066, 0.055, 0.04 , 0.023, 0.016, 0.014,\n",
              "       0.012, 0.01 , 0.009, 0.008, 0.005, 0.003, 0.003, 0.002, 0.002,\n",
              "       0.002, 0.001, 0.001, 0.001, 0.001, 0.001, 0.001, 0.   , 0.   ,\n",
              "       0.   , 0.   , 0.   ])"
            ]
          },
          "metadata": {},
          "execution_count": 37
        }
      ]
    },
    {
      "cell_type": "code",
      "metadata": {
        "id": "A0CYWEI31urc"
      },
      "source": [
        "row1=list(range(1,len(variance_explained)+1))"
      ],
      "execution_count": 38,
      "outputs": []
    },
    {
      "cell_type": "code",
      "metadata": {
        "colab": {
          "base_uri": "https://localhost:8080/",
          "height": 542
        },
        "id": "1sz_hwsU1xy8",
        "outputId": "e548f06b-3dc0-4ced-9baa-9eda11880dbd"
      },
      "source": [
        "\n",
        "fig = go.Figure(data=[go.Bar(\n",
        "    x=row1,\n",
        "    y=variance_explained)\n",
        "])\n",
        "  \n",
        "fig.update_layout(\n",
        "    xaxis=dict(\n",
        "        rangeselector=dict(\n",
        "            buttons=list([\n",
        "                dict(count=1,\n",
        "                     step=\"day\",\n",
        "                     stepmode=\"backward\"),\n",
        "            ])\n",
        "        ),\n",
        "        rangeslider=dict(\n",
        "            visible=True\n",
        "        ),\n",
        "    )\n",
        ")\n",
        "fig.layout.template = 'plotly_dark' \n",
        "fig.show()"
      ],
      "execution_count": 39,
      "outputs": [
        {
          "output_type": "display_data",
          "data": {
            "text/html": [
              "<html>\n",
              "<head><meta charset=\"utf-8\" /></head>\n",
              "<body>\n",
              "    <div>\n",
              "            <script src=\"https://cdnjs.cloudflare.com/ajax/libs/mathjax/2.7.5/MathJax.js?config=TeX-AMS-MML_SVG\"></script><script type=\"text/javascript\">if (window.MathJax) {MathJax.Hub.Config({SVG: {font: \"STIX-Web\"}});}</script>\n",
              "                <script type=\"text/javascript\">window.PlotlyConfig = {MathJaxConfig: 'local'};</script>\n",
              "        <script src=\"https://cdn.plot.ly/plotly-latest.min.js\"></script>    \n",
              "            <div id=\"32277f35-a265-4f2d-ad4b-ac7ca19e716a\" class=\"plotly-graph-div\" style=\"height:525px; width:100%;\"></div>\n",
              "            <script type=\"text/javascript\">\n",
              "                \n",
              "                    window.PLOTLYENV=window.PLOTLYENV || {};\n",
              "                    \n",
              "                if (document.getElementById(\"32277f35-a265-4f2d-ad4b-ac7ca19e716a\")) {\n",
              "                    Plotly.newPlot(\n",
              "                        '32277f35-a265-4f2d-ad4b-ac7ca19e716a',\n",
              "                        [{\"type\": \"bar\", \"x\": [1, 2, 3, 4, 5, 6, 7, 8, 9, 10, 11, 12, 13, 14, 15, 16, 17, 18, 19, 20, 21, 22, 23, 24, 25, 26, 27, 28, 29, 30], \"y\": [0.443, 0.19, 0.094, 0.066, 0.055, 0.04, 0.023, 0.016, 0.014, 0.012, 0.01, 0.009, 0.008, 0.005, 0.003, 0.003, 0.002, 0.002, 0.002, 0.001, 0.001, 0.001, 0.001, 0.001, 0.001, 0.0, 0.0, 0.0, 0.0, 0.0]}],\n",
              "                        {\"template\": {\"data\": {\"bar\": [{\"error_x\": {\"color\": \"#f2f5fa\"}, \"error_y\": {\"color\": \"#f2f5fa\"}, \"marker\": {\"line\": {\"color\": \"rgb(17,17,17)\", \"width\": 0.5}}, \"type\": \"bar\"}], \"barpolar\": [{\"marker\": {\"line\": {\"color\": \"rgb(17,17,17)\", \"width\": 0.5}}, \"type\": \"barpolar\"}], \"carpet\": [{\"aaxis\": {\"endlinecolor\": \"#A2B1C6\", \"gridcolor\": \"#506784\", \"linecolor\": \"#506784\", \"minorgridcolor\": \"#506784\", \"startlinecolor\": \"#A2B1C6\"}, \"baxis\": {\"endlinecolor\": \"#A2B1C6\", \"gridcolor\": \"#506784\", \"linecolor\": \"#506784\", \"minorgridcolor\": \"#506784\", \"startlinecolor\": \"#A2B1C6\"}, \"type\": \"carpet\"}], \"choropleth\": [{\"colorbar\": {\"outlinewidth\": 0, \"ticks\": \"\"}, \"type\": \"choropleth\"}], \"contour\": [{\"colorbar\": {\"outlinewidth\": 0, \"ticks\": \"\"}, \"colorscale\": [[0.0, \"#0d0887\"], [0.1111111111111111, \"#46039f\"], [0.2222222222222222, \"#7201a8\"], [0.3333333333333333, \"#9c179e\"], [0.4444444444444444, \"#bd3786\"], [0.5555555555555556, \"#d8576b\"], [0.6666666666666666, \"#ed7953\"], [0.7777777777777778, \"#fb9f3a\"], [0.8888888888888888, \"#fdca26\"], [1.0, \"#f0f921\"]], \"type\": \"contour\"}], \"contourcarpet\": [{\"colorbar\": {\"outlinewidth\": 0, \"ticks\": \"\"}, \"type\": \"contourcarpet\"}], \"heatmap\": [{\"colorbar\": {\"outlinewidth\": 0, \"ticks\": \"\"}, \"colorscale\": [[0.0, \"#0d0887\"], [0.1111111111111111, \"#46039f\"], [0.2222222222222222, \"#7201a8\"], [0.3333333333333333, \"#9c179e\"], [0.4444444444444444, \"#bd3786\"], [0.5555555555555556, \"#d8576b\"], [0.6666666666666666, \"#ed7953\"], [0.7777777777777778, \"#fb9f3a\"], [0.8888888888888888, \"#fdca26\"], [1.0, \"#f0f921\"]], \"type\": \"heatmap\"}], \"heatmapgl\": [{\"colorbar\": {\"outlinewidth\": 0, \"ticks\": \"\"}, \"colorscale\": [[0.0, \"#0d0887\"], [0.1111111111111111, \"#46039f\"], [0.2222222222222222, \"#7201a8\"], [0.3333333333333333, \"#9c179e\"], [0.4444444444444444, \"#bd3786\"], [0.5555555555555556, \"#d8576b\"], [0.6666666666666666, \"#ed7953\"], [0.7777777777777778, \"#fb9f3a\"], [0.8888888888888888, \"#fdca26\"], [1.0, \"#f0f921\"]], \"type\": \"heatmapgl\"}], \"histogram\": [{\"marker\": {\"colorbar\": {\"outlinewidth\": 0, \"ticks\": \"\"}}, \"type\": \"histogram\"}], \"histogram2d\": [{\"colorbar\": {\"outlinewidth\": 0, \"ticks\": \"\"}, \"colorscale\": [[0.0, \"#0d0887\"], [0.1111111111111111, \"#46039f\"], [0.2222222222222222, \"#7201a8\"], [0.3333333333333333, \"#9c179e\"], [0.4444444444444444, \"#bd3786\"], [0.5555555555555556, \"#d8576b\"], [0.6666666666666666, \"#ed7953\"], [0.7777777777777778, \"#fb9f3a\"], [0.8888888888888888, \"#fdca26\"], [1.0, \"#f0f921\"]], \"type\": \"histogram2d\"}], \"histogram2dcontour\": [{\"colorbar\": {\"outlinewidth\": 0, \"ticks\": \"\"}, \"colorscale\": [[0.0, \"#0d0887\"], [0.1111111111111111, \"#46039f\"], [0.2222222222222222, \"#7201a8\"], [0.3333333333333333, \"#9c179e\"], [0.4444444444444444, \"#bd3786\"], [0.5555555555555556, \"#d8576b\"], [0.6666666666666666, \"#ed7953\"], [0.7777777777777778, \"#fb9f3a\"], [0.8888888888888888, \"#fdca26\"], [1.0, \"#f0f921\"]], \"type\": \"histogram2dcontour\"}], \"mesh3d\": [{\"colorbar\": {\"outlinewidth\": 0, \"ticks\": \"\"}, \"type\": \"mesh3d\"}], \"parcoords\": [{\"line\": {\"colorbar\": {\"outlinewidth\": 0, \"ticks\": \"\"}}, \"type\": \"parcoords\"}], \"pie\": [{\"automargin\": true, \"type\": \"pie\"}], \"scatter\": [{\"marker\": {\"line\": {\"color\": \"#283442\"}}, \"type\": \"scatter\"}], \"scatter3d\": [{\"line\": {\"colorbar\": {\"outlinewidth\": 0, \"ticks\": \"\"}}, \"marker\": {\"colorbar\": {\"outlinewidth\": 0, \"ticks\": \"\"}}, \"type\": \"scatter3d\"}], \"scattercarpet\": [{\"marker\": {\"colorbar\": {\"outlinewidth\": 0, \"ticks\": \"\"}}, \"type\": \"scattercarpet\"}], \"scattergeo\": [{\"marker\": {\"colorbar\": {\"outlinewidth\": 0, \"ticks\": \"\"}}, \"type\": \"scattergeo\"}], \"scattergl\": [{\"marker\": {\"line\": {\"color\": \"#283442\"}}, \"type\": \"scattergl\"}], \"scattermapbox\": [{\"marker\": {\"colorbar\": {\"outlinewidth\": 0, \"ticks\": \"\"}}, \"type\": \"scattermapbox\"}], \"scatterpolar\": [{\"marker\": {\"colorbar\": {\"outlinewidth\": 0, \"ticks\": \"\"}}, \"type\": \"scatterpolar\"}], \"scatterpolargl\": [{\"marker\": {\"colorbar\": {\"outlinewidth\": 0, \"ticks\": \"\"}}, \"type\": \"scatterpolargl\"}], \"scatterternary\": [{\"marker\": {\"colorbar\": {\"outlinewidth\": 0, \"ticks\": \"\"}}, \"type\": \"scatterternary\"}], \"surface\": [{\"colorbar\": {\"outlinewidth\": 0, \"ticks\": \"\"}, \"colorscale\": [[0.0, \"#0d0887\"], [0.1111111111111111, \"#46039f\"], [0.2222222222222222, \"#7201a8\"], [0.3333333333333333, \"#9c179e\"], [0.4444444444444444, \"#bd3786\"], [0.5555555555555556, \"#d8576b\"], [0.6666666666666666, \"#ed7953\"], [0.7777777777777778, \"#fb9f3a\"], [0.8888888888888888, \"#fdca26\"], [1.0, \"#f0f921\"]], \"type\": \"surface\"}], \"table\": [{\"cells\": {\"fill\": {\"color\": \"#506784\"}, \"line\": {\"color\": \"rgb(17,17,17)\"}}, \"header\": {\"fill\": {\"color\": \"#2a3f5f\"}, \"line\": {\"color\": \"rgb(17,17,17)\"}}, \"type\": \"table\"}]}, \"layout\": {\"annotationdefaults\": {\"arrowcolor\": \"#f2f5fa\", \"arrowhead\": 0, \"arrowwidth\": 1}, \"coloraxis\": {\"colorbar\": {\"outlinewidth\": 0, \"ticks\": \"\"}}, \"colorscale\": {\"diverging\": [[0, \"#8e0152\"], [0.1, \"#c51b7d\"], [0.2, \"#de77ae\"], [0.3, \"#f1b6da\"], [0.4, \"#fde0ef\"], [0.5, \"#f7f7f7\"], [0.6, \"#e6f5d0\"], [0.7, \"#b8e186\"], [0.8, \"#7fbc41\"], [0.9, \"#4d9221\"], [1, \"#276419\"]], \"sequential\": [[0.0, \"#0d0887\"], [0.1111111111111111, \"#46039f\"], [0.2222222222222222, \"#7201a8\"], [0.3333333333333333, \"#9c179e\"], [0.4444444444444444, \"#bd3786\"], [0.5555555555555556, \"#d8576b\"], [0.6666666666666666, \"#ed7953\"], [0.7777777777777778, \"#fb9f3a\"], [0.8888888888888888, \"#fdca26\"], [1.0, \"#f0f921\"]], \"sequentialminus\": [[0.0, \"#0d0887\"], [0.1111111111111111, \"#46039f\"], [0.2222222222222222, \"#7201a8\"], [0.3333333333333333, \"#9c179e\"], [0.4444444444444444, \"#bd3786\"], [0.5555555555555556, \"#d8576b\"], [0.6666666666666666, \"#ed7953\"], [0.7777777777777778, \"#fb9f3a\"], [0.8888888888888888, \"#fdca26\"], [1.0, \"#f0f921\"]]}, \"colorway\": [\"#636efa\", \"#EF553B\", \"#00cc96\", \"#ab63fa\", \"#FFA15A\", \"#19d3f3\", \"#FF6692\", \"#B6E880\", \"#FF97FF\", \"#FECB52\"], \"font\": {\"color\": \"#f2f5fa\"}, \"geo\": {\"bgcolor\": \"rgb(17,17,17)\", \"lakecolor\": \"rgb(17,17,17)\", \"landcolor\": \"rgb(17,17,17)\", \"showlakes\": true, \"showland\": true, \"subunitcolor\": \"#506784\"}, \"hoverlabel\": {\"align\": \"left\"}, \"hovermode\": \"closest\", \"mapbox\": {\"style\": \"dark\"}, \"paper_bgcolor\": \"rgb(17,17,17)\", \"plot_bgcolor\": \"rgb(17,17,17)\", \"polar\": {\"angularaxis\": {\"gridcolor\": \"#506784\", \"linecolor\": \"#506784\", \"ticks\": \"\"}, \"bgcolor\": \"rgb(17,17,17)\", \"radialaxis\": {\"gridcolor\": \"#506784\", \"linecolor\": \"#506784\", \"ticks\": \"\"}}, \"scene\": {\"xaxis\": {\"backgroundcolor\": \"rgb(17,17,17)\", \"gridcolor\": \"#506784\", \"gridwidth\": 2, \"linecolor\": \"#506784\", \"showbackground\": true, \"ticks\": \"\", \"zerolinecolor\": \"#C8D4E3\"}, \"yaxis\": {\"backgroundcolor\": \"rgb(17,17,17)\", \"gridcolor\": \"#506784\", \"gridwidth\": 2, \"linecolor\": \"#506784\", \"showbackground\": true, \"ticks\": \"\", \"zerolinecolor\": \"#C8D4E3\"}, \"zaxis\": {\"backgroundcolor\": \"rgb(17,17,17)\", \"gridcolor\": \"#506784\", \"gridwidth\": 2, \"linecolor\": \"#506784\", \"showbackground\": true, \"ticks\": \"\", \"zerolinecolor\": \"#C8D4E3\"}}, \"shapedefaults\": {\"line\": {\"color\": \"#f2f5fa\"}}, \"sliderdefaults\": {\"bgcolor\": \"#C8D4E3\", \"bordercolor\": \"rgb(17,17,17)\", \"borderwidth\": 1, \"tickwidth\": 0}, \"ternary\": {\"aaxis\": {\"gridcolor\": \"#506784\", \"linecolor\": \"#506784\", \"ticks\": \"\"}, \"baxis\": {\"gridcolor\": \"#506784\", \"linecolor\": \"#506784\", \"ticks\": \"\"}, \"bgcolor\": \"rgb(17,17,17)\", \"caxis\": {\"gridcolor\": \"#506784\", \"linecolor\": \"#506784\", \"ticks\": \"\"}}, \"title\": {\"x\": 0.05}, \"updatemenudefaults\": {\"bgcolor\": \"#506784\", \"borderwidth\": 0}, \"xaxis\": {\"automargin\": true, \"gridcolor\": \"#283442\", \"linecolor\": \"#506784\", \"ticks\": \"\", \"title\": {\"standoff\": 15}, \"zerolinecolor\": \"#283442\", \"zerolinewidth\": 2}, \"yaxis\": {\"automargin\": true, \"gridcolor\": \"#283442\", \"linecolor\": \"#506784\", \"ticks\": \"\", \"title\": {\"standoff\": 15}, \"zerolinecolor\": \"#283442\", \"zerolinewidth\": 2}}}, \"xaxis\": {\"rangeselector\": {\"buttons\": [{\"count\": 1, \"step\": \"day\", \"stepmode\": \"backward\"}]}, \"rangeslider\": {\"visible\": true}}},\n",
              "                        {\"responsive\": true}\n",
              "                    ).then(function(){\n",
              "                            \n",
              "var gd = document.getElementById('32277f35-a265-4f2d-ad4b-ac7ca19e716a');\n",
              "var x = new MutationObserver(function (mutations, observer) {{\n",
              "        var display = window.getComputedStyle(gd).display;\n",
              "        if (!display || display === 'none') {{\n",
              "            console.log([gd, 'removed!']);\n",
              "            Plotly.purge(gd);\n",
              "            observer.disconnect();\n",
              "        }}\n",
              "}});\n",
              "\n",
              "// Listen for the removal of the full notebook cells\n",
              "var notebookContainer = gd.closest('#notebook-container');\n",
              "if (notebookContainer) {{\n",
              "    x.observe(notebookContainer, {childList: true});\n",
              "}}\n",
              "\n",
              "// Listen for the clearing of the current output cell\n",
              "var outputEl = gd.closest('.output');\n",
              "if (outputEl) {{\n",
              "    x.observe(outputEl, {childList: true});\n",
              "}}\n",
              "\n",
              "                        })\n",
              "                };\n",
              "                \n",
              "            </script>\n",
              "        </div>\n",
              "</body>\n",
              "</html>"
            ]
          },
          "metadata": {}
        }
      ]
    },
    {
      "cell_type": "markdown",
      "metadata": {
        "id": "pz38bXgB14iz"
      },
      "source": [
        "ISOMAP"
      ]
    },
    {
      "cell_type": "code",
      "metadata": {
        "id": "LCbHFdFI18ip"
      },
      "source": [
        "from sklearn.manifold import Isomap\n",
        "\n",
        "def Implement_ISOMAP(n, df,target):\n",
        "  model = Isomap(n_components=n)\n",
        "  isomap_df=model.fit_transform(df)\n",
        "  isomap_df.shape\n",
        "  col_labels= ['Component'+str(i) for i in range(1,n+1)]\n",
        "  isomap_df  = pd.DataFrame(isomap_df[:,0:n], index=target.tolist(), columns=col_labels)\n",
        "  isomap_df=isomap_df.reset_index()\n",
        "  isomap_df.rename(columns={'index':'Label'}, inplace=True)\n",
        "  return isomap_df"
      ],
      "execution_count": 40,
      "outputs": []
    },
    {
      "cell_type": "code",
      "metadata": {
        "colab": {
          "base_uri": "https://localhost:8080/",
          "height": 416
        },
        "id": "-yd2xMTH2JVE",
        "outputId": "e9c9d25d-b725-44ba-eb8a-7d1a0098de1e"
      },
      "source": [
        "isomap_df_2 = Implement_ISOMAP(2,standardized_data,df_tbl_target['target'])\n",
        "isomap_df_2\n"
      ],
      "execution_count": 41,
      "outputs": [
        {
          "output_type": "execute_result",
          "data": {
            "text/html": [
              "<div>\n",
              "<style scoped>\n",
              "    .dataframe tbody tr th:only-of-type {\n",
              "        vertical-align: middle;\n",
              "    }\n",
              "\n",
              "    .dataframe tbody tr th {\n",
              "        vertical-align: top;\n",
              "    }\n",
              "\n",
              "    .dataframe thead th {\n",
              "        text-align: right;\n",
              "    }\n",
              "</style>\n",
              "<table border=\"1\" class=\"dataframe\">\n",
              "  <thead>\n",
              "    <tr style=\"text-align: right;\">\n",
              "      <th></th>\n",
              "      <th>Label</th>\n",
              "      <th>Component1</th>\n",
              "      <th>Component2</th>\n",
              "    </tr>\n",
              "  </thead>\n",
              "  <tbody>\n",
              "    <tr>\n",
              "      <th>0</th>\n",
              "      <td>0</td>\n",
              "      <td>18.686317</td>\n",
              "      <td>-1.112162</td>\n",
              "    </tr>\n",
              "    <tr>\n",
              "      <th>1</th>\n",
              "      <td>0</td>\n",
              "      <td>7.618309</td>\n",
              "      <td>-4.432485</td>\n",
              "    </tr>\n",
              "    <tr>\n",
              "      <th>2</th>\n",
              "      <td>0</td>\n",
              "      <td>12.750257</td>\n",
              "      <td>-2.867353</td>\n",
              "    </tr>\n",
              "    <tr>\n",
              "      <th>3</th>\n",
              "      <td>0</td>\n",
              "      <td>10.646481</td>\n",
              "      <td>16.521931</td>\n",
              "    </tr>\n",
              "    <tr>\n",
              "      <th>4</th>\n",
              "      <td>0</td>\n",
              "      <td>8.516967</td>\n",
              "      <td>-5.098407</td>\n",
              "    </tr>\n",
              "    <tr>\n",
              "      <th>...</th>\n",
              "      <td>...</td>\n",
              "      <td>...</td>\n",
              "      <td>...</td>\n",
              "    </tr>\n",
              "    <tr>\n",
              "      <th>564</th>\n",
              "      <td>0</td>\n",
              "      <td>13.437204</td>\n",
              "      <td>-4.099471</td>\n",
              "    </tr>\n",
              "    <tr>\n",
              "      <th>565</th>\n",
              "      <td>0</td>\n",
              "      <td>9.542582</td>\n",
              "      <td>-6.441341</td>\n",
              "    </tr>\n",
              "    <tr>\n",
              "      <th>566</th>\n",
              "      <td>0</td>\n",
              "      <td>1.746194</td>\n",
              "      <td>-3.640382</td>\n",
              "    </tr>\n",
              "    <tr>\n",
              "      <th>567</th>\n",
              "      <td>0</td>\n",
              "      <td>17.249824</td>\n",
              "      <td>1.370319</td>\n",
              "    </tr>\n",
              "    <tr>\n",
              "      <th>568</th>\n",
              "      <td>1</td>\n",
              "      <td>-8.821857</td>\n",
              "      <td>-5.108044</td>\n",
              "    </tr>\n",
              "  </tbody>\n",
              "</table>\n",
              "<p>569 rows × 3 columns</p>\n",
              "</div>"
            ],
            "text/plain": [
              "     Label  Component1  Component2\n",
              "0        0   18.686317   -1.112162\n",
              "1        0    7.618309   -4.432485\n",
              "2        0   12.750257   -2.867353\n",
              "3        0   10.646481   16.521931\n",
              "4        0    8.516967   -5.098407\n",
              "..     ...         ...         ...\n",
              "564      0   13.437204   -4.099471\n",
              "565      0    9.542582   -6.441341\n",
              "566      0    1.746194   -3.640382\n",
              "567      0   17.249824    1.370319\n",
              "568      1   -8.821857   -5.108044\n",
              "\n",
              "[569 rows x 3 columns]"
            ]
          },
          "metadata": {},
          "execution_count": 41
        }
      ]
    },
    {
      "cell_type": "code",
      "metadata": {
        "colab": {
          "base_uri": "https://localhost:8080/",
          "height": 416
        },
        "id": "36ozPLL32NEX",
        "outputId": "89394956-56f7-4ce2-ef26-c6c6302fa9d2"
      },
      "source": [
        "isomap_df_3 = Implement_ISOMAP(3,standardized_data,df_tbl_target['target'])\n",
        "isomap_df_3"
      ],
      "execution_count": 42,
      "outputs": [
        {
          "output_type": "execute_result",
          "data": {
            "text/html": [
              "<div>\n",
              "<style scoped>\n",
              "    .dataframe tbody tr th:only-of-type {\n",
              "        vertical-align: middle;\n",
              "    }\n",
              "\n",
              "    .dataframe tbody tr th {\n",
              "        vertical-align: top;\n",
              "    }\n",
              "\n",
              "    .dataframe thead th {\n",
              "        text-align: right;\n",
              "    }\n",
              "</style>\n",
              "<table border=\"1\" class=\"dataframe\">\n",
              "  <thead>\n",
              "    <tr style=\"text-align: right;\">\n",
              "      <th></th>\n",
              "      <th>Label</th>\n",
              "      <th>Component1</th>\n",
              "      <th>Component2</th>\n",
              "      <th>Component3</th>\n",
              "    </tr>\n",
              "  </thead>\n",
              "  <tbody>\n",
              "    <tr>\n",
              "      <th>0</th>\n",
              "      <td>0</td>\n",
              "      <td>18.686317</td>\n",
              "      <td>-1.112162</td>\n",
              "      <td>-2.763330</td>\n",
              "    </tr>\n",
              "    <tr>\n",
              "      <th>1</th>\n",
              "      <td>0</td>\n",
              "      <td>7.618309</td>\n",
              "      <td>-4.432485</td>\n",
              "      <td>-2.057245</td>\n",
              "    </tr>\n",
              "    <tr>\n",
              "      <th>2</th>\n",
              "      <td>0</td>\n",
              "      <td>12.750257</td>\n",
              "      <td>-2.867353</td>\n",
              "      <td>-0.263168</td>\n",
              "    </tr>\n",
              "    <tr>\n",
              "      <th>3</th>\n",
              "      <td>0</td>\n",
              "      <td>10.646481</td>\n",
              "      <td>16.521931</td>\n",
              "      <td>-3.527657</td>\n",
              "    </tr>\n",
              "    <tr>\n",
              "      <th>4</th>\n",
              "      <td>0</td>\n",
              "      <td>8.516967</td>\n",
              "      <td>-5.098407</td>\n",
              "      <td>2.937676</td>\n",
              "    </tr>\n",
              "    <tr>\n",
              "      <th>...</th>\n",
              "      <td>...</td>\n",
              "      <td>...</td>\n",
              "      <td>...</td>\n",
              "      <td>...</td>\n",
              "    </tr>\n",
              "    <tr>\n",
              "      <th>564</th>\n",
              "      <td>0</td>\n",
              "      <td>13.437204</td>\n",
              "      <td>-4.099471</td>\n",
              "      <td>6.362498</td>\n",
              "    </tr>\n",
              "    <tr>\n",
              "      <th>565</th>\n",
              "      <td>0</td>\n",
              "      <td>9.542582</td>\n",
              "      <td>-6.441341</td>\n",
              "      <td>4.014569</td>\n",
              "    </tr>\n",
              "    <tr>\n",
              "      <th>566</th>\n",
              "      <td>0</td>\n",
              "      <td>1.746194</td>\n",
              "      <td>-3.640382</td>\n",
              "      <td>0.022003</td>\n",
              "    </tr>\n",
              "    <tr>\n",
              "      <th>567</th>\n",
              "      <td>0</td>\n",
              "      <td>17.249824</td>\n",
              "      <td>1.370319</td>\n",
              "      <td>-3.652856</td>\n",
              "    </tr>\n",
              "    <tr>\n",
              "      <th>568</th>\n",
              "      <td>1</td>\n",
              "      <td>-8.821857</td>\n",
              "      <td>-5.108044</td>\n",
              "      <td>1.282544</td>\n",
              "    </tr>\n",
              "  </tbody>\n",
              "</table>\n",
              "<p>569 rows × 4 columns</p>\n",
              "</div>"
            ],
            "text/plain": [
              "     Label  Component1  Component2  Component3\n",
              "0        0   18.686317   -1.112162   -2.763330\n",
              "1        0    7.618309   -4.432485   -2.057245\n",
              "2        0   12.750257   -2.867353   -0.263168\n",
              "3        0   10.646481   16.521931   -3.527657\n",
              "4        0    8.516967   -5.098407    2.937676\n",
              "..     ...         ...         ...         ...\n",
              "564      0   13.437204   -4.099471    6.362498\n",
              "565      0    9.542582   -6.441341    4.014569\n",
              "566      0    1.746194   -3.640382    0.022003\n",
              "567      0   17.249824    1.370319   -3.652856\n",
              "568      1   -8.821857   -5.108044    1.282544\n",
              "\n",
              "[569 rows x 4 columns]"
            ]
          },
          "metadata": {},
          "execution_count": 42
        }
      ]
    },
    {
      "cell_type": "code",
      "metadata": {
        "colab": {
          "base_uri": "https://localhost:8080/",
          "height": 517
        },
        "id": "Ojg-05-92RlN",
        "outputId": "be35ae1c-22e8-473b-d1f7-43c18c0a6c5e"
      },
      "source": [
        "\n",
        "fig = go.Figure(data=go.Scatter(\n",
        "        x = isomap_df_2.iloc[:,1],\n",
        "        y = isomap_df_2.iloc[:,2],\n",
        "        mode='markers',\n",
        "        marker=dict(\n",
        "            size=10,\n",
        "            color=isomap_df_2.iloc[:,0], #set color equal to a variable\n",
        "            colorscale = 'Viridis', # one of plotly colorscales\n",
        "            showscale=True,\n",
        "            line_width=1\n",
        "        )\n",
        "    ))\n",
        "fig.update_layout(margin=dict( l=100,r=100,b=100,t=100),width=1000,height=500)                 \n",
        "fig.layout.template = 'plotly_dark' \n",
        "    \n",
        "fig.show()"
      ],
      "execution_count": 44,
      "outputs": [
        {
          "output_type": "display_data",
          "data": {
            "text/html": [
              "<html>\n",
              "<head><meta charset=\"utf-8\" /></head>\n",
              "<body>\n",
              "    <div>\n",
              "            <script src=\"https://cdnjs.cloudflare.com/ajax/libs/mathjax/2.7.5/MathJax.js?config=TeX-AMS-MML_SVG\"></script><script type=\"text/javascript\">if (window.MathJax) {MathJax.Hub.Config({SVG: {font: \"STIX-Web\"}});}</script>\n",
              "                <script type=\"text/javascript\">window.PlotlyConfig = {MathJaxConfig: 'local'};</script>\n",
              "        <script src=\"https://cdn.plot.ly/plotly-latest.min.js\"></script>    \n",
              "            <div id=\"dfcda139-1f6e-402a-8b3b-e3ff434400ce\" class=\"plotly-graph-div\" style=\"height:500px; width:1000px;\"></div>\n",
              "            <script type=\"text/javascript\">\n",
              "                \n",
              "                    window.PLOTLYENV=window.PLOTLYENV || {};\n",
              "                    \n",
              "                if (document.getElementById(\"dfcda139-1f6e-402a-8b3b-e3ff434400ce\")) {\n",
              "                    Plotly.newPlot(\n",
              "                        'dfcda139-1f6e-402a-8b3b-e3ff434400ce',\n",
              "                        [{\"marker\": {\"color\": [0, 0, 0, 0, 0, 0, 0, 0, 0, 0, 0, 0, 0, 0, 0, 0, 0, 0, 0, 1, 1, 1, 0, 0, 0, 0, 0, 0, 0, 0, 0, 0, 0, 0, 0, 0, 0, 1, 0, 0, 0, 0, 0, 0, 0, 0, 1, 0, 1, 1, 1, 1, 1, 0, 0, 1, 0, 0, 1, 1, 1, 1, 0, 1, 0, 0, 1, 1, 1, 1, 0, 1, 0, 0, 1, 0, 1, 0, 0, 1, 1, 1, 0, 0, 1, 0, 0, 0, 1, 1, 1, 0, 1, 1, 0, 0, 1, 1, 1, 0, 0, 1, 1, 1, 1, 0, 1, 1, 0, 1, 1, 1, 1, 1, 1, 1, 1, 0, 0, 0, 1, 0, 0, 1, 1, 1, 0, 0, 1, 0, 1, 0, 0, 1, 0, 0, 1, 1, 0, 1, 1, 0, 1, 1, 1, 1, 0, 1, 1, 1, 1, 1, 1, 1, 1, 1, 0, 1, 1, 1, 1, 0, 0, 1, 0, 1, 1, 0, 0, 1, 1, 0, 0, 1, 1, 1, 1, 0, 1, 1, 0, 0, 0, 1, 0, 1, 0, 1, 1, 1, 0, 1, 1, 0, 0, 1, 0, 0, 0, 0, 1, 0, 0, 0, 1, 0, 1, 0, 1, 1, 0, 1, 0, 0, 0, 0, 1, 1, 0, 0, 1, 1, 1, 0, 1, 1, 1, 1, 1, 0, 0, 1, 1, 0, 1, 1, 0, 0, 1, 0, 1, 1, 1, 1, 0, 1, 1, 1, 1, 1, 0, 1, 0, 0, 0, 0, 0, 0, 0, 0, 0, 0, 0, 0, 0, 0, 1, 1, 1, 1, 1, 1, 0, 1, 0, 1, 1, 0, 1, 1, 0, 1, 0, 0, 1, 1, 1, 1, 1, 1, 1, 1, 1, 1, 1, 1, 1, 0, 1, 1, 0, 1, 0, 1, 1, 1, 1, 1, 1, 1, 1, 1, 1, 1, 1, 1, 1, 0, 1, 1, 1, 0, 1, 0, 1, 1, 1, 1, 0, 0, 0, 1, 1, 1, 1, 0, 1, 0, 1, 0, 1, 1, 1, 0, 1, 1, 1, 1, 1, 1, 1, 0, 0, 0, 1, 1, 1, 1, 1, 1, 1, 1, 1, 1, 1, 0, 0, 1, 0, 0, 0, 1, 0, 0, 1, 1, 1, 1, 1, 0, 1, 1, 1, 1, 1, 0, 1, 1, 1, 0, 1, 1, 0, 0, 1, 1, 1, 1, 1, 1, 0, 1, 1, 1, 1, 1, 1, 1, 0, 1, 1, 1, 1, 1, 0, 1, 1, 0, 1, 1, 1, 1, 1, 1, 1, 1, 1, 1, 1, 1, 0, 1, 0, 0, 1, 0, 1, 1, 1, 1, 1, 0, 1, 1, 0, 1, 0, 1, 1, 0, 1, 0, 1, 1, 1, 1, 1, 1, 1, 1, 0, 0, 1, 1, 1, 1, 1, 1, 0, 1, 1, 1, 1, 1, 1, 1, 1, 1, 1, 0, 1, 1, 1, 1, 1, 1, 1, 0, 1, 0, 1, 1, 0, 1, 1, 1, 1, 1, 0, 0, 1, 0, 1, 0, 1, 1, 1, 1, 1, 0, 1, 1, 0, 1, 0, 1, 0, 0, 1, 1, 1, 0, 1, 1, 1, 1, 1, 1, 1, 1, 1, 1, 1, 0, 1, 0, 0, 1, 1, 1, 1, 1, 1, 1, 1, 1, 1, 1, 1, 1, 1, 1, 1, 1, 1, 1, 1, 1, 1, 1, 1, 1, 0, 0, 0, 0, 0, 0, 1], \"colorscale\": [[0.0, \"#440154\"], [0.1111111111111111, \"#482878\"], [0.2222222222222222, \"#3e4989\"], [0.3333333333333333, \"#31688e\"], [0.4444444444444444, \"#26828e\"], [0.5555555555555556, \"#1f9e89\"], [0.6666666666666666, \"#35b779\"], [0.7777777777777778, \"#6ece58\"], [0.8888888888888888, \"#b5de2b\"], [1.0, \"#fde725\"]], \"line\": {\"width\": 1}, \"showscale\": true, \"size\": 10}, \"mode\": \"markers\", \"type\": \"scatter\", \"x\": [18.68631675572556, 7.618308645885657, 12.750257319420374, 10.64648133704474, 8.516967042752766, 4.95810614036925, 6.707119625151683, 5.454607741487299, 6.529186170223277, 10.201023964206591, 0.31578661678992004, 4.4854865531560275, 17.968826119059383, 0.9557274763377261, 7.889797698318978, 9.117919757810101, 0.718250058041118, 8.482076417086473, 10.78035481736075, -3.1817636960499085, -3.6457383696296746, -6.928016429514894, 9.621765436613652, 9.711451395226407, 11.027151003823016, 15.915737950835418, 6.703099381156537, 8.627736956491312, 7.372612887277308, 5.9398902469336905, 12.378715049143892, 6.5885581137833364, 9.970627361585105, 10.160958036326932, 5.037786314456991, 7.118317796122674, 2.648155498954053, -5.9624139740363, -4.016537964511992, 1.752869110847713, -3.1744905351785357, 1.4107452089717911, 17.628984292550168, 3.9014217911150095, 1.318352882819435, 11.733074353359346, -8.264139372150842, 5.177818043942882, -5.3051849951029055, -2.5408652424293297, -5.726646658389283, -5.913482293465248, -6.3184079762482455, 8.044246651304471, 0.6787735973185062, -6.548598203397535, 10.329172970113133, 5.0540096622938435, -7.402234575772291, -8.761459482406197, -6.328414377064971, -5.965030495993812, 10.772992369901562, -6.388973017719296, 4.378711611869311, 5.393514103713316, -5.3512543681466, -7.051006975954066, 5.573223939752518, -5.612123305382585, 7.638957343070063, -6.037787646336269, 11.382990919772384, -0.26638263051041244, -5.13056833690213, 6.3276917986876, -5.341949667930173, 15.607518112731608, 16.105751394979645, -3.9314620260335946, -3.4758210726196213, 2.5939083480570777, 21.39824632601218, 10.36350360934427, -5.9300010291117085, 8.402736664593302, -0.1867132968630508, 9.070723672855314, -1.7688469723742961, 0.13791591035560763, -2.343435146681951, -0.2956575817131488, -5.008324362185702, -3.3579269405200116, 5.922025673010393, 9.4305542407048, -6.1421448249218145, -7.579997885388321, -7.0869306628689985, 0.31130724513963504, -0.3425662846397428, -8.586816637465688, -4.929883868918944, -2.7975319127934584, -4.233881841369367, 7.819998134114022, -1.1811560109685182, -5.081047261266801, 23.648290893652696, -4.6864858971172705, -6.115942669752946, -3.367913343106532, 8.591798187069852, -3.0067672395901877, -6.2116102826331145, -4.398019116027804, -5.765503059265913, 7.936621901785232, 10.49700891216266, 2.3986746021342347, -7.041546078730687, 8.132230868123568, 23.962866066975057, -2.0793273816676585, -4.675581708338222, -4.8482004466210915, 1.7475199083203852, 4.742586346641158, 1.6736999178891128, 11.676737095236016, -3.6317265775098257, 7.1550510969746774, 5.152116610307203, -2.2187988765631697, 5.7742813367948616, -4.392325726643648, -5.953949942575545, -6.050417423380674, 6.832783607918469, -5.81763645036582, -8.1471973846224, 5.97276584653887, -5.447577435311164, -3.9250396994653505, -8.199062080182674, -4.135127369323864, 6.5672192961787, -2.9182546865016956, -0.6749029028728638, -4.71383393000685, -6.144421962366497, 2.274100074888639, 4.935597648495639, -6.761528208352211, -3.3671211486055093, -4.957662292943073, 9.675260749033674, 0.05725210388330348, -7.077185211615802, -8.782431854893813, -1.0450364801144731, 8.42406360481194, 12.255298627988129, -3.979725268414807, 10.552583134611215, -3.888782466061782, -8.223961587355921, 4.25393149502205, 13.005394052911859, -3.5138434627450463, -4.941219865691494, -0.9726553123387393, 5.657013394660797, -9.274821103394641, -8.977110813399642, -9.090280227625804, -1.0670338480276862, 4.945132427794343, -6.412646507215918, -8.050515385491797, 17.248281969326563, 15.54555328487053, 2.7491795985217267, -7.293669945113619, 0.3813634863020063, -8.872800680434764, 4.922038687242822, -5.713406604565487, -6.878010650450029, -6.430403067865716, 13.655730101825956, -5.359590808437429, -10.394231001957037, 3.751255339982526, 4.158571764495011, -5.098346852434457, 4.417389110827525, 2.7457233949493647, 7.521245444983169, 3.653703964964795, -3.0847317620457124, 5.215541976465736, 16.435873609114505, 6.419030911454095, -1.9939088279567159, -0.8576840772277051, -6.114952782646798, 3.161928458795985, 1.1352562628877936, -4.600306049855888, 10.730019970721347, -5.332791552167678, 23.29749554528036, 2.8939609028663837, 3.3484036688465104, 3.227118382643822, -1.3521971392501826, -5.5414869760623775, 9.661094736740818, 9.312548248957759, -7.181674170830388, -2.5445169671733234, -5.817789463648523, 4.445059608647427, -5.490248330643764, -4.759374562879563, -7.0426751110998635, -0.6574159800591707, -3.533010549675575, 6.832571411214782, 8.483653250801853, -6.442905657327252, -6.240279953139452, 7.576634097061217, -7.604339685147683, -4.630685912664352, 14.467222375232632, 7.684322125122624, -2.3299307006924295, 5.78042769942256, -3.9412190049830853, -6.816784698382016, 4.22641200213616, -2.907605320153786, 7.20663429410297, -7.740619999954182, -5.374767806374643, 1.772775672983392, -5.435209466602284, -5.104997066171945, 15.994783845464305, -6.275179567161937, 14.872695034972732, 6.081934055213724, 8.45140253232818, -0.9279735325983823, 13.107121382542646, 9.97929760605294, 17.807136815466563, 7.300095769868503, 7.234160654146008, 0.7886068239292366, 6.369565524088217, -1.6205471199299424, 5.616375622506023, 12.788740152962852, -3.0868114037547416, -3.1143826955840153, -5.11078200352009, -1.300512339585534, -6.71261980454891, -6.5603291792830225, 17.145286666913446, -8.301073153723172, 2.4662129249892026, -6.089108555853302, -8.518320017414483, 1.3943186643965828, -4.957982002376844, -4.935666007461159, 12.123169836592648, -8.300313506561395, 8.962429606756992, 5.175538374497669, -4.201915639103708, -7.31560975471953, -4.893286729290395, -6.668425454171431, -1.888089154257061, -7.0616525193120925, 1.104803029954325, 0.2864720563960037, -3.0663160598581345, -5.422850125062157, -6.39999652552709, -5.816148200409687, -9.463239314903566, -5.481968722935702, -3.7568800969128007, -9.288760050653028, 15.678087346293344, -5.198728269520093, 15.845190470053316, -6.836556867260576, -6.838463267486866, -5.334167394305056, -6.200838646053275, -9.996161888991697, -7.017272230557649, -8.320362141203022, -6.362633022028527, -5.236573447071541, -6.597320122361299, -5.710781322704237, -10.329283005518638, -8.732037463570007, -8.349942880941617, 6.69001816206412, 0.9664863339263253, -8.202847806556557, -3.6145808330935454, 5.312022725125824, -6.5197588359014595, 11.89790074737619, -5.953525641284736, -4.7350569774325795, -6.768550584871388, -8.982553657904809, 7.125296197738422, 3.60952283819536, 3.880517708547609, -1.2730039686373171, -9.232994155276737, -7.696583645045046, -5.658894858994871, 8.8133617199546, -7.000153801987678, 10.246092403704601, -5.584279656303655, 13.895425317322658, 0.8462158316597312, -4.848734250614453, -4.43557619997825, 10.782917982239821, -4.6984398553055415, -7.017603070704282, -6.051671399387881, -3.501185233373847, -7.440328616288105, -4.460365054618431, -7.84308883438338, 9.329700694123337, 19.42218586698955, 4.338819781544795, -7.62882295287005, -5.384055672005721, 0.40003861614492336, -5.151393031276357, -6.2358522671799195, -7.814252146117053, -7.253337172445677, -3.365417286603039, -4.144323432473184, -1.4888771773776373, -5.106902859673173, 7.03786489052899, 11.90852305079052, -4.406552182155977, 12.643135857383177, 15.730443893088548, 6.522639679662933, -4.469593489604217, 10.645837419874852, 9.183577358133883, -3.6193744234297305, -0.5363347710681347, 2.1163778752060804, -5.659064009601332, -3.338548115215623, 7.00270167503854, -4.373739566371801, -6.020333546515829, -3.585606425286198, -1.2960423970774273, -4.792588334524691, -1.272267337065958, -5.993190474447784, -5.09228299329303, -4.155395773024693, 10.09112022254482, -7.447772281968215, -9.934296792946908, 8.525812112355775, 13.27383063602842, -4.914936537771961, -4.909007284585402, -0.9220703889049945, -6.107343278064179, -6.809311883564714, -5.0075426312922175, 12.196199094019464, -7.381252694881487, -4.822246280718345, -4.876871978104188, -7.521675097727247, -5.251931359214434, -2.9064078242685363, -4.231160028588676, 7.713820488022344, -5.347090086955708, -6.345686871887426, -5.350182667922312, -7.871000630433531, -0.4141215472616153, -4.208178255072078, -4.351044982826425, -5.698890063829786, 13.833631212485729, -7.535393970363686, -7.00762335511002, -3.9641840303542404, 1.0327482487182897, -4.750736910150541, -0.0840761112890851, -4.2323913717714765, -7.341039069551068, -3.3491807165941436, -3.8379169212600375, -8.663513040633266, -7.223078449028524, 7.047861248149278, -1.7214247158517737, 11.080784714625503, 8.894566405043669, -3.9965640445041433, 2.517310539549943, -4.824915100598853, -5.465670444864332, -3.880687673171648, -5.069000696501985, -2.9931552214599138, 4.865402147368967, -7.145836386765859, -6.993769601008212, 6.210748925480552, -3.1432294989205967, 9.075001524216262, -3.1551264258461305, -2.51414597206299, 9.767851744737426, -3.4856714466390004, 7.3892670107027385, -5.441072889877409, -4.076694416269073, -4.71114556723604, -4.731953546181155, -6.048333859732153, -5.533888128711562, -4.764896933126872, -6.652755969893427, 6.84129820552372, 24.931825032013286, -3.958760090534621, -5.695803714229111, -5.0871322659295295, 0.1689868591913678, -1.4644354287306036, -8.188558925964392, 15.932925679654497, -0.39199452127247797, -5.049964555727185, -4.724271758641972, -2.6579916723218378, -7.250656248653465, -4.140770182520689, -5.017802069231805, -0.8406835196152858, -4.546234411622427, -4.995826821258917, 5.657272576605602, -5.571677960779853, -3.468554982016177, -1.7652697097036214, -4.5476913350071015, -1.7976568746522876, 3.9943356150866043, -3.0686657853845425, 10.140307975463799, -4.535775821902431, 0.044087539912760855, -6.263692360255626, -5.274489808249988, 6.614448101290695, -9.201741016943304, -4.490990732181204, -2.9193140683501406, 0.4418197799982305, -5.504791312172463, 8.483119043951577, 10.701309890103808, -2.806962194941762, 4.881269260817605, -3.719604755666524, 17.203791870363187, 0.7746152659611728, -2.5077459590625666, -3.1032016620622045, -3.5863172370228624, -1.6382289770361982, 7.168026572959036, -6.573719422816051, -4.04810876509, 5.1394226564674605, -2.851998548993345, -1.0808670720102502, -5.257582029336949, 7.4589597137358545, 8.28038260769707, -2.1597085779050698, -2.996331395705087, -5.844810287824817, 17.602742937774636, -7.89299135380569, -2.025168573484648, -6.921842431634159, -6.67110780839789, -0.6094118272987216, -6.149592730588657, -1.3203256032785469, -6.386504960918226, -3.9105208841928247, -2.805047401610848, -5.946157415985975, 8.075802711161515, -4.068781842976979, 12.434910186334617, -0.06644295179357018, 0.29516524138485645, -8.618739923218278, -2.8731659553749114, -3.463779225553201, 0.408220488977147, -2.415290578847492, -3.9800578324112195, -4.258771561850404, -3.176803360539285, -6.870276696708559, -4.602706065747892, -7.439394673293745, -5.329232767778886, -6.9574943435875936, -5.271051895234935, -5.681902483604787, -9.28699237343211, -5.452260745410291, -6.351590469277801, -7.773381579087882, -7.5263749598083995, -0.8190078176110376, -4.858706127979843, -2.6094246777570524, -8.717829992407836, 10.828396191066169, 18.941112459108925, 13.437203685996373, 9.542582412029688, 1.7461944751231138, 17.24982370604825, -8.821856518990128], \"y\": [-1.112162130804473, -4.432484998446243, -2.8673530108236123, 16.521931213629077, -5.098406968786461, 7.704131635350076, -3.4391233176118097, 5.413100334578457, 7.8475355026183875, 12.415082216274344, -5.534089077367444, 2.7427320043262404, -0.052222263726899996, -3.5458837742650204, 9.51886241520071, 7.5696405437729055, -3.6390062473569427, 5.017100238693059, -5.654045877599644, 0.170475262768821, 2.8032669620718917, 0.8988427329155808, 7.3904980639695, -8.236284951972024, -0.8517606823740469, 3.5796764670615397, 7.311732118938831, -4.2632911726636795, 4.1674639989024, -4.418169786729228, -0.7478491640700384, 8.264490202299399, 1.3430400579234196, -0.30544851890403985, 4.439137569735655, 1.6509666034162345, 3.9254293673249103, -6.077557935907903, -4.956436193840006, 3.8139329268170887, -4.375648339628735, 2.5150221906168158, 3.029855704894122, 3.88423262829051, 2.3107610945201964, -0.6775369709483826, 0.14066505736390916, 5.789050579284649, 0.8145356420311111, -3.20608337444833, -4.5942696875155145, -3.2354455022773037, -0.7873276221662637, -3.4833763358124035, -3.2756689063892326, -0.6473965862210369, -3.168891620954012, 4.270331317970493, -4.621031866621746, 2.551755744437569, 1.980789848108482, 4.634035691238505, 6.895309462212735, 1.958449648602249, 3.692197169847011, 2.4520229574707537, 2.610203720080806, -2.615393337872116, 15.30654709839316, -1.7770207609183568, -7.632540113290286, 10.686452215752459, 3.850464345733746, 2.4720873659711584, -0.2659246460373598, -4.438303484863064, 1.435889664657193, -1.891313715182113, 9.749926712260088, 0.020949777831862974, 3.218831016971512, 6.1765401801474225, -2.893239444002588, -3.320108950407305, 0.1572000514222035, -3.2647308829524953, 0.8538861549178834, -2.709940733106404, 2.4562875388664316, 3.1398113543415818, -4.394754787996627, -2.1699223826561305, -5.3715569219156, -2.031112086335103, 3.1945431520731455, -3.4474789395432306, -0.6745683787920993, 2.3919911067598263, 1.3467624945683125, 1.4867284042663962, -2.2165302710664068, 1.7645805190803612, -4.670151018012841, 2.601318566304571, 1.4017558497906746, 8.096737807268584, 2.4101402345921397, -2.1315153386042844, 1.0598911358449503, 0.9565082823866273, 4.818119318120303, 5.61864551493017, 9.998922096775829, 7.0972612676960445, 4.350445588742886, 1.1116287629676762, 4.988200850354724, 4.946541144872074, 5.960878541018666, -5.2244806379973525, 0.9628582578098173, -3.22621445678071, 1.4371713927435463, 1.5105677666196113, -1.5598988522347996, -2.4889384298248856, -1.2763852401834344, -7.477256937614284, 3.426912126519913, -2.112465529912352, 4.1448834226331925, -1.0447213066579013, -0.932938429583441, -0.6485103342111146, -4.643827020313288, -2.893699802431381, 1.1797522958140674, -0.009512832316150207, -1.8357110021536782, 4.2404899343516265, -1.0822345757321172, -4.192837027701612, 1.4232747794375238, 0.5623244906795927, -1.8342956737126452, 6.8613264106710385, 9.346972659645765, 1.4158882058381204, 0.5514640066871402, -4.085439828447418, 0.2888449846214173, 12.219805799332487, 17.332983968113794, -0.040639705512479786, 2.253142913865913, 0.1922573115409878, -3.098595990875, -6.848707276540711, -0.3265453214987785, -2.0134924192613277, 2.136130457683054, -5.773037302141032, -2.983758062319295, 4.403702144440094, -5.051513733341491, -4.98247414809444, -0.0006890653034357298, -5.669483228361946, -3.019968515036361, -3.265898484423841, 0.609816427757571, -2.9373827319998638, 3.5586689413652124, 3.935835238786658, -2.42450410385909, -0.5013513172408414, 10.617361701062102, 3.8093343777067483, -5.999336196190619, -2.247223658150984, -7.443091784368988, 0.7666628847483757, -2.441427019791653, 0.29447966392087915, 0.46879737829828716, 0.197291120696004, -4.10701549879897, -1.1580764020904906, -0.31122735964030784, -1.4274060117294542, 13.483330864118045, -1.8901333429600178, -7.518646489412351, 5.261472313136991, 4.08722832967661, -1.3322920093016206, 4.871354058690228, -7.213893374547523, -2.985936652416319, 2.533188894738694, 1.0625602643926397, -2.2099658722860704, -1.3438184824354873, 6.502553863469731, 0.7304753987547381, 0.8371762043085791, 0.5309634621841343, -6.573048374337345, 4.547099142212206, -0.61705692319661, -5.175652441239453, -0.39177385785423596, -11.105466993222006, 0.3434944894414762, 5.609772026728353, 5.947002416376469, 3.9276508441499174, 1.4870162859739844, -3.495989794639685, -8.358156352892738, 0.5566449386715349, 2.5788273571279556, 1.9692808207307069, 3.083872357957586, -1.5642011703985466, -0.7715535795049756, 0.44356611282349007, 0.7250505299892178, -2.123512886275911, 7.753959638543426, 1.5688264477190177, -6.175875072461237, -6.5088787506653745, -6.508295934183951, 2.386702084183116, -4.303601577594704, -6.825272897818383, -7.541930233705306, -2.2392425176873676, -5.581245843039872, -2.2104273647436536, -2.654143953908765, 10.265860435927467, -4.82058090053936, -2.487554883754611, 3.5419809731923535, -4.946747224508656, 5.002909421456726, 0.28105630691578604, 0.8359918702164505, -3.2383380514355378, -1.6891716064080002, 4.271862503176209, -1.3276538748950737, -3.8398719332600177, 1.4647282167797289, -2.082591985591792, 7.972955735500281, 5.019951827831045, 4.3406529120796655, -5.682619134352639, -5.678054511474423, -5.98651472456641, -6.017581113015052, -2.8840773115074465, -10.920982379790459, 2.112913091136251, -4.509813542933675, -1.2727264263715556, 5.697715037385662, -5.076106406688356, 0.9582251478686334, -2.8582954634934903, 0.6648987991844679, -5.796784661438929, 3.0516856521473628, -0.6228151335047907, -4.542314078752423, -4.216910619838704, -1.5436425288981062, -2.183014635785502, -0.9362815489928662, -1.738432589659095, 3.1409644990114125, -0.19812297010787525, -4.532273641005588, 3.093749567456836, -4.403250894674935, 7.267348072212514, -0.04566181417725189, 10.189566700030317, -0.31924329351736735, 2.571035174986431, -0.5022167286122642, -0.9341663333592997, -2.1349213675383862, -2.4052215895568776, -0.4047272958085231, -4.746066984949164, -0.18878708077379758, -2.0441155566590408, 0.7198369337367635, -0.10854539000928451, 1.492311200044551, -0.48158350477001416, -3.357454095104549, -2.0207310335183424, -1.3829572158311996, -5.4713350009347455, -4.029160965253913, -0.32014396759604685, -5.0282765179516975, 1.1761263754172275, -1.9006749642442655, 4.110667872510247, -4.1304342226764055, -3.076614851589439, -2.655703005170121, 11.961376207548355, -5.763865526284374, 6.402689444660647, -7.667774193086003, 2.0415539575029893, 1.7876442356301057, -0.30948875287990174, -1.0496872279590692, -3.443322420414936, -3.6097941849724053, 0.7092437348641104, 1.3572202462454541, 1.4409883742112195, 2.4380399101344974, -0.12589663858025502, -0.9096439389167618, -3.9864999704683313, -4.589840027562413, 4.067593868481236, -3.5998313429603934, 0.7543457046254636, -6.904420349610212, 1.4419794607781597, 3.9537211333894784, 3.1214724503748688, -4.020681670061488, 0.822268441211698, 6.5389771733102995, -1.9189335762934652, -0.4954477302367833, 1.22771090353369, 1.7752565624854608, -1.762511055653726, 9.602666333897384, -6.549808298005366, 0.774870688934805, 0.2282432629424305, 2.0785114684631742, 3.5127593794724272, -4.2305574786466, 1.553151301043637, 1.3368895196956825, -4.352447521146646, -3.8916763315556673, -0.6512913936678317, -4.226402894127962, -1.9631537446139178, -6.637631835609563, -2.832998562064429, 0.23308344029645184, -7.100836093118431, -4.434442277594205, 4.018489458676833, -1.2601156163266352, -3.374994074663283, -5.823861797989179, -2.1335785028744305, 1.6077286180585928, 10.500128325580283, -5.37871475752914, 0.3488571799731419, 10.775344510104954, 2.25608756761965, -0.510860160689519, 0.3270830213169465, 5.484133502433739, 0.5017140630546513, -2.774325106818852, 0.976762673232529, -4.812678262171999, 5.912257857467025, -3.1575370065313417, 0.8457476831820816, 2.0791884829970897, 3.206657470783977, -1.9731626410291694, 0.2553100256429324, -5.023782064611793, 0.757857849293301, -0.22264605685061017, -0.9413209676273422, 0.23828636320693877, 6.177703967387293, -0.5814034329454908, -2.1913628638369063, 0.5534605407158272, -2.4350414809004133, 2.320600630654588, -1.593424255786566, -1.1993561508451516, 0.092827406449241, 0.5561653662775958, -2.631601831160062, 0.31856978553079, -1.055609972060763, 1.5089598948152159, -4.557083347514764, 1.5797270429316297, 3.213794688167367, -3.0389836749559183, 0.6683886294027758, -1.3387398694666215, 1.6260969838408617, 6.466324213797695, 2.502988018180207, 1.115841841877752, 1.3424320111250723, -3.4421296744519854, 4.883306438235296, 1.6934329565785773, -2.3983782699730245, -3.307771635055872, 7.365727101100741, 5.625005025003546, -2.2665010511293646, -3.448853764239368, -2.638724218172465, 2.9581533602020698, -0.576212097046437, -1.7339725343340295, -4.586735078157169, -3.3574563138978, 4.370696909136559, -2.575981781466846, -3.8927975824238623, 0.9332843356627398, -3.1440261085490784, 2.3435041935502423, -3.4388956781712126, -2.0882601919943835, -2.5802232007479704, -7.270506007753124, 0.7624096722564924, -4.36459949677512, -2.6538206167305747, 0.19135693080176733, -1.54043172883008, -4.178110206765846, 1.1544747500218115, -4.2478219325497015, -4.7149488636781625, -5.074517327466197, -3.0526383849060723, -9.965553879117284, -5.392327967543538, -0.1898915055222204, -2.866325772735337, 6.7733448040013595, 0.4245644501335836, -1.1549174457194704, 5.188795570572815, 5.410817742226926, 1.0822100728310737, -3.7670205177870675, 0.034827513373283596, -2.670799450331163, 4.345989079378406, 1.5432088246166187, -0.9422638278312223, -3.4497169203535383, 2.110813459189254, 6.786466410386994, -0.2946341645281289, -4.406414567982341, 3.4725710773220024, -0.8631047251234878, 1.7194204261671473, 9.93950264485248, -4.301715973723343, -2.6578756258761707, 0.8840616494820593, -5.777320266760457, -2.9189512456372, -4.44007516227289, -3.8802493386611907, -3.632013117206043, -4.024567308043872, -3.539808762381109, 4.665865287039566, -0.1852446171129026, -4.550839106888028, -3.5160464469180135, 0.8168463132294297, 7.008508551535822, 1.7060001858429252, -5.834131696584054, 10.62895792423835, 10.899830577873916, 1.7170471271848697, 7.746302213735059, -3.6116984377811594, 6.710069945934507, 2.9440360952087503, -3.1839003832525465, 5.707022615071396, -0.8306290635812392, -3.070002289193759, 0.9199416504729171, -2.2447212218270263, -3.3166730901383406, 2.9981497393643894, 1.2325444763617839, 5.0415526762021985, -5.3672715766769565, -2.4477267805989213, 1.3688673326968277, 2.908803799518235, 3.2514803034989193, 2.4739789866370363, -1.2723991509436436, 4.9217599753241785, 1.7849498667700623, 0.9280620665604012, 1.360753214434122, -1.250816996394152, -4.920800101568611, 4.013381113595581, -3.824517682987075, 1.9964658878504125, 5.70289974697268, 1.0944510670255505, 9.30277286825259, 6.252159881041933, 4.132435866710423, -4.31460411428721, -5.052713032740144, 0.19756025641068278, -3.293301381678726, -0.10130664232235971, 4.056077057606929, -2.1717905251213376, -0.3150959818872816, -5.29632712243277, 1.9710055660479766, -4.7889318725425545, 1.4456575728393464, -3.5206436625217292, 3.2236233814474717, 1.7119196924887972, -1.3620989472518195, -0.5173790135317073, 1.508017367042083, -1.882035838830052, -5.248484402029808, 8.91292166425415, -1.1817908170293447, -4.099471160452599, -6.441340659208406, -3.640382297569187, 1.3703191248818591, -5.108043891426761]}],\n",
              "                        {\"height\": 500, \"margin\": {\"b\": 100, \"l\": 100, \"r\": 100, \"t\": 100}, \"template\": {\"data\": {\"bar\": [{\"error_x\": {\"color\": \"#f2f5fa\"}, \"error_y\": {\"color\": \"#f2f5fa\"}, \"marker\": {\"line\": {\"color\": \"rgb(17,17,17)\", \"width\": 0.5}}, \"type\": \"bar\"}], \"barpolar\": [{\"marker\": {\"line\": {\"color\": \"rgb(17,17,17)\", \"width\": 0.5}}, \"type\": \"barpolar\"}], \"carpet\": [{\"aaxis\": {\"endlinecolor\": \"#A2B1C6\", \"gridcolor\": \"#506784\", \"linecolor\": \"#506784\", \"minorgridcolor\": \"#506784\", \"startlinecolor\": \"#A2B1C6\"}, \"baxis\": {\"endlinecolor\": \"#A2B1C6\", \"gridcolor\": \"#506784\", \"linecolor\": \"#506784\", \"minorgridcolor\": \"#506784\", \"startlinecolor\": \"#A2B1C6\"}, \"type\": \"carpet\"}], \"choropleth\": [{\"colorbar\": {\"outlinewidth\": 0, \"ticks\": \"\"}, \"type\": \"choropleth\"}], \"contour\": [{\"colorbar\": {\"outlinewidth\": 0, \"ticks\": \"\"}, \"colorscale\": [[0.0, \"#0d0887\"], [0.1111111111111111, \"#46039f\"], [0.2222222222222222, \"#7201a8\"], [0.3333333333333333, \"#9c179e\"], [0.4444444444444444, \"#bd3786\"], [0.5555555555555556, \"#d8576b\"], [0.6666666666666666, \"#ed7953\"], [0.7777777777777778, \"#fb9f3a\"], [0.8888888888888888, \"#fdca26\"], [1.0, \"#f0f921\"]], \"type\": \"contour\"}], \"contourcarpet\": [{\"colorbar\": {\"outlinewidth\": 0, \"ticks\": \"\"}, \"type\": \"contourcarpet\"}], \"heatmap\": [{\"colorbar\": {\"outlinewidth\": 0, \"ticks\": \"\"}, \"colorscale\": [[0.0, \"#0d0887\"], [0.1111111111111111, \"#46039f\"], [0.2222222222222222, \"#7201a8\"], [0.3333333333333333, \"#9c179e\"], [0.4444444444444444, \"#bd3786\"], [0.5555555555555556, \"#d8576b\"], [0.6666666666666666, \"#ed7953\"], [0.7777777777777778, \"#fb9f3a\"], [0.8888888888888888, \"#fdca26\"], [1.0, \"#f0f921\"]], \"type\": \"heatmap\"}], \"heatmapgl\": [{\"colorbar\": {\"outlinewidth\": 0, \"ticks\": \"\"}, \"colorscale\": [[0.0, \"#0d0887\"], [0.1111111111111111, \"#46039f\"], [0.2222222222222222, \"#7201a8\"], [0.3333333333333333, \"#9c179e\"], [0.4444444444444444, \"#bd3786\"], [0.5555555555555556, \"#d8576b\"], [0.6666666666666666, \"#ed7953\"], [0.7777777777777778, \"#fb9f3a\"], [0.8888888888888888, \"#fdca26\"], [1.0, \"#f0f921\"]], \"type\": \"heatmapgl\"}], \"histogram\": [{\"marker\": {\"colorbar\": {\"outlinewidth\": 0, \"ticks\": \"\"}}, \"type\": \"histogram\"}], \"histogram2d\": [{\"colorbar\": {\"outlinewidth\": 0, \"ticks\": \"\"}, \"colorscale\": [[0.0, \"#0d0887\"], [0.1111111111111111, \"#46039f\"], [0.2222222222222222, \"#7201a8\"], [0.3333333333333333, \"#9c179e\"], [0.4444444444444444, \"#bd3786\"], [0.5555555555555556, \"#d8576b\"], [0.6666666666666666, \"#ed7953\"], [0.7777777777777778, \"#fb9f3a\"], [0.8888888888888888, \"#fdca26\"], [1.0, \"#f0f921\"]], \"type\": \"histogram2d\"}], \"histogram2dcontour\": [{\"colorbar\": {\"outlinewidth\": 0, \"ticks\": \"\"}, \"colorscale\": [[0.0, \"#0d0887\"], [0.1111111111111111, \"#46039f\"], [0.2222222222222222, \"#7201a8\"], [0.3333333333333333, \"#9c179e\"], [0.4444444444444444, \"#bd3786\"], [0.5555555555555556, \"#d8576b\"], [0.6666666666666666, \"#ed7953\"], [0.7777777777777778, \"#fb9f3a\"], [0.8888888888888888, \"#fdca26\"], [1.0, \"#f0f921\"]], \"type\": \"histogram2dcontour\"}], \"mesh3d\": [{\"colorbar\": {\"outlinewidth\": 0, \"ticks\": \"\"}, \"type\": \"mesh3d\"}], \"parcoords\": [{\"line\": {\"colorbar\": {\"outlinewidth\": 0, \"ticks\": \"\"}}, \"type\": \"parcoords\"}], \"pie\": [{\"automargin\": true, \"type\": \"pie\"}], \"scatter\": [{\"marker\": {\"line\": {\"color\": \"#283442\"}}, \"type\": \"scatter\"}], \"scatter3d\": [{\"line\": {\"colorbar\": {\"outlinewidth\": 0, \"ticks\": \"\"}}, \"marker\": {\"colorbar\": {\"outlinewidth\": 0, \"ticks\": \"\"}}, \"type\": \"scatter3d\"}], \"scattercarpet\": [{\"marker\": {\"colorbar\": {\"outlinewidth\": 0, \"ticks\": \"\"}}, \"type\": \"scattercarpet\"}], \"scattergeo\": [{\"marker\": {\"colorbar\": {\"outlinewidth\": 0, \"ticks\": \"\"}}, \"type\": \"scattergeo\"}], \"scattergl\": [{\"marker\": {\"line\": {\"color\": \"#283442\"}}, \"type\": \"scattergl\"}], \"scattermapbox\": [{\"marker\": {\"colorbar\": {\"outlinewidth\": 0, \"ticks\": \"\"}}, \"type\": \"scattermapbox\"}], \"scatterpolar\": [{\"marker\": {\"colorbar\": {\"outlinewidth\": 0, \"ticks\": \"\"}}, \"type\": \"scatterpolar\"}], \"scatterpolargl\": [{\"marker\": {\"colorbar\": {\"outlinewidth\": 0, \"ticks\": \"\"}}, \"type\": \"scatterpolargl\"}], \"scatterternary\": [{\"marker\": {\"colorbar\": {\"outlinewidth\": 0, \"ticks\": \"\"}}, \"type\": \"scatterternary\"}], \"surface\": [{\"colorbar\": {\"outlinewidth\": 0, \"ticks\": \"\"}, \"colorscale\": [[0.0, \"#0d0887\"], [0.1111111111111111, \"#46039f\"], [0.2222222222222222, \"#7201a8\"], [0.3333333333333333, \"#9c179e\"], [0.4444444444444444, \"#bd3786\"], [0.5555555555555556, \"#d8576b\"], [0.6666666666666666, \"#ed7953\"], [0.7777777777777778, \"#fb9f3a\"], [0.8888888888888888, \"#fdca26\"], [1.0, \"#f0f921\"]], \"type\": \"surface\"}], \"table\": [{\"cells\": {\"fill\": {\"color\": \"#506784\"}, \"line\": {\"color\": \"rgb(17,17,17)\"}}, \"header\": {\"fill\": {\"color\": \"#2a3f5f\"}, \"line\": {\"color\": \"rgb(17,17,17)\"}}, \"type\": \"table\"}]}, \"layout\": {\"annotationdefaults\": {\"arrowcolor\": \"#f2f5fa\", \"arrowhead\": 0, \"arrowwidth\": 1}, \"coloraxis\": {\"colorbar\": {\"outlinewidth\": 0, \"ticks\": \"\"}}, \"colorscale\": {\"diverging\": [[0, \"#8e0152\"], [0.1, \"#c51b7d\"], [0.2, \"#de77ae\"], [0.3, \"#f1b6da\"], [0.4, \"#fde0ef\"], [0.5, \"#f7f7f7\"], [0.6, \"#e6f5d0\"], [0.7, \"#b8e186\"], [0.8, \"#7fbc41\"], [0.9, \"#4d9221\"], [1, \"#276419\"]], \"sequential\": [[0.0, \"#0d0887\"], [0.1111111111111111, \"#46039f\"], [0.2222222222222222, \"#7201a8\"], [0.3333333333333333, \"#9c179e\"], [0.4444444444444444, \"#bd3786\"], [0.5555555555555556, \"#d8576b\"], [0.6666666666666666, \"#ed7953\"], [0.7777777777777778, \"#fb9f3a\"], [0.8888888888888888, \"#fdca26\"], [1.0, \"#f0f921\"]], \"sequentialminus\": [[0.0, \"#0d0887\"], [0.1111111111111111, \"#46039f\"], [0.2222222222222222, \"#7201a8\"], [0.3333333333333333, \"#9c179e\"], [0.4444444444444444, \"#bd3786\"], [0.5555555555555556, \"#d8576b\"], [0.6666666666666666, \"#ed7953\"], [0.7777777777777778, \"#fb9f3a\"], [0.8888888888888888, \"#fdca26\"], [1.0, \"#f0f921\"]]}, \"colorway\": [\"#636efa\", \"#EF553B\", \"#00cc96\", \"#ab63fa\", \"#FFA15A\", \"#19d3f3\", \"#FF6692\", \"#B6E880\", \"#FF97FF\", \"#FECB52\"], \"font\": {\"color\": \"#f2f5fa\"}, \"geo\": {\"bgcolor\": \"rgb(17,17,17)\", \"lakecolor\": \"rgb(17,17,17)\", \"landcolor\": \"rgb(17,17,17)\", \"showlakes\": true, \"showland\": true, \"subunitcolor\": \"#506784\"}, \"hoverlabel\": {\"align\": \"left\"}, \"hovermode\": \"closest\", \"mapbox\": {\"style\": \"dark\"}, \"paper_bgcolor\": \"rgb(17,17,17)\", \"plot_bgcolor\": \"rgb(17,17,17)\", \"polar\": {\"angularaxis\": {\"gridcolor\": \"#506784\", \"linecolor\": \"#506784\", \"ticks\": \"\"}, \"bgcolor\": \"rgb(17,17,17)\", \"radialaxis\": {\"gridcolor\": \"#506784\", \"linecolor\": \"#506784\", \"ticks\": \"\"}}, \"scene\": {\"xaxis\": {\"backgroundcolor\": \"rgb(17,17,17)\", \"gridcolor\": \"#506784\", \"gridwidth\": 2, \"linecolor\": \"#506784\", \"showbackground\": true, \"ticks\": \"\", \"zerolinecolor\": \"#C8D4E3\"}, \"yaxis\": {\"backgroundcolor\": \"rgb(17,17,17)\", \"gridcolor\": \"#506784\", \"gridwidth\": 2, \"linecolor\": \"#506784\", \"showbackground\": true, \"ticks\": \"\", \"zerolinecolor\": \"#C8D4E3\"}, \"zaxis\": {\"backgroundcolor\": \"rgb(17,17,17)\", \"gridcolor\": \"#506784\", \"gridwidth\": 2, \"linecolor\": \"#506784\", \"showbackground\": true, \"ticks\": \"\", \"zerolinecolor\": \"#C8D4E3\"}}, \"shapedefaults\": {\"line\": {\"color\": \"#f2f5fa\"}}, \"sliderdefaults\": {\"bgcolor\": \"#C8D4E3\", \"bordercolor\": \"rgb(17,17,17)\", \"borderwidth\": 1, \"tickwidth\": 0}, \"ternary\": {\"aaxis\": {\"gridcolor\": \"#506784\", \"linecolor\": \"#506784\", \"ticks\": \"\"}, \"baxis\": {\"gridcolor\": \"#506784\", \"linecolor\": \"#506784\", \"ticks\": \"\"}, \"bgcolor\": \"rgb(17,17,17)\", \"caxis\": {\"gridcolor\": \"#506784\", \"linecolor\": \"#506784\", \"ticks\": \"\"}}, \"title\": {\"x\": 0.05}, \"updatemenudefaults\": {\"bgcolor\": \"#506784\", \"borderwidth\": 0}, \"xaxis\": {\"automargin\": true, \"gridcolor\": \"#283442\", \"linecolor\": \"#506784\", \"ticks\": \"\", \"title\": {\"standoff\": 15}, \"zerolinecolor\": \"#283442\", \"zerolinewidth\": 2}, \"yaxis\": {\"automargin\": true, \"gridcolor\": \"#283442\", \"linecolor\": \"#506784\", \"ticks\": \"\", \"title\": {\"standoff\": 15}, \"zerolinecolor\": \"#283442\", \"zerolinewidth\": 2}}}, \"width\": 1000},\n",
              "                        {\"responsive\": true}\n",
              "                    ).then(function(){\n",
              "                            \n",
              "var gd = document.getElementById('dfcda139-1f6e-402a-8b3b-e3ff434400ce');\n",
              "var x = new MutationObserver(function (mutations, observer) {{\n",
              "        var display = window.getComputedStyle(gd).display;\n",
              "        if (!display || display === 'none') {{\n",
              "            console.log([gd, 'removed!']);\n",
              "            Plotly.purge(gd);\n",
              "            observer.disconnect();\n",
              "        }}\n",
              "}});\n",
              "\n",
              "// Listen for the removal of the full notebook cells\n",
              "var notebookContainer = gd.closest('#notebook-container');\n",
              "if (notebookContainer) {{\n",
              "    x.observe(notebookContainer, {childList: true});\n",
              "}}\n",
              "\n",
              "// Listen for the clearing of the current output cell\n",
              "var outputEl = gd.closest('.output');\n",
              "if (outputEl) {{\n",
              "    x.observe(outputEl, {childList: true});\n",
              "}}\n",
              "\n",
              "                        })\n",
              "                };\n",
              "                \n",
              "            </script>\n",
              "        </div>\n",
              "</body>\n",
              "</html>"
            ]
          },
          "metadata": {}
        }
      ]
    },
    {
      "cell_type": "code",
      "metadata": {
        "colab": {
          "base_uri": "https://localhost:8080/",
          "height": 517
        },
        "id": "S6Mvh94-2fk5",
        "outputId": "db58b3b8-2700-4af1-96f8-933eee6473a2"
      },
      "source": [
        "fig = go.Figure(data=[go.Scatter3d(\n",
        "        x=isomap_df_3.iloc[:,1],\n",
        "        y=isomap_df_3.iloc[:,2],\n",
        "        z=isomap_df_3.iloc[:,3],\n",
        "        mode='markers',\n",
        "        marker=dict(\n",
        "            size=5,\n",
        "            color=isomap_df_3.iloc[:,0],    # set color to label\n",
        "            colorscale='Viridis',         # choose a colorscale\n",
        "            opacity=1,\n",
        "            showscale=True,\n",
        "            line_width=1\n",
        "        )\n",
        "    )])\n",
        "  # figure layout\n",
        "fig.update_layout(margin=dict(l=50,r=50,b=50,t=50),width=1000,height=500)\n",
        "fig.layout.template = 'plotly_dark' \n",
        "    \n",
        "fig.show()"
      ],
      "execution_count": 45,
      "outputs": [
        {
          "output_type": "display_data",
          "data": {
            "text/html": [
              "<html>\n",
              "<head><meta charset=\"utf-8\" /></head>\n",
              "<body>\n",
              "    <div>\n",
              "            <script src=\"https://cdnjs.cloudflare.com/ajax/libs/mathjax/2.7.5/MathJax.js?config=TeX-AMS-MML_SVG\"></script><script type=\"text/javascript\">if (window.MathJax) {MathJax.Hub.Config({SVG: {font: \"STIX-Web\"}});}</script>\n",
              "                <script type=\"text/javascript\">window.PlotlyConfig = {MathJaxConfig: 'local'};</script>\n",
              "        <script src=\"https://cdn.plot.ly/plotly-latest.min.js\"></script>    \n",
              "            <div id=\"03bc34b1-b730-4d50-9fff-f1e9e105e877\" class=\"plotly-graph-div\" style=\"height:500px; width:1000px;\"></div>\n",
              "            <script type=\"text/javascript\">\n",
              "                \n",
              "                    window.PLOTLYENV=window.PLOTLYENV || {};\n",
              "                    \n",
              "                if (document.getElementById(\"03bc34b1-b730-4d50-9fff-f1e9e105e877\")) {\n",
              "                    Plotly.newPlot(\n",
              "                        '03bc34b1-b730-4d50-9fff-f1e9e105e877',\n",
              "                        [{\"marker\": {\"color\": [0, 0, 0, 0, 0, 0, 0, 0, 0, 0, 0, 0, 0, 0, 0, 0, 0, 0, 0, 1, 1, 1, 0, 0, 0, 0, 0, 0, 0, 0, 0, 0, 0, 0, 0, 0, 0, 1, 0, 0, 0, 0, 0, 0, 0, 0, 1, 0, 1, 1, 1, 1, 1, 0, 0, 1, 0, 0, 1, 1, 1, 1, 0, 1, 0, 0, 1, 1, 1, 1, 0, 1, 0, 0, 1, 0, 1, 0, 0, 1, 1, 1, 0, 0, 1, 0, 0, 0, 1, 1, 1, 0, 1, 1, 0, 0, 1, 1, 1, 0, 0, 1, 1, 1, 1, 0, 1, 1, 0, 1, 1, 1, 1, 1, 1, 1, 1, 0, 0, 0, 1, 0, 0, 1, 1, 1, 0, 0, 1, 0, 1, 0, 0, 1, 0, 0, 1, 1, 0, 1, 1, 0, 1, 1, 1, 1, 0, 1, 1, 1, 1, 1, 1, 1, 1, 1, 0, 1, 1, 1, 1, 0, 0, 1, 0, 1, 1, 0, 0, 1, 1, 0, 0, 1, 1, 1, 1, 0, 1, 1, 0, 0, 0, 1, 0, 1, 0, 1, 1, 1, 0, 1, 1, 0, 0, 1, 0, 0, 0, 0, 1, 0, 0, 0, 1, 0, 1, 0, 1, 1, 0, 1, 0, 0, 0, 0, 1, 1, 0, 0, 1, 1, 1, 0, 1, 1, 1, 1, 1, 0, 0, 1, 1, 0, 1, 1, 0, 0, 1, 0, 1, 1, 1, 1, 0, 1, 1, 1, 1, 1, 0, 1, 0, 0, 0, 0, 0, 0, 0, 0, 0, 0, 0, 0, 0, 0, 1, 1, 1, 1, 1, 1, 0, 1, 0, 1, 1, 0, 1, 1, 0, 1, 0, 0, 1, 1, 1, 1, 1, 1, 1, 1, 1, 1, 1, 1, 1, 0, 1, 1, 0, 1, 0, 1, 1, 1, 1, 1, 1, 1, 1, 1, 1, 1, 1, 1, 1, 0, 1, 1, 1, 0, 1, 0, 1, 1, 1, 1, 0, 0, 0, 1, 1, 1, 1, 0, 1, 0, 1, 0, 1, 1, 1, 0, 1, 1, 1, 1, 1, 1, 1, 0, 0, 0, 1, 1, 1, 1, 1, 1, 1, 1, 1, 1, 1, 0, 0, 1, 0, 0, 0, 1, 0, 0, 1, 1, 1, 1, 1, 0, 1, 1, 1, 1, 1, 0, 1, 1, 1, 0, 1, 1, 0, 0, 1, 1, 1, 1, 1, 1, 0, 1, 1, 1, 1, 1, 1, 1, 0, 1, 1, 1, 1, 1, 0, 1, 1, 0, 1, 1, 1, 1, 1, 1, 1, 1, 1, 1, 1, 1, 0, 1, 0, 0, 1, 0, 1, 1, 1, 1, 1, 0, 1, 1, 0, 1, 0, 1, 1, 0, 1, 0, 1, 1, 1, 1, 1, 1, 1, 1, 0, 0, 1, 1, 1, 1, 1, 1, 0, 1, 1, 1, 1, 1, 1, 1, 1, 1, 1, 0, 1, 1, 1, 1, 1, 1, 1, 0, 1, 0, 1, 1, 0, 1, 1, 1, 1, 1, 0, 0, 1, 0, 1, 0, 1, 1, 1, 1, 1, 0, 1, 1, 0, 1, 0, 1, 0, 0, 1, 1, 1, 0, 1, 1, 1, 1, 1, 1, 1, 1, 1, 1, 1, 0, 1, 0, 0, 1, 1, 1, 1, 1, 1, 1, 1, 1, 1, 1, 1, 1, 1, 1, 1, 1, 1, 1, 1, 1, 1, 1, 1, 1, 0, 0, 0, 0, 0, 0, 1], \"colorscale\": [[0.0, \"#440154\"], [0.1111111111111111, \"#482878\"], [0.2222222222222222, \"#3e4989\"], [0.3333333333333333, \"#31688e\"], [0.4444444444444444, \"#26828e\"], [0.5555555555555556, \"#1f9e89\"], [0.6666666666666666, \"#35b779\"], [0.7777777777777778, \"#6ece58\"], [0.8888888888888888, \"#b5de2b\"], [1.0, \"#fde725\"]], \"line\": {\"width\": 1}, \"opacity\": 1, \"showscale\": true, \"size\": 5}, \"mode\": \"markers\", \"type\": \"scatter3d\", \"x\": [18.68631675572559, 7.618308645885666, 12.750257319420399, 10.64648133704475, 8.516967042752778, 4.958106140369247, 6.707119625151691, 5.454607741487303, 6.529186170223283, 10.201023964206598, 0.31578661678992176, 4.485486553156029, 17.96882611905942, 0.9557274763377308, 7.889797698318986, 9.117919757810103, 0.7182500580411185, 8.482076417086475, 10.78035481736076, -3.1817636960499196, -3.645738369629679, -6.928016429514908, 9.621765436613655, 9.711451395226426, 11.027151003823027, 15.915737950835439, 6.703099381156542, 8.627736956491322, 7.372612887277317, 5.939890246933699, 12.3787150491439, 6.588558113783335, 9.970627361585114, 10.16095803632694, 5.037786314456992, 7.1183177961226765, 2.6481554989540554, -5.962413974036303, -4.01653796451199, 1.7528691108477101, -3.1744905351785353, 1.410745208971791, 17.628984292550182, 3.9014217911150104, 1.3183528828194326, 11.733074353359358, -8.264139372150854, 5.17781804394288, -5.305184995102911, -2.5408652424293323, -5.726646658389293, -5.913482293465252, -6.318407976248255, 8.044246651304485, 0.6787735973185083, -6.548598203397541, 10.329172970113142, 5.054009662293849, -7.402234575772298, -8.761459482406202, -6.328414377064971, -5.965030495993822, 10.772992369901573, -6.388973017719304, 4.378711611869314, 5.393514103713314, -5.351254368146605, -7.051006975954073, 5.573223939752501, -5.612123305382596, 7.6389573430700795, -6.03778764633628, 11.382990919772396, -0.2663826305104163, -5.1305683369021375, 6.327691798687606, -5.34194966793018, 15.607518112731622, 16.10575139497966, -3.931462026033601, -3.4758210726196235, 2.5939083480570746, 21.398246326012202, 10.363503609344288, -5.930001029111718, 8.402736664593318, -0.18671329686304933, 9.070723672855324, -1.7688469723742968, 0.13791591035560882, -2.3434351466819527, -0.2956575817131473, -5.008324362185705, -3.357926940520016, 5.922025673010401, 9.43055424070482, -6.1421448249218225, -7.579997885388333, -7.086930662869006, 0.3113072451396371, -0.34256628463974403, -8.586816637465695, -4.929883868918946, -2.7975319127934632, -4.233881841369368, 7.819998134114021, -1.1811560109685202, -5.081047261266808, 23.648290893652717, -4.6864858971172785, -6.1159426697529575, -3.367913343106538, 8.591798187069859, -3.0067672395901934, -6.211610282633126, -4.398019116027811, -5.7655030592659156, 7.936621901785234, 10.497008912162668, 2.398674602134242, -7.041546078730701, 8.132230868123578, 23.962866066975092, -2.0793273816676607, -4.6755817083382265, -4.848200446621098, 1.7475199083203854, 4.7425863466411675, 1.6736999178891105, 11.676737095236033, -3.631726577509831, 7.155051096974685, 5.152116610307207, -2.2187988765631763, 5.77428133679487, -4.392325726643652, -5.9539499425755515, -6.050417423380682, 6.832783607918482, -5.817636450365824, -8.147197384622416, 5.972765846538879, -5.447577435311169, -3.925039699465357, -8.199062080182689, -4.13512736932387, 6.567219296178705, -2.918254686501697, -0.6749029028728657, -4.713833930006855, -6.144421962366499, 2.2741000748886315, 4.935597648495626, -6.761528208352222, -3.367121148605519, -4.957662292943079, 9.67526074903368, 0.057252103883306475, -7.077185211615812, -8.782431854893824, -1.0450364801144725, 8.424063604811948, 12.25529862798815, -3.979725268414814, 10.55258313461123, -3.888782466061787, -8.223961587355932, 4.253931495022064, 13.005394052911875, -3.5138434627450494, -4.941219865691502, -0.9726553123387415, 5.657013394660798, -9.274821103394654, -8.977110813399646, -9.090280227625817, -1.0670338480276875, 4.945132427794346, -6.412646507215924, -8.050515385491805, 17.24828196932658, 15.545553284870554, 2.749179598521728, -7.2936699451136295, 0.3813634863020064, -8.872800680434771, 4.922038687242828, -5.713406604565488, -6.878010650450039, -6.430403067865727, 13.655730101825979, -5.359590808437433, -10.394231001957046, 3.751255339982532, 4.158571764495019, -5.0983468524344655, 4.417389110827527, 2.7457233949493722, 7.521245444983182, 3.653703964964799, -3.0847317620457146, 5.215541976465742, 16.435873609114534, 6.419030911454099, -1.993908827956718, -0.857684077227711, -6.114952782646805, 3.1619284587959933, 1.1352562628877927, -4.6003060498559005, 10.730019970721361, -5.332791552167685, 23.297495545280405, 2.8939609028663904, 3.3484036688465144, 3.227118382643823, -1.352197139250183, -5.541486976062384, 9.66109473674084, 9.312548248957777, -7.181674170830399, -2.5445169671733283, -5.817789463648526, 4.445059608647429, -5.49024833064377, -4.759374562879567, -7.042675111099877, -0.6574159800591727, -3.5330105496755797, 6.832571411214781, 8.48365325080186, -6.44290565732726, -6.2402799531394555, 7.576634097061232, -7.604339685147693, -4.630685912664357, 14.467222375232657, 7.68432212512264, -2.3299307006924326, 5.780427699422571, -3.9412190049830933, -6.816784698382021, 4.226412002136157, -2.9076053201537886, 7.206634294102979, -7.7406199999541965, -5.374767806374645, 1.7727756729833863, -5.43520946660229, -5.1049970661719515, 15.99478384546433, -6.27517956716195, 14.87269503497274, 6.081934055213732, 8.451402532328188, -0.9279735325983858, 13.107121382542665, 9.979297606052945, 17.807136815466578, 7.300095769868511, 7.234160654146022, 0.7886068239292378, 6.369565524088229, -1.6205471199299404, 5.616375622506033, 12.788740152962879, -3.086811403754744, -3.114382695584013, -5.1107820035201, -1.3005123395855376, -6.712619804548915, -6.560329179283029, 17.145286666913464, -8.301073153723179, 2.466212924989206, -6.089108555853314, -8.518320017414498, 1.3943186643965841, -4.957982002376848, -4.935666007461163, 12.123169836592673, -8.300313506561407, 8.962429606756999, 5.175538374497672, -4.201915639103716, -7.3156097547195325, -4.893286729290405, -6.668425454171444, -1.8880891542570684, -7.061652519312098, 1.1048030299543246, 0.2864720563960028, -3.0663160598581403, -5.42285012506216, -6.399996525527103, -5.816148200409697, -9.46323931490358, -5.481968722935709, -3.7568800969128042, -9.28876005065304, 15.67808734629336, -5.198728269520095, 15.845190470053346, -6.8365568672605885, -6.838463267486876, -5.334167394305057, -6.200838646053286, -9.99616188899171, -7.017272230557652, -8.320362141203026, -6.362633022028533, -5.23657344707155, -6.5973201223613085, -5.710781322704248, -10.329283005518649, -8.732037463570013, -8.349942880941622, 6.690018162064128, 0.9664863339263199, -8.20284780655656, -3.6145808330935534, 5.312022725125834, -6.51975883590147, 11.897900747376212, -5.953525641284748, -4.735056977432585, -6.768550584871389, -8.98255365790482, 7.125296197738427, 3.6095228381953635, 3.8805177085476115, -1.2730039686373227, -9.232994155276748, -7.696583645045052, -5.658894858994875, 8.813361719954607, -7.0001538019876905, 10.246092403704612, -5.584279656303657, 13.895425317322687, 0.8462158316597309, -4.848734250614457, -4.435576199978258, 10.782917982239839, -4.698439855305547, -7.017603070704288, -6.051671399387884, -3.5011852333738522, -7.440328616288115, -4.460365054618436, -7.843088834383389, 9.329700694123337, 19.422185866989587, 4.338819781544805, -7.628822952870057, -5.384055672005727, 0.40003861614492287, -5.151393031276365, -6.235852267179926, -7.814252146117063, -7.253337172445689, -3.365417286603041, -4.144323432473191, -1.4888771773776381, -5.106902859673185, 7.037864890529002, 11.908523050790535, -4.406552182155985, 12.643135857383195, 15.73044389308857, 6.522639679662943, -4.469593489604227, 10.645837419874866, 9.183577358133899, -3.6193744234297327, -0.5363347710681395, 2.1163778752060796, -5.659064009601333, -3.338548115215634, 7.00270167503854, -4.373739566371805, -6.0203335465158405, -3.5856064252862048, -1.2960423970774342, -4.7925883345247, -1.2722673370659572, -5.993190474447799, -5.092282993293036, -4.155395773024701, 10.091120222544841, -7.447772281968228, -9.934296792946917, 8.525812112355785, 13.27383063602843, -4.914936537771967, -4.909007284585404, -0.9220703889049954, -6.107343278064187, -6.80931188356472, -5.007542631292223, 12.19619909401947, -7.381252694881497, -4.822246280718348, -4.876871978104193, -7.521675097727258, -5.251931359214439, -2.9064078242685425, -4.231160028588684, 7.71382048802235, -5.3470900869557125, -6.345686871887432, -5.350182667922322, -7.87100063043354, -0.41412154726161626, -4.20817825507208, -4.35104498282643, -5.69889006382979, 13.833631212485747, -7.535393970363708, -7.007623355110027, -3.964184030354245, 1.032748248718285, -4.750736910150547, -0.08407611128908923, -4.232391371771474, -7.341039069551076, -3.349180716594151, -3.8379169212600406, -8.663513040633285, -7.223078449028531, 7.047861248149278, -1.7214247158517793, 11.080784714625516, 8.894566405043689, -3.9965640445041477, 2.517310539549944, -4.824915100598862, -5.465670444864337, -3.8806876731716526, -5.069000696501993, -2.9931552214599217, 4.865402147368974, -7.145836386765862, -6.993769601008213, 6.210748925480558, -3.1432294989206007, 9.075001524216272, -3.1551264258461353, -2.5141459720629897, 9.767851744737438, -3.4856714466390093, 7.389267010702748, -5.441072889877415, -4.076694416269086, -4.711145567236048, -4.731953546181156, -6.048333859732159, -5.533888128711565, -4.764896933126876, -6.652755969893432, 6.841298205523729, 24.931825032013325, -3.9587600905346223, -5.695803714229121, -5.087132265929532, 0.16898685919136308, -1.4644354287306074, -8.188558925964404, 15.932925679654526, -0.39199452127248124, -5.049964555727187, -4.724271758641977, -2.657991672321837, -7.250656248653475, -4.140770182520697, -5.0178020692318155, -0.8406835196152883, -4.546234411622431, -4.995826821258926, 5.657272576605605, -5.57167796077986, -3.468554982016181, -1.7652697097036263, -4.547691335007109, -1.7976568746522925, 3.9943356150866025, -3.068665785384541, 10.140307975463816, -4.535775821902438, 0.04408753991276137, -6.263692360255633, -5.274489808249993, 6.6144481012907095, -9.201741016943316, -4.490990732181203, -2.9193140683501424, 0.44181977999822747, -5.504791312172472, 8.483119043951591, 10.701309890103815, -2.8069621949417654, 4.881269260817604, -3.7196047556665257, 17.203791870363208, 0.7746152659611613, -2.507745959062579, -3.1032016620622134, -3.5863172370228686, -1.638228977036197, 7.168026572959041, -6.573719422816062, -4.048108765090005, 5.139422656467461, -2.8519985489933517, -1.08086707201025, -5.257582029336953, 7.458959713735864, 8.280382607697083, -2.1597085779050724, -2.99633139570509, -5.844810287824828, 17.602742937774668, -7.8929913538056935, -2.02516857348465, -6.921842431634168, -6.671107808397898, -0.6094118272987268, -6.1495927305886635, -1.3203256032785526, -6.386504960918232, -3.910520884192828, -2.805047401610854, -5.94615741598598, 8.075802711161524, -4.068781842976985, 12.434910186334635, -0.06644295179356774, 0.29516524138485306, -8.61873992321829, -2.873165955374918, -3.4637792255532087, 0.40822048897714586, -2.4152905788474897, -3.9800578324112212, -4.258771561850408, -3.176803360539288, -6.870276696708565, -4.6027060657479, -7.439394673293748, -5.329232767778892, -6.957494343587596, -5.27105189523494, -5.68190248360479, -9.28699237343212, -5.4522607454102925, -6.351590469277808, -7.7733815790878875, -7.526374959808408, -0.8190078176110372, -4.85870612797985, -2.609424677757053, -8.717829992407838, 10.828396191066176, 18.941112459108943, 13.437203685996401, 9.542582412029702, 1.7461944751231158, 17.249823706048264, -8.821856518990138], \"y\": [-1.1121621308044785, -4.432484998446245, -2.867353010823618, 16.5219312136291, -5.098406968786467, 7.704131635350082, -3.43912331761181, 5.4131003345784645, 7.847535502618395, 12.415082216274365, -5.534089077367449, 2.7427320043262413, -0.05222226372690019, -3.5458837742650258, 9.518862415200719, 7.569640543772907, -3.639006247356946, 5.017100238693064, -5.654045877599651, 0.17047526276882224, 2.803266962071896, 0.8988427329155817, 7.390498063969505, -8.23628495197203, -0.8517606823740506, 3.579676467061541, 7.311732118938839, -4.2632911726636875, 4.1674639989024085, -4.418169786729233, -0.7478491640700426, 8.264490202299408, 1.3430400579234196, -0.30544851890404223, 4.439137569735663, 1.6509666034162322, 3.925429367324913, -6.07755793590791, -4.956436193840014, 3.813932926817093, -4.3756483396287384, 2.5150221906168206, 3.029855704894122, 3.884232628290514, 2.310761094520198, -0.6775369709483812, 0.14066505736390805, 5.789050579284653, 0.8145356420311127, -3.2060833744483337, -4.594269687515519, -3.2354455022773068, -0.7873276221662626, -3.483376335812408, -3.275668906389236, -0.6473965862210368, -3.168891620954014, 4.270331317970501, -4.621031866621747, 2.551755744437572, 1.9807898481084805, 4.634035691238507, 6.895309462212739, 1.9584496486022474, 3.692197169847017, 2.4520229574707555, 2.610203720080807, -2.6153933378721184, 15.306547098393171, -1.7770207609183557, -7.632540113290294, 10.686452215752468, 3.8504643457337497, 2.4720873659711633, -0.26592464603735627, -4.43830348486307, 1.4358896646571953, -1.8913137151821149, 9.749926712260095, 0.020949777831863622, 3.2188310169715137, 6.176540180147429, -2.893239444002595, -3.3201089504073145, 0.1572000514222037, -3.264730882952497, 0.8538861549178832, -2.709940733106407, 2.4562875388664334, 3.139811354341585, -4.39475478799663, -2.1699223826561345, -5.371556921915605, -2.0311120863351046, 3.1945431520731513, -3.4474789395432395, -0.6745683787920976, 2.3919911067598254, 1.346762494568315, 1.4867284042663977, -2.2165302710664077, 1.76458051908036, -4.670151018012844, 2.601318566304572, 1.4017558497906752, 8.096737807268596, 2.4101402345921414, -2.131515338604285, 1.0598911358449508, 0.956508282386628, 4.818119318120306, 5.618645514930172, 9.998922096775843, 7.097261267696056, 4.3504455887428914, 1.1116287629676784, 4.988200850354731, 4.9465411448720795, 5.960878541018671, -5.224480637997356, 0.962858257809815, -3.2262144567807134, 1.4371713927435463, 1.5105677666196158, -1.5598988522347987, -2.488938429824885, -1.2763852401834366, -7.477256937614294, 3.426912126519921, -2.1124655299123547, 4.144883422633195, -1.0447213066579017, -0.9329384295834423, -0.648510334211115, -4.643827020313296, -2.8936998024313865, 1.1797522958140672, -0.009512832316146858, -1.8357110021536844, 4.2404899343516345, -1.0822345757321146, -4.192837027701618, 1.4232747794375251, 0.5623244906795967, -1.8342956737126468, 6.861326410671045, 9.34697265964577, 1.415888205838121, 0.5514640066871414, -4.085439828447423, 0.2888449846214166, 12.219805799332503, 17.33298396811382, -0.04063970551247663, 2.253142913865918, 0.19225731154099163, -3.098595990875006, -6.848707276540722, -0.3265453214987744, -2.013492419261325, 2.1361304576830533, -5.773037302141039, -2.9837580623193007, 4.403702144440094, -5.051513733341497, -4.982474148094445, -0.0006890653034353338, -5.669483228361957, -3.0199685150363655, -3.265898484423843, 0.6098164277575737, -2.9373827319998664, 3.5586689413652186, 3.935835238786663, -2.4245041038590873, -0.5013513172408413, 10.61736170106211, 3.8093343777067523, -5.999336196190623, -2.2472236581509852, -7.443091784369001, 0.7666628847483733, -2.4414270197916537, 0.2944796639208808, 0.4687973782982878, 0.19729112069600488, -4.1070154987989715, -1.1580764020904888, -0.3112273596403074, -1.4274060117294578, 13.483330864118058, -1.8901333429600187, -7.518646489412357, 5.261472313136996, 4.0872283296766145, -1.3322920093016224, 4.871354058690235, -7.213893374547534, -2.9859366524163207, 2.533188894738698, 1.0625602643926404, -2.209965872286072, -1.3438184824354953, 6.502553863469743, 0.7304753987547378, 0.8371762043085819, 0.5309634621841309, -6.573048374337352, 4.547099142212213, -0.6170569231966095, -5.175652441239461, -0.39177385785423624, -11.105466993222016, 0.34349448944147215, 5.609772026728357, 5.947002416376477, 3.927650844149917, 1.4870162859739877, -3.4959897946396894, -8.358156352892745, 0.556644938671536, 2.578827357127962, 1.9692808207307055, 3.083872357957589, -1.5642011703985486, -0.7715535795049758, 0.44356611282349095, 0.7250505299892193, -2.123512886275912, 7.753959638543432, 1.5688264477190215, -6.175875072461245, -6.508878750665386, -6.508295934183957, 2.38670208418312, -4.30360157759471, -6.825272897818385, -7.541930233705319, -2.23924251768737, -5.581245843039876, -2.2104273647436563, -2.6541439539087643, 10.265860435927475, -4.8205809005393645, -2.487554883754612, 3.5419809731923526, -4.946747224508662, 5.002909421456735, 0.2810563069157857, 0.835991870216453, -3.238338051435537, -1.6891716064080033, 4.271862503176209, -1.3276538748950728, -3.8398719332600213, 1.4647282167797302, -2.082591985591795, 7.9729557355002925, 5.019951827831044, 4.340652912079671, -5.682619134352646, -5.678054511474428, -5.986514724566421, -6.017581113015058, -2.8840773115074496, -10.92098237979048, 2.1129130911362473, -4.509813542933681, -1.272726426371556, 5.697715037385667, -5.076106406688359, 0.9582251478686359, -2.858295463493491, 0.66489879918447, -5.79678466143893, 3.0516856521473654, -0.6228151335047903, -4.542314078752426, -4.216910619838707, -1.543642528898105, -2.183014635785504, -0.9362815489928643, -1.7384325896591002, 3.1409644990114187, -0.19812297010787416, -4.532273641005594, 3.093749567456838, -4.403250894674933, 7.267348072212523, -0.0456618141772532, 10.189566700030321, -0.3192432935173675, 2.5710351749864375, -0.5022167286122641, -0.9341663333593004, -2.134921367538388, -2.4052215895568767, -0.404727295808523, -4.7460669849491675, -0.18878708077379686, -2.0441155566590488, 0.7198369337367642, -0.10854539000928903, 1.492311200044553, -0.4815835047700147, -3.357454095104552, -2.0207310335183433, -1.3829572158312007, -5.471335000934746, -4.029160965253916, -0.3201439675960434, -5.028276517951703, 1.1761263754172293, -1.9006749642442688, 4.110667872510245, -4.130434222676407, -3.0766148515894365, -2.655703005170123, 11.961376207548367, -5.7638655262843805, 6.402689444660649, -7.667774193086007, 2.041553957502992, 1.7876442356301063, -0.30948875287990063, -1.0496872279590685, -3.443322420414941, -3.6097941849724036, 0.7092437348641112, 1.357220246245449, 1.44098837421122, 2.4380399101344996, -0.1258966385802532, -0.9096439389167579, -3.9864999704683366, -4.589840027562424, 4.067593868481241, -3.5998313429603965, 0.7543457046254631, -6.904420349610223, 1.441979460778162, 3.953721133389481, 3.1214724503748696, -4.020681670061498, 0.8222684412116973, 6.538977173310304, -1.9189335762934694, -0.49544773023678157, 1.2277109035336902, 1.775256562485462, -1.7625110556537256, 9.60266633389739, -6.5498082980053765, 0.7748706889348044, 0.2282432629424334, 2.0785114684631742, 3.512759379472431, -4.230557478646607, 1.5531513010436349, 1.3368895196956825, -4.352447521146652, -3.8916763315556717, -0.6512913936678322, -4.226402894127965, -1.9631537446139191, -6.637631835609573, -2.832998562064435, 0.2330834402964523, -7.100836093118445, -4.434442277594213, 4.018489458676839, -1.260115616326634, -3.374994074663283, -5.823861797989185, -2.1335785028744314, 1.607728618058596, 10.500128325580286, -5.378714757529147, 0.34885717997314336, 10.775344510104969, 2.2560875676196512, -0.5108601606895192, 0.3270830213169489, 5.484133502433747, 0.5017140630546543, -2.774325106818857, 0.97676267323253, -4.812678262172005, 5.912257857467028, -3.15753700653135, 0.8457476831820842, 2.0791884829970937, 3.2066574707839814, -1.9731626410291772, 0.2553100256429323, -5.023782064611799, 0.7578578492933027, -0.22264605685060918, -0.941320967627343, 0.2382863632069395, 6.177703967387302, -0.5814034329454913, -2.1913628638369076, 0.5534605407158295, -2.435041480900415, 2.32060063065459, -1.5934242557865663, -1.1993561508451531, 0.09282740644923747, 0.5561653662775962, -2.6316018311600664, 0.3185697855307909, -1.0556099720607632, 1.5089598948152172, -4.55708334751477, 1.5797270429316288, 3.2137946881673676, -3.0389836749559196, 0.6683886294027763, -1.338739869466623, 1.626096983840864, 6.466324213797709, 2.5029880181802113, 1.1158418418777534, 1.3424320111250703, -3.4421296744519885, 4.883306438235299, 1.6934329565785764, -2.398378269973027, -3.3077716350558743, 7.365727101100747, 5.625005025003548, -2.266501051129373, -3.448853764239374, -2.6387242181724653, 2.9581533602020755, -0.5762120970464356, -1.7339725343340324, -4.586735078157173, -3.357456313897804, 4.370696909136564, -2.5759817814668473, -3.8927975824238596, 0.9332843356627425, -3.1440261085490837, 2.3435041935502445, -3.4388956781712174, -2.0882601919943844, -2.580223200747969, -7.27050600775313, 0.7624096722564921, -4.3645994967751225, -2.6538206167305805, 0.1913569308017672, -1.5404317288300795, -4.1781102067658535, 1.154474750021814, -4.247821932549706, -4.71494886367817, -5.074517327466208, -3.052638384906078, -9.965553879117293, -5.392327967543542, -0.18989150552221887, -2.8663257727353386, 6.773344804001371, 0.42456445013358457, -1.1549174457194757, 5.188795570572818, 5.410817742226927, 1.0822100728310726, -3.767020517787074, 0.0348275133732853, -2.6707994503311703, 4.345989079378415, 1.5432088246166202, -0.9422638278312214, -3.4497169203535414, 2.110813459189258, 6.786466410387004, -0.29463416452812713, -4.406414567982343, 3.472571077322009, -0.863104725123487, 1.7194204261671497, 9.939502644852492, -4.301715973723348, -2.6578756258761747, 0.8840616494820581, -5.777320266760456, -2.9189512456372038, -4.440075162272892, -3.8802493386611925, -3.6320131172060472, -4.024567308043877, -3.5398087623811128, 4.665865287039573, -0.18524461711290316, -4.550839106888037, -3.516046446918019, 0.8168463132294298, 7.00850855153583, 1.7060001858429208, -5.834131696584063, 10.628957924238373, 10.899830577873926, 1.7170471271848722, 7.746302213735065, -3.61169843778116, 6.710069945934519, 2.9440360952087516, -3.1839003832525483, 5.707022615071404, -0.8306290635812394, -3.070002289193761, 0.919941650472913, -2.2447212218270263, -3.3166730901383445, 2.9981497393643957, 1.2325444763617859, 5.041552676202202, -5.36727157667696, -2.447726780598925, 1.3688673326968277, 2.9088037995182368, 3.251480303498925, 2.4739789866370385, -1.2723991509436463, 4.921759975324187, 1.7849498667700623, 0.928062066560401, 1.3607532144341234, -1.2508169963941516, -4.920800101568618, 4.013381113595584, -3.8245176829870804, 1.9964658878504158, 5.702899746972688, 1.094451067025549, 9.302772868252598, 6.2521598810419405, 4.132435866710426, -4.3146041142872145, -5.052713032740151, 0.19756025641067979, -3.2933013816787313, -0.1013066423223561, 4.056077057606938, -2.1717905251213376, -0.31509598188728355, -5.296327122432776, 1.971005566047974, -4.788931872542563, 1.4456575728393495, -3.520643662521731, 3.2236233814474744, 1.7119196924888012, -1.3620989472518188, -0.5173790135317072, 1.5080173670420824, -1.8820358388300533, -5.2484844020298125, 8.912921664254165, -1.1817908170293498, -4.099471160452602, -6.441340659208417, -3.640382297569187, 1.3703191248818565, -5.108043891426766], \"z\": [-2.7633302593241558, -2.057244708183273, -0.26316787534474334, -3.5276569684595853, 2.937675761512922, -4.303188079791361, -1.91028448446694, -1.2478102227286887, -4.458220544682978, -7.4294302568896935, -1.2502952724266876, -3.9592388398199585, 9.850093016933155, 3.553135200994121, -4.712150099928201, -4.296586102404135, -1.8783901615995346, -2.963921354479989, -1.781210797839115, -2.831547854234372, -3.227241133560714, 0.2193135488381719, -0.7925089040710492, -1.7767669545071432, -1.2954627652535995, -1.389771196729312, -4.789759121575521, 6.3082864304676285, -3.977501376101946, 0.16423751464946562, -0.49149315467396726, -5.07210486960588, -0.9093457091246869, -4.020907429737991, -4.534971942950636, -1.607314809488537, -2.459892668739737, 0.6670837403178528, 5.889922710894646, -3.6914993948506063, -1.839177691007185, -0.6607475538710371, 6.963143052192704, -2.9595059743424237, -4.288041181358214, -2.301112779761101, 1.7855964404349698, -3.068782125381155, -1.6256658794587904, -0.31895548041967875, 0.92852178759879, -1.6726238252300447, -1.5328775829614976, 3.3729051190095007, -2.2240867119309597, -0.16013114950118576, 0.4898436233813461, -2.6681828598235215, -0.34837000174140864, -0.25810614996973613, 3.467109380123545, 3.3844908628208317, -1.4910818739299165, 6.689042136629715, -1.0156524200694605, -1.1824602436324245, 2.334910405798438, -0.8094816436995617, 4.218130064723816, -2.132929450208756, -1.3633317751559775, 5.908007333990457, -3.89303197818427, -4.068186700888237, -1.6561013584690476, 1.9406058296649285, 0.24593618473372764, -1.3426765793042417, 2.801381891199709, -1.507196811251787, 2.1620605941388096, -3.5804910030232646, 0.06506795443298793, 10.19927590774556, -0.5656268819724277, 3.6888365408257338, 3.4807344954605557, -1.9446286760811333, 1.0229959092460614, 0.4754857443285422, 0.7753539913231334, 0.8511634795435261, -3.2706413011857003, -0.8672754199039193, -1.0482083141492509, 5.219757639755064, -0.602252952814861, 1.5564780544865182, -1.1583468032397313, 1.334774551366968, -1.4760679737873479, 2.743666071403861, 0.7722576017324713, 0.03435853171604544, 4.385089201786356, -4.293833089376698, 0.31612527207614877, -1.932770900768106, -0.5230984358062054, -2.046159945458465, 4.0123690629542414, 5.595972609161075, 3.609456776649554, 5.571746406318232, 0.8495160039276151, -1.7798655391536944, 5.400733237591586, -3.000332819192986, -2.3722458232957058, -1.9260255570251748, -1.8579315468611566, 3.5456147284512487, 3.3889053422913435, -4.047967855578046, -1.0375382422101207, -1.8421357582025684, -3.38955938877692, 2.4369804738695113, 0.9669276463489593, -1.5650856169255538, -2.029549875625879, -0.8548891193830125, -2.5554893300477906, -4.048814978237534, -1.138222921511444, -0.4051186442931232, 1.0645530382304493, -1.6798288512330688, 10.014047311642575, 1.6423065098220917, -1.4144769399667803, 2.1053311059027253, 1.188602281715677, -2.533221190547444, -1.5939602308882566, 4.3684402657067976, -0.47392119494048746, 5.75256030629941, -2.9813104195352187, -2.4191004873972326, 2.767396643838865, 1.207449960726418, 4.469390517241121, -1.5547918621185075, -2.224242591671626, -1.0486643438627092, 6.380894528993969, 3.7826045775331285, -1.8258636449760464, -1.9815888822837489, 6.254180825850137, 7.998041678355431, -0.8571867711690473, 4.587142310973013, 0.620565210748748, -2.0188931900923275, -2.1131714390052307, 3.034030084440871, 4.202342142415884, -1.5365952262712872, -1.5505129370627988, -1.431898252635924, -4.656974650695316, 2.6180365270696564, 0.5422163919261899, -1.0783825119340098, 3.0775142591083138, -2.4752765318351866, -2.675142791198025, -1.7562614012960174, -3.306637653766101, -4.228982437986248, -1.9179977870442577, 0.44175238867788075, -4.306833548547846, 2.4342057944652953, -3.297173293324945, -1.6129639148915464, 1.058646634785842, -2.3017843332213768, -1.398003479080552, 4.490215490889572, 0.8177004624701182, -1.670590578459051, -0.8454644913388041, -1.3630021053247685, 2.303472235453852, 3.7458458588677117, -2.1336849546326646, -3.978450203498047, -0.11743827134524475, -2.3666589320616476, -1.7009127459719267, -2.961118817066982, -0.9852891176620584, -4.747805762447389, 2.6529383093140013, 0.3084795644977569, -3.5537723136008252, -3.9133464470746278, 6.201824123878967, -1.2966172854896225, 6.9192070120923175, 14.434275330552042, 1.1429975224232576, -3.202467844409221, 4.4255478756235425, 2.1252645845240505, 5.6943658693081085, -1.1789231710184551, -2.5991641142561828, -2.405377571194419, 3.0263458842861666, -2.713377832271908, -2.172648661896924, -3.8573265223464617, -1.0428482966570085, -3.7321951461389036, -1.5751810656966565, -2.8611940770919246, -2.5867579476904266, 1.927469853449885, 2.491710259723578, -1.8167636667984401, -0.47033023507441163, -0.08812924556172441, -2.1420788944812577, 1.3810586719355311, -0.211755942325456, -1.4250319020262106, -2.6061204814725794, -2.845977030200039, -1.7684277327214268, 3.498359211670667, 7.996675591305803, 4.157090223134923, 0.7160013552490179, -0.824997981104287, 0.8422940655823122, -0.8781878454029363, -0.17199507264276598, -1.4574502011575983, -2.083502182115171, -2.3553912722668735, -2.3183334378222376, -1.4875401276962545, 4.319327585408768, -4.15465609501356, 1.6712843052021276, -2.8885169134025817, -2.664009471847341, -1.6499288236573664, 5.5879364698271505, -2.5057917646120758, -1.8661722061733232, -0.9597169787916348, 5.859377927471849, 3.6072773761764254, -0.7241437628901732, 6.459582552085758, -3.5253491347731503, -1.217890590149827, 3.484836639353698, 2.4440304329879776, -1.0556344862899267, 1.655499796763552, -1.0851616599774814, -1.7560262574619354, -1.8066744463890523, -1.96278386965803, -1.800527798134731, 1.0957600983648466, -1.2978100998094722, -4.084964173943423, 0.2925041681495509, 0.04106131731598334, 3.2306810579624625, -3.7793176465069025, 7.545602948306346, 1.1266767429347233, 4.524172844585191, -1.8166064489088485, -0.6170118562622656, -1.4133370863482804, -2.04649221115408, -2.9583514653798817, -0.766097420695591, 0.9744785804288605, -2.355273860145529, 1.6894562251863794, 0.44517263435440274, 4.859326538982456, 3.515610274878022, 0.9170544870610817, -1.038620859088914, 1.8024710671635016, -2.0500265347906574, -0.6505500380025968, -3.7134811740916285, -2.5966044660339946, -0.9337729774937433, -2.9169524907417896, -1.220473414070566, -2.4975096935291377, 4.773747175261609, -2.1979439926052233, -2.3908767050175515, -1.860905874312337, 3.822837717956634, -0.5252401650776721, 4.713645877971712, -0.5505603265928745, -1.5381199769655363, -1.2305654703072486, -1.4446792385693055, -1.5440399943651648, -0.3726912920431896, -0.8198668224546344, -0.24741095847097141, 6.986815681999371, -2.7987578992928945, -2.538110819850121, 1.312203496079087, -1.2751913499767824, 0.6240376710838562, 5.1928336614110195, -2.5561746582201983, 1.636592878249511, 2.440813079300166, -1.9321606615750408, -2.371757117248377, 0.8222131951852694, 0.733526263519245, 4.550518495257028, 0.36135700347494837, 5.8532318737616915, 0.46514360612150085, -5.0388997954402, -1.3628321784257535, 0.6600755837311802, -2.0944973277112844, -0.10019033409339771, -3.309396999891066, 1.537733459030743, 3.077931374874568, 3.49257520304408, 5.675236486443747, -0.16665629360379952, 4.687253594750162, 0.9728632134842703, -2.37611217133475, 1.1225079499340969, -0.6154177776394593, -0.8974494061905283, -2.2002807237412982, -0.8662350085200179, 7.519593456969454, -2.291230138612558, 4.569783975068266, -1.4603936312851125, -1.7087890183165642, -3.3581708556302052, -2.4110417868156, -2.2843383234192154, -2.0970060389909024, -3.767674144833608, 1.9927179466868081, 1.7746925482645681, -3.582018162027709, -5.993889785798001, 0.8262600509074772, -1.6983763497703077, 1.2144158523313084, -0.41001468009065906, -2.9985786383377655, 1.324506131740397, 0.25441460980650693, -3.445514231941553, 5.450059069783711, 9.88429935738984, -1.1552005006019088, 2.5761220679755747, -1.4684584823780962, -2.6354710639219823, 0.06757273071816647, -0.04269168372217001, -1.2242889474517762, 1.9092914891542736, -2.189519191806459, -1.161675434231658, -3.740073657728568, -1.8808283109682853, 3.0018209158473916, -2.9168835890441933, -2.6420328758266387, 1.9658102629397605, -3.84485758797903, 4.972019063932711, -0.44770064933624376, 0.6468172544671545, -0.5758327826676045, -0.28594381374157135, -1.7720234091157046, -1.7432688239298826, 1.5802648216989577, 0.19625253284827465, 4.462880661918862, 6.325260152569004, -1.5654901987113108, 1.2172078289857131, 0.6469278268240162, 3.027289164753358, -1.0826013695347905, -2.5673486017340013, 6.328576039788167, 0.18275811186146973, 1.9441561825412352, 0.8328690595520443, -1.2398005326967398, -1.0959316266008094, -3.020748379659124, 4.331179393787242, -2.2047310627065873, 6.382658123075082, -2.704922646586046, -2.6594988681895124, -1.868421304203866, -2.541871488507179, 1.275490949894661, -3.329000995556571, 0.9649804886848989, -0.5304955945173568, -3.0043472988518656, 4.177035036447365, -3.020088409189092, 1.4309566851686406, -1.1422634654294808, -1.8740425157874034, -2.0685336469634175, -1.7490089853555348, 2.673492431337037, 1.826128023953596, 3.5505491660806405, -4.650566427292193, -2.448220567543455, 2.2838058995615373, 2.0404999551868173, 0.5499575206277957, 0.9492252156198808, 2.784700492358001, 2.6761424259264537, -2.677771423476156, 1.8665556935458743, -2.0013412529189916, -2.2673558145076376, -0.9188132546461308, -0.4011764275828163, 1.4219538863419283, 3.391946480689127, 2.6576744576283415, 1.843723826458849, 4.2091530476856756, -3.9594994985555756, 4.176062917275507, -1.5585205294490487, -2.5780014649784775, -1.6592224051691413, -2.902018518694642, -0.2573736442509824, 0.6624024536183571, -1.9773044225680927, -1.9774213447871798, -3.955510552903159, -2.359941572749172, -4.185801638445786, 2.4684993178771615, -2.787845304781091, -1.3897419316763777, 0.8414897478532651, -1.2819304953294397, -0.9944940668490377, -4.41408313826458, 6.217595336532818, -2.3057268421643884, 2.0415711067198417, -0.09384687471614092, -2.719319790060739, -2.772876532210525, 2.3436949859242193, -2.4688605441779345, -4.199271244715979, -0.8852954190839228, 2.6413663955283555, 2.6952202757875665, 0.5974288371586197, 3.84521088618712, -1.546730475904861, 4.852707357483787, -2.985580155767618, -1.9061275020199884, 1.9203755518297096, -2.607373530541571, -3.1799037743316756, -4.159129526989635, -1.9425121638467502, 1.7672872561191368, -0.4420943723394831, -1.7203147425967362, -1.8023975557879262, -0.7970610449942186, 3.8542151176401247, -2.0802208799769044, 0.07175250158087483, 0.458056069360053, 0.5337044208410415, 0.2040174502685149, -3.540300002841263, -2.8605448702822796, 2.819808752414285, -0.3179856730941205, 0.1518871758672684, -3.1935647637202167, -2.592342805251706, 4.7444923138338, 1.9639825705257923, -1.9538457183338211, -0.2530733062919048, -0.7120824115620079, 2.202409227940735, 5.4218390599781205, 5.035339442631039, -1.2430888781098846, 1.790287978483202, 2.323248380909473, -0.7149352478187381, 0.7238648198488165, -0.6910177184335858, 0.757979314299484, 0.7958310463609415, 1.712047228662105, 1.8576477464064225, 3.608724921993682, 2.4106694267270194, 2.700798225128431, 1.6273521477593809, 5.362132932884585, 3.2543912820414365, 3.5285455141246294, -0.9243967103027191, 3.7779941300045916, 0.7223662782111927, 4.731389260360855, -5.669411989435342, 2.5853027037708256, 6.362498482606585, 4.014568569322148, 0.022003428443261863, -3.652855636146336, 1.2825437792011996]}],\n",
              "                        {\"height\": 500, \"margin\": {\"b\": 50, \"l\": 50, \"r\": 50, \"t\": 50}, \"template\": {\"data\": {\"bar\": [{\"error_x\": {\"color\": \"#f2f5fa\"}, \"error_y\": {\"color\": \"#f2f5fa\"}, \"marker\": {\"line\": {\"color\": \"rgb(17,17,17)\", \"width\": 0.5}}, \"type\": \"bar\"}], \"barpolar\": [{\"marker\": {\"line\": {\"color\": \"rgb(17,17,17)\", \"width\": 0.5}}, \"type\": \"barpolar\"}], \"carpet\": [{\"aaxis\": {\"endlinecolor\": \"#A2B1C6\", \"gridcolor\": \"#506784\", \"linecolor\": \"#506784\", \"minorgridcolor\": \"#506784\", \"startlinecolor\": \"#A2B1C6\"}, \"baxis\": {\"endlinecolor\": \"#A2B1C6\", \"gridcolor\": \"#506784\", \"linecolor\": \"#506784\", \"minorgridcolor\": \"#506784\", \"startlinecolor\": \"#A2B1C6\"}, \"type\": \"carpet\"}], \"choropleth\": [{\"colorbar\": {\"outlinewidth\": 0, \"ticks\": \"\"}, \"type\": \"choropleth\"}], \"contour\": [{\"colorbar\": {\"outlinewidth\": 0, \"ticks\": \"\"}, \"colorscale\": [[0.0, \"#0d0887\"], [0.1111111111111111, \"#46039f\"], [0.2222222222222222, \"#7201a8\"], [0.3333333333333333, \"#9c179e\"], [0.4444444444444444, \"#bd3786\"], [0.5555555555555556, \"#d8576b\"], [0.6666666666666666, \"#ed7953\"], [0.7777777777777778, \"#fb9f3a\"], [0.8888888888888888, \"#fdca26\"], [1.0, \"#f0f921\"]], \"type\": \"contour\"}], \"contourcarpet\": [{\"colorbar\": {\"outlinewidth\": 0, \"ticks\": \"\"}, \"type\": \"contourcarpet\"}], \"heatmap\": [{\"colorbar\": {\"outlinewidth\": 0, \"ticks\": \"\"}, \"colorscale\": [[0.0, \"#0d0887\"], [0.1111111111111111, \"#46039f\"], [0.2222222222222222, \"#7201a8\"], [0.3333333333333333, \"#9c179e\"], [0.4444444444444444, \"#bd3786\"], [0.5555555555555556, \"#d8576b\"], [0.6666666666666666, \"#ed7953\"], [0.7777777777777778, \"#fb9f3a\"], [0.8888888888888888, \"#fdca26\"], [1.0, \"#f0f921\"]], \"type\": \"heatmap\"}], \"heatmapgl\": [{\"colorbar\": {\"outlinewidth\": 0, \"ticks\": \"\"}, \"colorscale\": [[0.0, \"#0d0887\"], [0.1111111111111111, \"#46039f\"], [0.2222222222222222, \"#7201a8\"], [0.3333333333333333, \"#9c179e\"], [0.4444444444444444, \"#bd3786\"], [0.5555555555555556, \"#d8576b\"], [0.6666666666666666, \"#ed7953\"], [0.7777777777777778, \"#fb9f3a\"], [0.8888888888888888, \"#fdca26\"], [1.0, \"#f0f921\"]], \"type\": \"heatmapgl\"}], \"histogram\": [{\"marker\": {\"colorbar\": {\"outlinewidth\": 0, \"ticks\": \"\"}}, \"type\": \"histogram\"}], \"histogram2d\": [{\"colorbar\": {\"outlinewidth\": 0, \"ticks\": \"\"}, \"colorscale\": [[0.0, \"#0d0887\"], [0.1111111111111111, \"#46039f\"], [0.2222222222222222, \"#7201a8\"], [0.3333333333333333, \"#9c179e\"], [0.4444444444444444, \"#bd3786\"], [0.5555555555555556, \"#d8576b\"], [0.6666666666666666, \"#ed7953\"], [0.7777777777777778, \"#fb9f3a\"], [0.8888888888888888, \"#fdca26\"], [1.0, \"#f0f921\"]], \"type\": \"histogram2d\"}], \"histogram2dcontour\": [{\"colorbar\": {\"outlinewidth\": 0, \"ticks\": \"\"}, \"colorscale\": [[0.0, \"#0d0887\"], [0.1111111111111111, \"#46039f\"], [0.2222222222222222, \"#7201a8\"], [0.3333333333333333, \"#9c179e\"], [0.4444444444444444, \"#bd3786\"], [0.5555555555555556, \"#d8576b\"], [0.6666666666666666, \"#ed7953\"], [0.7777777777777778, \"#fb9f3a\"], [0.8888888888888888, \"#fdca26\"], [1.0, \"#f0f921\"]], \"type\": \"histogram2dcontour\"}], \"mesh3d\": [{\"colorbar\": {\"outlinewidth\": 0, \"ticks\": \"\"}, \"type\": \"mesh3d\"}], \"parcoords\": [{\"line\": {\"colorbar\": {\"outlinewidth\": 0, \"ticks\": \"\"}}, \"type\": \"parcoords\"}], \"pie\": [{\"automargin\": true, \"type\": \"pie\"}], \"scatter\": [{\"marker\": {\"line\": {\"color\": \"#283442\"}}, \"type\": \"scatter\"}], \"scatter3d\": [{\"line\": {\"colorbar\": {\"outlinewidth\": 0, \"ticks\": \"\"}}, \"marker\": {\"colorbar\": {\"outlinewidth\": 0, \"ticks\": \"\"}}, \"type\": \"scatter3d\"}], \"scattercarpet\": [{\"marker\": {\"colorbar\": {\"outlinewidth\": 0, \"ticks\": \"\"}}, \"type\": \"scattercarpet\"}], \"scattergeo\": [{\"marker\": {\"colorbar\": {\"outlinewidth\": 0, \"ticks\": \"\"}}, \"type\": \"scattergeo\"}], \"scattergl\": [{\"marker\": {\"line\": {\"color\": \"#283442\"}}, \"type\": \"scattergl\"}], \"scattermapbox\": [{\"marker\": {\"colorbar\": {\"outlinewidth\": 0, \"ticks\": \"\"}}, \"type\": \"scattermapbox\"}], \"scatterpolar\": [{\"marker\": {\"colorbar\": {\"outlinewidth\": 0, \"ticks\": \"\"}}, \"type\": \"scatterpolar\"}], \"scatterpolargl\": [{\"marker\": {\"colorbar\": {\"outlinewidth\": 0, \"ticks\": \"\"}}, \"type\": \"scatterpolargl\"}], \"scatterternary\": [{\"marker\": {\"colorbar\": {\"outlinewidth\": 0, \"ticks\": \"\"}}, \"type\": \"scatterternary\"}], \"surface\": [{\"colorbar\": {\"outlinewidth\": 0, \"ticks\": \"\"}, \"colorscale\": [[0.0, \"#0d0887\"], [0.1111111111111111, \"#46039f\"], [0.2222222222222222, \"#7201a8\"], [0.3333333333333333, \"#9c179e\"], [0.4444444444444444, \"#bd3786\"], [0.5555555555555556, \"#d8576b\"], [0.6666666666666666, \"#ed7953\"], [0.7777777777777778, \"#fb9f3a\"], [0.8888888888888888, \"#fdca26\"], [1.0, \"#f0f921\"]], \"type\": \"surface\"}], \"table\": [{\"cells\": {\"fill\": {\"color\": \"#506784\"}, \"line\": {\"color\": \"rgb(17,17,17)\"}}, \"header\": {\"fill\": {\"color\": \"#2a3f5f\"}, \"line\": {\"color\": \"rgb(17,17,17)\"}}, \"type\": \"table\"}]}, \"layout\": {\"annotationdefaults\": {\"arrowcolor\": \"#f2f5fa\", \"arrowhead\": 0, \"arrowwidth\": 1}, \"coloraxis\": {\"colorbar\": {\"outlinewidth\": 0, \"ticks\": \"\"}}, \"colorscale\": {\"diverging\": [[0, \"#8e0152\"], [0.1, \"#c51b7d\"], [0.2, \"#de77ae\"], [0.3, \"#f1b6da\"], [0.4, \"#fde0ef\"], [0.5, \"#f7f7f7\"], [0.6, \"#e6f5d0\"], [0.7, \"#b8e186\"], [0.8, \"#7fbc41\"], [0.9, \"#4d9221\"], [1, \"#276419\"]], \"sequential\": [[0.0, \"#0d0887\"], [0.1111111111111111, \"#46039f\"], [0.2222222222222222, \"#7201a8\"], [0.3333333333333333, \"#9c179e\"], [0.4444444444444444, \"#bd3786\"], [0.5555555555555556, \"#d8576b\"], [0.6666666666666666, \"#ed7953\"], [0.7777777777777778, \"#fb9f3a\"], [0.8888888888888888, \"#fdca26\"], [1.0, \"#f0f921\"]], \"sequentialminus\": [[0.0, \"#0d0887\"], [0.1111111111111111, \"#46039f\"], [0.2222222222222222, \"#7201a8\"], [0.3333333333333333, \"#9c179e\"], [0.4444444444444444, \"#bd3786\"], [0.5555555555555556, \"#d8576b\"], [0.6666666666666666, \"#ed7953\"], [0.7777777777777778, \"#fb9f3a\"], [0.8888888888888888, \"#fdca26\"], [1.0, \"#f0f921\"]]}, \"colorway\": [\"#636efa\", \"#EF553B\", \"#00cc96\", \"#ab63fa\", \"#FFA15A\", \"#19d3f3\", \"#FF6692\", \"#B6E880\", \"#FF97FF\", \"#FECB52\"], \"font\": {\"color\": \"#f2f5fa\"}, \"geo\": {\"bgcolor\": \"rgb(17,17,17)\", \"lakecolor\": \"rgb(17,17,17)\", \"landcolor\": \"rgb(17,17,17)\", \"showlakes\": true, \"showland\": true, \"subunitcolor\": \"#506784\"}, \"hoverlabel\": {\"align\": \"left\"}, \"hovermode\": \"closest\", \"mapbox\": {\"style\": \"dark\"}, \"paper_bgcolor\": \"rgb(17,17,17)\", \"plot_bgcolor\": \"rgb(17,17,17)\", \"polar\": {\"angularaxis\": {\"gridcolor\": \"#506784\", \"linecolor\": \"#506784\", \"ticks\": \"\"}, \"bgcolor\": \"rgb(17,17,17)\", \"radialaxis\": {\"gridcolor\": \"#506784\", \"linecolor\": \"#506784\", \"ticks\": \"\"}}, \"scene\": {\"xaxis\": {\"backgroundcolor\": \"rgb(17,17,17)\", \"gridcolor\": \"#506784\", \"gridwidth\": 2, \"linecolor\": \"#506784\", \"showbackground\": true, \"ticks\": \"\", \"zerolinecolor\": \"#C8D4E3\"}, \"yaxis\": {\"backgroundcolor\": \"rgb(17,17,17)\", \"gridcolor\": \"#506784\", \"gridwidth\": 2, \"linecolor\": \"#506784\", \"showbackground\": true, \"ticks\": \"\", \"zerolinecolor\": \"#C8D4E3\"}, \"zaxis\": {\"backgroundcolor\": \"rgb(17,17,17)\", \"gridcolor\": \"#506784\", \"gridwidth\": 2, \"linecolor\": \"#506784\", \"showbackground\": true, \"ticks\": \"\", \"zerolinecolor\": \"#C8D4E3\"}}, \"shapedefaults\": {\"line\": {\"color\": \"#f2f5fa\"}}, \"sliderdefaults\": {\"bgcolor\": \"#C8D4E3\", \"bordercolor\": \"rgb(17,17,17)\", \"borderwidth\": 1, \"tickwidth\": 0}, \"ternary\": {\"aaxis\": {\"gridcolor\": \"#506784\", \"linecolor\": \"#506784\", \"ticks\": \"\"}, \"baxis\": {\"gridcolor\": \"#506784\", \"linecolor\": \"#506784\", \"ticks\": \"\"}, \"bgcolor\": \"rgb(17,17,17)\", \"caxis\": {\"gridcolor\": \"#506784\", \"linecolor\": \"#506784\", \"ticks\": \"\"}}, \"title\": {\"x\": 0.05}, \"updatemenudefaults\": {\"bgcolor\": \"#506784\", \"borderwidth\": 0}, \"xaxis\": {\"automargin\": true, \"gridcolor\": \"#283442\", \"linecolor\": \"#506784\", \"ticks\": \"\", \"title\": {\"standoff\": 15}, \"zerolinecolor\": \"#283442\", \"zerolinewidth\": 2}, \"yaxis\": {\"automargin\": true, \"gridcolor\": \"#283442\", \"linecolor\": \"#506784\", \"ticks\": \"\", \"title\": {\"standoff\": 15}, \"zerolinecolor\": \"#283442\", \"zerolinewidth\": 2}}}, \"width\": 1000},\n",
              "                        {\"responsive\": true}\n",
              "                    ).then(function(){\n",
              "                            \n",
              "var gd = document.getElementById('03bc34b1-b730-4d50-9fff-f1e9e105e877');\n",
              "var x = new MutationObserver(function (mutations, observer) {{\n",
              "        var display = window.getComputedStyle(gd).display;\n",
              "        if (!display || display === 'none') {{\n",
              "            console.log([gd, 'removed!']);\n",
              "            Plotly.purge(gd);\n",
              "            observer.disconnect();\n",
              "        }}\n",
              "}});\n",
              "\n",
              "// Listen for the removal of the full notebook cells\n",
              "var notebookContainer = gd.closest('#notebook-container');\n",
              "if (notebookContainer) {{\n",
              "    x.observe(notebookContainer, {childList: true});\n",
              "}}\n",
              "\n",
              "// Listen for the clearing of the current output cell\n",
              "var outputEl = gd.closest('.output');\n",
              "if (outputEl) {{\n",
              "    x.observe(outputEl, {childList: true});\n",
              "}}\n",
              "\n",
              "                        })\n",
              "                };\n",
              "                \n",
              "            </script>\n",
              "        </div>\n",
              "</body>\n",
              "</html>"
            ]
          },
          "metadata": {}
        }
      ]
    },
    {
      "cell_type": "markdown",
      "metadata": {
        "id": "GOk5pv8g2nk8"
      },
      "source": [
        "UMAP"
      ]
    },
    {
      "cell_type": "code",
      "metadata": {
        "colab": {
          "base_uri": "https://localhost:8080/"
        },
        "id": "Wm-aycZe2vHW",
        "outputId": "cc402241-dffd-4c95-df48-807a7353eb51"
      },
      "source": [
        "!pip install umap\n",
        "!pip install umap-learn\n",
        "!pip install --upgrade tbb\n",
        "\n",
        "import umap.umap_ as umap"
      ],
      "execution_count": 46,
      "outputs": [
        {
          "output_type": "stream",
          "name": "stdout",
          "text": [
            "Collecting umap\n",
            "  Downloading umap-0.1.1.tar.gz (3.2 kB)\n",
            "Building wheels for collected packages: umap\n",
            "  Building wheel for umap (setup.py) ... \u001b[?25l\u001b[?25hdone\n",
            "  Created wheel for umap: filename=umap-0.1.1-py3-none-any.whl size=3564 sha256=a4b56b5ff5e07162602b28f349522c3beb56c06da387582096d97af493d8e770\n",
            "  Stored in directory: /root/.cache/pip/wheels/65/55/85/945cfb3d67373767e4dc3e9629300a926edde52633df4f0efe\n",
            "Successfully built umap\n",
            "Installing collected packages: umap\n",
            "Successfully installed umap-0.1.1\n",
            "Collecting umap-learn\n",
            "  Downloading umap-learn-0.5.2.tar.gz (86 kB)\n",
            "\u001b[K     |████████████████████████████████| 86 kB 4.4 MB/s \n",
            "\u001b[?25hRequirement already satisfied: numpy>=1.17 in /usr/local/lib/python3.7/dist-packages (from umap-learn) (1.19.5)\n",
            "Requirement already satisfied: scikit-learn>=0.22 in /usr/local/lib/python3.7/dist-packages (from umap-learn) (0.22.2.post1)\n",
            "Requirement already satisfied: scipy>=1.0 in /usr/local/lib/python3.7/dist-packages (from umap-learn) (1.4.1)\n",
            "Requirement already satisfied: numba>=0.49 in /usr/local/lib/python3.7/dist-packages (from umap-learn) (0.51.2)\n",
            "Collecting pynndescent>=0.5\n",
            "  Downloading pynndescent-0.5.5.tar.gz (1.1 MB)\n",
            "\u001b[K     |████████████████████████████████| 1.1 MB 16.2 MB/s \n",
            "\u001b[?25hRequirement already satisfied: tqdm in /usr/local/lib/python3.7/dist-packages (from umap-learn) (4.62.3)\n",
            "Requirement already satisfied: setuptools in /usr/local/lib/python3.7/dist-packages (from numba>=0.49->umap-learn) (57.4.0)\n",
            "Requirement already satisfied: llvmlite<0.35,>=0.34.0.dev0 in /usr/local/lib/python3.7/dist-packages (from numba>=0.49->umap-learn) (0.34.0)\n",
            "Requirement already satisfied: joblib>=0.11 in /usr/local/lib/python3.7/dist-packages (from pynndescent>=0.5->umap-learn) (1.1.0)\n",
            "Building wheels for collected packages: umap-learn, pynndescent\n",
            "  Building wheel for umap-learn (setup.py) ... \u001b[?25l\u001b[?25hdone\n",
            "  Created wheel for umap-learn: filename=umap_learn-0.5.2-py3-none-any.whl size=82709 sha256=72585b30d02f6e62cec666fc49b65dfd57ea17843f6197e9f29b53a8aa30327e\n",
            "  Stored in directory: /root/.cache/pip/wheels/84/1b/c6/aaf68a748122632967cef4dffef68224eb16798b6793257d82\n",
            "  Building wheel for pynndescent (setup.py) ... \u001b[?25l\u001b[?25hdone\n",
            "  Created wheel for pynndescent: filename=pynndescent-0.5.5-py3-none-any.whl size=52603 sha256=e91c4cca587b2cb81ff11490feef4d963f4ec453425a34d19ddb65f9400ba4d4\n",
            "  Stored in directory: /root/.cache/pip/wheels/af/e9/33/04db1436df0757c42fda8ea6796d7a8586e23c85fac355f476\n",
            "Successfully built umap-learn pynndescent\n",
            "Installing collected packages: pynndescent, umap-learn\n",
            "Successfully installed pynndescent-0.5.5 umap-learn-0.5.2\n",
            "Collecting tbb\n",
            "  Downloading tbb-2021.4.0-py2.py3-none-manylinux1_x86_64.whl (4.0 MB)\n",
            "\u001b[K     |████████████████████████████████| 4.0 MB 6.4 MB/s \n",
            "\u001b[?25hInstalling collected packages: tbb\n",
            "Successfully installed tbb-2021.4.0\n"
          ]
        }
      ]
    },
    {
      "cell_type": "code",
      "metadata": {
        "id": "0gWnUDZA2zTJ"
      },
      "source": [
        "def Implement_UMAP(n,df, target):\n",
        "  umap_op = umap.UMAP(n_components=n)\n",
        "  umap_df = umap_op.fit_transform(df)\n",
        "  col_labels= ['Component'+str(i) for i in range(1,n+1)]\n",
        "  umap_df  = pd.DataFrame(umap_df[:,0:n], index=target.tolist(), columns=col_labels)\n",
        "  umap_df=umap_df.reset_index()\n",
        "  umap_df.rename(columns={'index':'Label'}, inplace=True)\n",
        "  return umap_df"
      ],
      "execution_count": 47,
      "outputs": []
    },
    {
      "cell_type": "code",
      "metadata": {
        "colab": {
          "base_uri": "https://localhost:8080/",
          "height": 483
        },
        "id": "WUuWM0G82614",
        "outputId": "faf5625c-32d0-4263-b081-ba55de37e14c"
      },
      "source": [
        "umap_Idf = Implement_UMAP(2,standardized_data,df_tbl_target['target'])\n",
        "umap_Idf"
      ],
      "execution_count": 49,
      "outputs": [
        {
          "output_type": "stream",
          "name": "stderr",
          "text": [
            "/usr/local/lib/python3.7/dist-packages/numba/np/ufunc/parallel.py:363: NumbaWarning:\n",
            "\n",
            "The TBB threading layer requires TBB version 2019.5 or later i.e., TBB_INTERFACE_VERSION >= 11005. Found TBB_INTERFACE_VERSION = 9107. The TBB threading layer is disabled.\n",
            "\n"
          ]
        },
        {
          "output_type": "execute_result",
          "data": {
            "text/html": [
              "<div>\n",
              "<style scoped>\n",
              "    .dataframe tbody tr th:only-of-type {\n",
              "        vertical-align: middle;\n",
              "    }\n",
              "\n",
              "    .dataframe tbody tr th {\n",
              "        vertical-align: top;\n",
              "    }\n",
              "\n",
              "    .dataframe thead th {\n",
              "        text-align: right;\n",
              "    }\n",
              "</style>\n",
              "<table border=\"1\" class=\"dataframe\">\n",
              "  <thead>\n",
              "    <tr style=\"text-align: right;\">\n",
              "      <th></th>\n",
              "      <th>Label</th>\n",
              "      <th>Component1</th>\n",
              "      <th>Component2</th>\n",
              "    </tr>\n",
              "  </thead>\n",
              "  <tbody>\n",
              "    <tr>\n",
              "      <th>0</th>\n",
              "      <td>0</td>\n",
              "      <td>4.900235</td>\n",
              "      <td>8.720596</td>\n",
              "    </tr>\n",
              "    <tr>\n",
              "      <th>1</th>\n",
              "      <td>0</td>\n",
              "      <td>6.750665</td>\n",
              "      <td>9.069983</td>\n",
              "    </tr>\n",
              "    <tr>\n",
              "      <th>2</th>\n",
              "      <td>0</td>\n",
              "      <td>5.342374</td>\n",
              "      <td>8.764308</td>\n",
              "    </tr>\n",
              "    <tr>\n",
              "      <th>3</th>\n",
              "      <td>0</td>\n",
              "      <td>5.668715</td>\n",
              "      <td>6.600567</td>\n",
              "    </tr>\n",
              "    <tr>\n",
              "      <th>4</th>\n",
              "      <td>0</td>\n",
              "      <td>6.489051</td>\n",
              "      <td>9.858657</td>\n",
              "    </tr>\n",
              "    <tr>\n",
              "      <th>...</th>\n",
              "      <td>...</td>\n",
              "      <td>...</td>\n",
              "      <td>...</td>\n",
              "    </tr>\n",
              "    <tr>\n",
              "      <th>564</th>\n",
              "      <td>0</td>\n",
              "      <td>5.274470</td>\n",
              "      <td>9.659217</td>\n",
              "    </tr>\n",
              "    <tr>\n",
              "      <th>565</th>\n",
              "      <td>0</td>\n",
              "      <td>6.135742</td>\n",
              "      <td>9.935780</td>\n",
              "    </tr>\n",
              "    <tr>\n",
              "      <th>566</th>\n",
              "      <td>0</td>\n",
              "      <td>9.184134</td>\n",
              "      <td>7.985209</td>\n",
              "    </tr>\n",
              "    <tr>\n",
              "      <th>567</th>\n",
              "      <td>0</td>\n",
              "      <td>4.782347</td>\n",
              "      <td>8.921370</td>\n",
              "    </tr>\n",
              "    <tr>\n",
              "      <th>568</th>\n",
              "      <td>1</td>\n",
              "      <td>12.424106</td>\n",
              "      <td>6.216364</td>\n",
              "    </tr>\n",
              "  </tbody>\n",
              "</table>\n",
              "<p>569 rows × 3 columns</p>\n",
              "</div>"
            ],
            "text/plain": [
              "     Label  Component1  Component2\n",
              "0        0    4.900235    8.720596\n",
              "1        0    6.750665    9.069983\n",
              "2        0    5.342374    8.764308\n",
              "3        0    5.668715    6.600567\n",
              "4        0    6.489051    9.858657\n",
              "..     ...         ...         ...\n",
              "564      0    5.274470    9.659217\n",
              "565      0    6.135742    9.935780\n",
              "566      0    9.184134    7.985209\n",
              "567      0    4.782347    8.921370\n",
              "568      1   12.424106    6.216364\n",
              "\n",
              "[569 rows x 3 columns]"
            ]
          },
          "metadata": {},
          "execution_count": 49
        }
      ]
    },
    {
      "cell_type": "code",
      "metadata": {
        "colab": {
          "base_uri": "https://localhost:8080/",
          "height": 517
        },
        "id": "mw-iuCnF3Ybv",
        "outputId": "27ddb906-cb7a-4d62-cc6d-b09f355016f7"
      },
      "source": [
        "\n",
        "fig = go.Figure(data=go.Scatter(\n",
        "        x = umap_Idf.iloc[:,1],\n",
        "        y = umap_Idf.iloc[:,2],\n",
        "        mode='markers',\n",
        "        marker=dict(\n",
        "            size=10,\n",
        "            color=umap_Idf.iloc[:,0], #set color equal to a variable\n",
        "            colorscale = 'Viridis', # one of plotly colorscales\n",
        "            showscale=True,\n",
        "            line_width=1\n",
        "        )\n",
        "    ))\n",
        "fig.update_layout(margin=dict( l=100,r=100,b=100,t=100),width=1000,height=500)                 \n",
        "fig.layout.template = 'plotly_dark' \n",
        "    \n",
        "fig.show()"
      ],
      "execution_count": 52,
      "outputs": [
        {
          "output_type": "display_data",
          "data": {
            "text/html": [
              "<html>\n",
              "<head><meta charset=\"utf-8\" /></head>\n",
              "<body>\n",
              "    <div>\n",
              "            <script src=\"https://cdnjs.cloudflare.com/ajax/libs/mathjax/2.7.5/MathJax.js?config=TeX-AMS-MML_SVG\"></script><script type=\"text/javascript\">if (window.MathJax) {MathJax.Hub.Config({SVG: {font: \"STIX-Web\"}});}</script>\n",
              "                <script type=\"text/javascript\">window.PlotlyConfig = {MathJaxConfig: 'local'};</script>\n",
              "        <script src=\"https://cdn.plot.ly/plotly-latest.min.js\"></script>    \n",
              "            <div id=\"d08c42d8-cac1-4d65-895b-e77a9ca3faf2\" class=\"plotly-graph-div\" style=\"height:500px; width:1000px;\"></div>\n",
              "            <script type=\"text/javascript\">\n",
              "                \n",
              "                    window.PLOTLYENV=window.PLOTLYENV || {};\n",
              "                    \n",
              "                if (document.getElementById(\"d08c42d8-cac1-4d65-895b-e77a9ca3faf2\")) {\n",
              "                    Plotly.newPlot(\n",
              "                        'd08c42d8-cac1-4d65-895b-e77a9ca3faf2',\n",
              "                        [{\"marker\": {\"color\": [0, 0, 0, 0, 0, 0, 0, 0, 0, 0, 0, 0, 0, 0, 0, 0, 0, 0, 0, 1, 1, 1, 0, 0, 0, 0, 0, 0, 0, 0, 0, 0, 0, 0, 0, 0, 0, 1, 0, 0, 0, 0, 0, 0, 0, 0, 1, 0, 1, 1, 1, 1, 1, 0, 0, 1, 0, 0, 1, 1, 1, 1, 0, 1, 0, 0, 1, 1, 1, 1, 0, 1, 0, 0, 1, 0, 1, 0, 0, 1, 1, 1, 0, 0, 1, 0, 0, 0, 1, 1, 1, 0, 1, 1, 0, 0, 1, 1, 1, 0, 0, 1, 1, 1, 1, 0, 1, 1, 0, 1, 1, 1, 1, 1, 1, 1, 1, 0, 0, 0, 1, 0, 0, 1, 1, 1, 0, 0, 1, 0, 1, 0, 0, 1, 0, 0, 1, 1, 0, 1, 1, 0, 1, 1, 1, 1, 0, 1, 1, 1, 1, 1, 1, 1, 1, 1, 0, 1, 1, 1, 1, 0, 0, 1, 0, 1, 1, 0, 0, 1, 1, 0, 0, 1, 1, 1, 1, 0, 1, 1, 0, 0, 0, 1, 0, 1, 0, 1, 1, 1, 0, 1, 1, 0, 0, 1, 0, 0, 0, 0, 1, 0, 0, 0, 1, 0, 1, 0, 1, 1, 0, 1, 0, 0, 0, 0, 1, 1, 0, 0, 1, 1, 1, 0, 1, 1, 1, 1, 1, 0, 0, 1, 1, 0, 1, 1, 0, 0, 1, 0, 1, 1, 1, 1, 0, 1, 1, 1, 1, 1, 0, 1, 0, 0, 0, 0, 0, 0, 0, 0, 0, 0, 0, 0, 0, 0, 1, 1, 1, 1, 1, 1, 0, 1, 0, 1, 1, 0, 1, 1, 0, 1, 0, 0, 1, 1, 1, 1, 1, 1, 1, 1, 1, 1, 1, 1, 1, 0, 1, 1, 0, 1, 0, 1, 1, 1, 1, 1, 1, 1, 1, 1, 1, 1, 1, 1, 1, 0, 1, 1, 1, 0, 1, 0, 1, 1, 1, 1, 0, 0, 0, 1, 1, 1, 1, 0, 1, 0, 1, 0, 1, 1, 1, 0, 1, 1, 1, 1, 1, 1, 1, 0, 0, 0, 1, 1, 1, 1, 1, 1, 1, 1, 1, 1, 1, 0, 0, 1, 0, 0, 0, 1, 0, 0, 1, 1, 1, 1, 1, 0, 1, 1, 1, 1, 1, 0, 1, 1, 1, 0, 1, 1, 0, 0, 1, 1, 1, 1, 1, 1, 0, 1, 1, 1, 1, 1, 1, 1, 0, 1, 1, 1, 1, 1, 0, 1, 1, 0, 1, 1, 1, 1, 1, 1, 1, 1, 1, 1, 1, 1, 0, 1, 0, 0, 1, 0, 1, 1, 1, 1, 1, 0, 1, 1, 0, 1, 0, 1, 1, 0, 1, 0, 1, 1, 1, 1, 1, 1, 1, 1, 0, 0, 1, 1, 1, 1, 1, 1, 0, 1, 1, 1, 1, 1, 1, 1, 1, 1, 1, 0, 1, 1, 1, 1, 1, 1, 1, 0, 1, 0, 1, 1, 0, 1, 1, 1, 1, 1, 0, 0, 1, 0, 1, 0, 1, 1, 1, 1, 1, 0, 1, 1, 0, 1, 0, 1, 0, 0, 1, 1, 1, 0, 1, 1, 1, 1, 1, 1, 1, 1, 1, 1, 1, 0, 1, 0, 0, 1, 1, 1, 1, 1, 1, 1, 1, 1, 1, 1, 1, 1, 1, 1, 1, 1, 1, 1, 1, 1, 1, 1, 1, 1, 0, 0, 0, 0, 0, 0, 1], \"colorscale\": [[0.0, \"#440154\"], [0.1111111111111111, \"#482878\"], [0.2222222222222222, \"#3e4989\"], [0.3333333333333333, \"#31688e\"], [0.4444444444444444, \"#26828e\"], [0.5555555555555556, \"#1f9e89\"], [0.6666666666666666, \"#35b779\"], [0.7777777777777778, \"#6ece58\"], [0.8888888888888888, \"#b5de2b\"], [1.0, \"#fde725\"]], \"line\": {\"width\": 1}, \"showscale\": true, \"size\": 10}, \"mode\": \"markers\", \"type\": \"scatter\", \"x\": [4.900234699249268, 6.750664710998535, 5.342373847961426, 5.66871452331543, 6.489051342010498, 6.060904026031494, 6.777296543121338, 6.565079689025879, 6.08334493637085, 5.591938495635986, 9.579391479492188, 6.872895240783691, 4.788650989532471, 8.923270225524902, 5.56318473815918, 5.845712661743164, 9.000389099121094, 5.94716739654541, 6.010244369506836, 9.950501441955566, 9.287394523620605, 11.469401359558105, 6.145827770233154, 6.108616828918457, 5.8391900062561035, 4.919619560241699, 5.972044944763184, 6.308041095733643, 6.030411243438721, 7.130075454711914, 5.386892318725586, 5.955557346343994, 5.6843438148498535, 5.802230358123779, 6.758787631988525, 6.808125972747803, 7.112529277801514, 11.664080619812012, 10.429847717285156, 7.354619979858398, 11.141940116882324, 7.3717827796936035, 4.7995758056640625, 6.96049165725708, 7.867031097412109, 5.432818412780762, 11.719511032104492, 6.45351505279541, 11.246688842773438, 10.39880084991455, 12.479883193969727, 12.247313499450684, 11.731898307800293, 6.478241443634033, 9.168482780456543, 11.003495216369629, 5.864277362823486, 6.731533050537109, 12.915398597717285, 11.427726745605469, 10.218428611755371, 10.2374267578125, 5.6870646476745605, 10.01224422454834, 6.695068836212158, 6.846639633178711, 10.408430099487305, 11.93298053741455, 7.608307361602783, 11.862954139709473, 6.702503204345703, 7.9964680671691895, 5.537638187408447, 8.76278018951416, 11.543183326721191, 7.083911418914795, 9.822366714477539, 5.107052326202393, 4.662318706512451, 11.022536277770996, 10.08538818359375, 6.892154216766357, 4.763174533843994, 6.056100845336914, 10.794852256774902, 6.399019718170166, 8.799060821533203, 6.32334566116333, 9.504378318786621, 8.478891372680664, 10.531595230102539, 9.070432662963867, 12.523368835449219, 11.093484878540039, 6.592697620391846, 6.0920796394348145, 10.700443267822266, 10.478272438049316, 11.777233123779297, 8.611143112182617, 9.561912536621094, 11.166053771972656, 11.314679145812988, 9.373894691467285, 10.28702449798584, 5.934873580932617, 9.122719764709473, 11.52004337310791, 4.717330455780029, 10.272134780883789, 9.951353073120117, 8.67923641204834, 7.705129146575928, 8.685202598571777, 10.957844734191895, 10.270529747009277, 8.714940071105957, 6.25134801864624, 5.754427909851074, 7.153572082519531, 11.862513542175293, 6.407840728759766, 4.638070583343506, 9.45318603515625, 9.457741737365723, 12.23812484741211, 8.764869689941406, 7.205715179443359, 8.38028621673584, 5.5448760986328125, 9.656232833862305, 6.899626731872559, 7.001019477844238, 10.070419311523438, 6.60960054397583, 10.679605484008789, 10.44992733001709, 11.610488891601562, 6.323776721954346, 9.544864654541016, 12.089376449584961, 7.067219257354736, 10.511754989624023, 10.894425392150879, 12.82143783569336, 8.620409965515137, 6.203383922576904, 8.759343147277832, 9.268677711486816, 12.567435264587402, 10.175738334655762, 8.059748649597168, 7.68026065826416, 11.805386543273926, 9.502791404724121, 11.040987968444824, 6.202180862426758, 10.360869407653809, 12.1033296585083, 12.866927146911621, 9.612300872802734, 6.403238296508789, 5.330539703369141, 9.365093231201172, 5.9209980964660645, 12.362435340881348, 11.989169120788574, 7.221678733825684, 5.417599201202393, 11.178187370300293, 11.45181941986084, 9.338361740112305, 6.404536247253418, 10.041915893554688, 12.465800285339355, 12.063773155212402, 7.824970245361328, 6.5454421043396, 13.014850616455078, 12.76742935180664, 4.770545482635498, 5.113140106201172, 7.941854000091553, 9.288965225219727, 8.518022537231445, 11.311026573181152, 7.110874176025391, 11.583375930786133, 10.768726348876953, 12.525177955627441, 5.588499546051025, 10.17342758178711, 11.31997299194336, 6.494229316711426, 6.516552925109863, 11.379734992980957, 6.923407554626465, 7.314505577087402, 6.193385601043701, 6.969945907592773, 9.870725631713867, 6.982706069946289, 4.920901298522949, 6.136282920837402, 9.473381042480469, 8.869418144226074, 10.838495254516602, 7.3388566970825195, 7.056076526641846, 11.091593742370605, 6.061560153961182, 11.662261962890625, 4.922765254974365, 8.505148887634277, 6.471122741699219, 6.8560967445373535, 8.726092338562012, 10.215651512145996, 5.897597312927246, 6.163334846496582, 11.75464153289795, 9.171422004699707, 10.686006546020508, 6.912445068359375, 11.876900672912598, 10.205330848693848, 11.738985061645508, 9.264084815979004, 9.35469913482666, 6.086165904998779, 6.444976329803467, 11.266033172607422, 11.193614959716797, 6.333990573883057, 11.501501083374023, 10.804300308227539, 4.897858619689941, 6.7479753494262695, 10.776069641113281, 6.214486122131348, 11.466001510620117, 12.908249855041504, 7.822193145751953, 10.633065223693848, 6.346024513244629, 10.265555381774902, 11.653721809387207, 8.069721221923828, 10.711039543151855, 11.088403701782227, 4.9879841804504395, 11.432570457458496, 5.426117420196533, 6.958224773406982, 6.238430023193359, 8.781012535095215, 5.420276641845703, 5.688011169433594, 4.741905689239502, 5.971936225891113, 6.318403720855713, 9.637201309204102, 6.3190765380859375, 12.175262451171875, 6.877693176269531, 5.574254512786865, 9.752768516540527, 10.824231147766113, 10.831775665283203, 8.456923484802246, 13.041180610656738, 11.670271873474121, 5.023351669311523, 11.123591423034668, 9.459856033325195, 9.690043449401855, 12.164830207824707, 9.371585845947266, 12.455938339233398, 11.240676879882812, 5.753647804260254, 10.629712104797363, 6.039922714233398, 6.578643321990967, 9.285016059875488, 12.709512710571289, 8.56312370300293, 13.092656135559082, 8.519247055053711, 10.723237991333008, 7.834288597106934, 8.961039543151855, 9.530740737915039, 10.995229721069336, 11.96078872680664, 12.09823989868164, 13.001100540161133, 10.53628921508789, 12.607853889465332, 10.700030326843262, 5.201898097991943, 9.622199058532715, 4.887150764465332, 10.436028480529785, 11.782003402709961, 11.044925689697266, 12.33287525177002, 12.235639572143555, 13.06170654296875, 12.997567176818848, 10.853144645690918, 12.65102767944336, 10.908904075622559, 12.056947708129883, 10.393424034118652, 13.086334228515625, 13.15088176727295, 6.8651347160339355, 7.828201770782471, 12.797464370727539, 8.672473907470703, 7.107580184936523, 11.285101890563965, 5.201111793518066, 12.069899559020996, 11.478129386901855, 12.53844165802002, 12.944193840026855, 6.801941871643066, 8.143041610717773, 6.8975725173950195, 8.966165542602539, 10.607390403747559, 12.608495712280273, 11.883668899536133, 6.27424430847168, 11.469329833984375, 5.918123722076416, 10.597245216369629, 5.0544633865356445, 8.840203285217285, 9.215961456298828, 9.62517261505127, 6.01875114440918, 9.990070343017578, 9.973821640014648, 11.852569580078125, 10.316427230834961, 11.649568557739258, 10.046109199523926, 12.971065521240234, 5.865826606750488, 4.830394744873047, 7.005617141723633, 9.902446746826172, 8.99433708190918, 8.423291206359863, 12.070720672607422, 9.973328590393066, 10.371418952941895, 13.048751831054688, 11.06895923614502, 10.94450855255127, 9.550332069396973, 12.0167875289917, 6.6573710441589355, 5.808766841888428, 11.066893577575684, 5.316353797912598, 4.972845077514648, 6.393807888031006, 11.393651962280273, 6.104455947875977, 6.456313610076904, 11.176225662231445, 9.01634693145752, 7.733534336090088, 11.213677406311035, 10.681039810180664, 5.773964881896973, 9.745749473571777, 11.129548072814941, 8.808685302734375, 8.725914001464844, 10.776530265808105, 9.515219688415527, 9.988807678222656, 12.899845123291016, 8.228982925415039, 6.111865520477295, 11.819829940795898, 11.013516426086426, 6.011977195739746, 5.166778087615967, 10.405417442321777, 11.756975173950195, 8.894431114196777, 9.419625282287598, 12.250466346740723, 11.283806800842285, 5.668160915374756, 12.202146530151367, 10.136072158813477, 11.16342830657959, 13.05585765838623, 10.240795135498047, 10.431098937988281, 8.987735748291016, 6.580172061920166, 10.690606117248535, 11.05022144317627, 10.914149284362793, 12.02875804901123, 8.84865665435791, 10.526005744934082, 10.298954963684082, 10.454907417297363, 5.186573505401611, 11.791144371032715, 10.839255332946777, 10.402132987976074, 8.18497085571289, 9.8600492477417, 9.037606239318848, 10.151912689208984, 12.302358627319336, 9.012495040893555, 10.453752517700195, 12.861004829406738, 13.02688217163086, 5.743220806121826, 8.765207290649414, 5.836862087249756, 6.092007160186768, 11.606053352355957, 7.346401691436768, 11.117561340332031, 11.55018424987793, 11.4450101852417, 12.420186042785645, 8.481263160705566, 6.876408100128174, 12.785396575927734, 10.634119033813477, 7.049429893493652, 9.55631160736084, 6.293977737426758, 11.025052070617676, 9.557097434997559, 6.264398097991943, 8.632516860961914, 6.641502380371094, 10.868880271911621, 9.820039749145508, 11.356648445129395, 10.962535858154297, 10.6409273147583, 11.008853912353516, 11.219983100891113, 11.122563362121582, 6.310577869415283, 4.922006130218506, 11.1896333694458, 11.503446578979492, 12.025284767150879, 7.995903491973877, 9.119819641113281, 11.345942497253418, 5.330887794494629, 8.540094375610352, 10.426030158996582, 10.981703758239746, 10.573677062988281, 11.239426612854004, 9.183206558227539, 10.795523643493652, 9.237542152404785, 12.642108917236328, 9.602712631225586, 6.2962727546691895, 11.72407341003418, 12.368192672729492, 9.161248207092285, 11.316730499267578, 9.125081062316895, 7.7572550773620605, 12.288887023925781, 5.705448627471924, 9.986873626708984, 10.969695091247559, 11.131720542907715, 12.48808479309082, 6.537209510803223, 12.990371704101562, 11.396418571472168, 9.953908920288086, 8.132073402404785, 11.411979675292969, 6.407114028930664, 5.805006504058838, 9.432613372802734, 6.399087905883789, 9.817344665527344, 5.189736843109131, 8.481939315795898, 8.393548011779785, 9.524023056030273, 8.672284126281738, 10.256664276123047, 5.839583873748779, 9.395317077636719, 11.776208877563477, 6.543526649475098, 10.247615814208984, 9.520715713500977, 10.135151863098145, 6.562918186187744, 6.379092693328857, 9.054779052734375, 9.828681945800781, 9.129476547241211, 4.8611321449279785, 12.358023643493652, 9.201998710632324, 10.305028915405273, 11.295760154724121, 8.229751586914062, 11.897171020507812, 9.384590148925781, 11.494638442993164, 10.317488670349121, 9.9410400390625, 11.96901798248291, 6.283257007598877, 9.249133110046387, 5.486264228820801, 8.607851028442383, 8.30698013305664, 11.062127113342285, 8.43916130065918, 8.934091567993164, 7.478315830230713, 10.448203086853027, 11.038951873779297, 10.516347885131836, 10.71968936920166, 11.98636531829834, 9.525388717651367, 11.961016654968262, 10.973859786987305, 12.641173362731934, 10.239813804626465, 10.992480278015137, 10.590653419494629, 10.964347839355469, 10.614387512207031, 10.659392356872559, 11.184717178344727, 9.190672874450684, 10.655253410339355, 9.953083992004395, 11.230184555053711, 5.559735298156738, 4.897246837615967, 5.27446985244751, 6.1357421875, 9.184134483337402, 4.782346725463867, 12.424105644226074], \"y\": [8.720596313476562, 9.06998348236084, 8.764307975769043, 6.600566864013672, 9.858656883239746, 6.571201324462891, 8.731121063232422, 6.825172424316406, 6.594056129455566, 6.633435249328613, 8.329122543334961, 7.1933674812316895, 8.95297908782959, 7.558863639831543, 6.77458381652832, 6.809228420257568, 8.235323905944824, 7.311757564544678, 9.325750350952148, 6.510619640350342, 6.023431301116943, 4.584547996520996, 6.905210018157959, 9.313230514526367, 8.938664436340332, 8.62371826171875, 6.746697425842285, 10.096807479858398, 7.165307521820068, 9.50407886505127, 8.698195457458496, 6.532199382781982, 8.170585632324219, 8.345470428466797, 6.954733848571777, 7.0519280433654785, 6.743677139282227, 7.409860610961914, 7.484429836273193, 6.751744747161865, 7.5272932052612305, 6.113859176635742, 8.880309104919434, 6.660629749298096, 6.984867572784424, 8.444473266601562, 4.243485450744629, 6.597879409790039, 5.01849889755249, 7.9145827293396, 6.089731216430664, 7.09101676940918, 5.763282299041748, 10.018424034118652, 8.12820816040039, 5.071779727935791, 9.16348648071289, 6.741209030151367, 5.979844570159912, 4.3614888191223145, 4.865644931793213, 3.6747140884399414, 7.369561195373535, 5.335603713989258, 6.756295204162598, 7.154954433441162, 3.897791862487793, 5.7807416915893555, 5.0166120529174805, 5.625314712524414, 9.195935249328613, 4.664787769317627, 7.798816204071045, 6.561110496520996, 6.086243152618408, 9.664742469787598, 4.599877834320068, 8.692870140075684, 8.895160675048828, 5.936776638031006, 3.9908597469329834, 6.494142532348633, 9.434618949890137, 10.091437339782715, 5.577870845794678, 9.882469177246094, 7.359729290008545, 8.657888412475586, 6.220957279205322, 6.28959846496582, 7.94202995300293, 7.411557674407959, 7.232746124267578, 6.6990227699279785, 7.609573841094971, 9.770430564880371, 4.980515956878662, 4.0040788650512695, 4.992799758911133, 6.988325595855713, 8.035039901733398, 4.272192478179932, 7.751068592071533, 4.6287126541137695, 5.073195457458496, 6.659796237945557, 4.715491771697998, 6.335827827453613, 9.028228759765625, 6.269153594970703, 3.67305588722229, 4.490642547607422, 5.130636692047119, 4.3232011795043945, 4.348211765289307, 6.050639629364014, 4.522730827331543, 7.33789587020874, 7.3586106300354, 9.60228157043457, 4.968997478485107, 10.043256759643555, 9.107488632202148, 6.5319061279296875, 5.786075592041016, 6.9408135414123535, 7.809987545013428, 9.428564071655273, 6.1834492683410645, 8.618742942810059, 4.8740973472595215, 8.301858901977539, 8.17982006072998, 6.778451919555664, 8.893767356872559, 7.759332180023193, 4.395791530609131, 5.638089656829834, 10.104633331298828, 4.178206920623779, 4.651828289031982, 9.627761840820312, 4.279153347015381, 6.0777907371521, 6.131453514099121, 4.105960845947266, 6.704074859619141, 5.4821696281433105, 6.686716079711914, 7.22302770614624, 4.89077615737915, 4.648153781890869, 4.975207328796387, 4.694951057434082, 5.689105033874512, 5.692252159118652, 10.032905578613281, 7.950722694396973, 5.505568027496338, 6.0373358726501465, 5.150564670562744, 9.908698081970215, 8.829656600952148, 4.337425708770752, 9.445043563842773, 7.424764633178711, 5.243635177612305, 9.571077346801758, 9.312520980834961, 6.623415470123291, 4.888499736785889, 8.131446838378906, 7.324103832244873, 3.6626927852630615, 5.187192916870117, 4.548210144042969, 4.891828536987305, 7.4322829246521, 6.96196174621582, 6.56232213973999, 9.542041778564453, 8.547686576843262, 8.190505981445312, 5.551063060760498, 7.157637596130371, 4.05086612701416, 8.593564987182617, 5.575364589691162, 4.52871036529541, 6.329799175262451, 6.673707962036133, 5.245839595794678, 7.79965353012085, 6.727402210235596, 7.376993656158447, 6.055437088012695, 7.0196852684021, 9.392250061035156, 8.752968788146973, 6.8450751304626465, 5.8991241455078125, 8.654787063598633, 9.110246658325195, 7.1132426261901855, 5.859005451202393, 6.769351482391357, 4.2664055824279785, 9.430575370788574, 6.633082389831543, 6.786424160003662, 10.002917289733887, 6.055950164794922, 9.584601402282715, 4.69987154006958, 6.791947364807129, 6.634060382843018, 5.29644250869751, 5.4485182762146, 9.639368057250977, 9.207074165344238, 5.237005710601807, 6.340884685516357, 4.442994117736816, 6.857787609100342, 6.628757953643799, 6.692910194396973, 4.69111442565918, 6.84608268737793, 7.340392112731934, 6.706099510192871, 7.798883438110352, 8.323700904846191, 8.433558464050293, 9.157687187194824, 4.226302146911621, 7.834123611450195, 9.610257148742676, 9.258891105651855, 8.527225494384766, 8.775583267211914, 6.6146931648254395, 6.3162689208984375, 5.223597526550293, 7.805356979370117, 9.866745948791504, 3.6484217643737793, 7.414736270904541, 5.598947525024414, 5.284480094909668, 4.972763538360596, 9.186175346374512, 5.424688339233398, 8.07972240447998, 8.5127592086792, 8.841897964477539, 6.453805446624756, 9.215361595153809, 7.375484466552734, 8.83456802368164, 7.045217990875244, 9.006858825683594, 8.24170970916748, 10.051530838012695, 7.537805557250977, 8.568531036376953, 9.575251579284668, 5.376877784729004, 7.7500529289245605, 5.594117641448975, 4.673959255218506, 7.034640312194824, 4.864931583404541, 9.576918601989746, 4.088865280151367, 8.25655460357666, 4.106332302093506, 4.920497894287109, 8.32114315032959, 7.304426670074463, 6.399044036865234, 8.727229118347168, 5.478920936584473, 8.732681274414062, 7.420684814453125, 5.65444803237915, 5.997612476348877, 5.25413703918457, 6.874909400939941, 4.920692443847656, 5.108305931091309, 4.964805603027344, 6.951349258422852, 4.96598482131958, 5.64108419418335, 5.464105606079102, 5.586706161499023, 6.228952884674072, 4.796435356140137, 7.292636394500732, 4.107584476470947, 9.248793601989746, 5.597520351409912, 9.011048316955566, 4.0464911460876465, 5.9561967849731445, 7.364356994628906, 6.257068157196045, 4.699710369110107, 6.9206156730651855, 6.808165550231934, 5.260316371917725, 7.187695503234863, 5.823962211608887, 4.942610740661621, 3.6039609909057617, 6.603192329406738, 6.372175216674805, 8.667283058166504, 4.989500522613525, 6.170283794403076, 4.230562686920166, 9.282293319702148, 4.88967227935791, 8.589788436889648, 5.881712436676025, 5.395702838897705, 6.671897888183594, 6.489118576049805, 8.045886993408203, 6.213133335113525, 7.800010681152344, 5.852345943450928, 3.658545732498169, 5.605208873748779, 7.088980674743652, 10.081665992736816, 5.155973434448242, 9.233964920043945, 4.280101299285889, 9.699740409851074, 6.589770793914795, 4.958606719970703, 4.894819736480713, 9.798480987548828, 4.472990036010742, 3.5688319206237793, 6.359072685241699, 6.7322468757629395, 4.573129177093506, 4.805720806121826, 6.070382595062256, 6.898032188415527, 9.41441535949707, 7.714137554168701, 5.579818248748779, 5.365545272827148, 5.788295269012451, 7.162844181060791, 5.439051628112793, 4.207989692687988, 6.5311102867126465, 7.774717807769775, 5.4964165687561035, 8.107847213745117, 6.476985454559326, 9.129667282104492, 10.006998062133789, 6.014657974243164, 9.691972732543945, 9.495477676391602, 7.055224895477295, 6.912162780761719, 8.783564567565918, 9.085692405700684, 6.205236911773682, 6.480987071990967, 5.083112716674805, 8.396252632141113, 6.345888614654541, 6.565555572509766, 4.665616035461426, 5.798694610595703, 5.492246627807617, 5.097972869873047, 6.483689785003662, 7.951446056365967, 5.805443286895752, 7.112154483795166, 4.888853549957275, 10.12290096282959, 4.728673934936523, 3.8973143100738525, 7.627452850341797, 8.654047012329102, 4.816366672515869, 7.481168746948242, 6.70483922958374, 5.672267913818359, 5.8990278244018555, 5.707426071166992, 7.54677152633667, 5.546599864959717, 5.706817150115967, 6.045877933502197, 6.138393402099609, 4.105610370635986, 6.808540344238281, 5.558502674102783, 8.392627716064453, 5.490901470184326, 7.5587077140808105, 4.844581127166748, 6.056258201599121, 7.076704502105713, 8.017313003540039, 5.013838291168213, 3.6989896297454834, 9.099790573120117, 5.150464057922363, 4.695541858673096, 5.45540714263916, 6.05360221862793, 5.1618123054504395, 6.995177745819092, 4.747012615203857, 6.357395172119141, 4.941993236541748, 5.528261184692383, 6.11368989944458, 6.326185703277588, 7.09754753112793, 4.354559898376465, 8.804492950439453, 9.97569465637207, 6.784193992614746, 6.756503105163574, 5.733606815338135, 6.604036808013916, 7.482146263122559, 6.9802045822143555, 5.162896156311035, 8.65514087677002, 6.765440464019775, 4.942429065704346, 8.607186317443848, 6.2500200271606445, 8.707806587219238, 6.211756229400635, 7.463902950286865, 9.233532905578613, 5.336243629455566, 9.414958000183105, 8.503602981567383, 6.6101274490356445, 6.130583763122559, 8.44209098815918, 8.420877456665039, 8.245294570922852, 8.225929260253906, 8.398812294006348, 9.532238006591797, 9.579524993896484, 8.319636344909668, 6.082187652587891, 6.861808776855469, 5.50902795791626, 7.101014137268066, 4.077878952026367, 8.991314888000488, 4.420231342315674, 5.151961326599121, 7.935721397399902, 6.792390823364258, 7.985861301422119, 5.081965923309326, 6.242122650146484, 7.254872798919678, 7.132625102996826, 4.989136219024658, 7.175961494445801, 6.150979042053223, 7.353323459625244, 6.260666847229004, 6.477291107177734, 6.581012725830078, 5.064733028411865, 7.370723247528076, 8.729990005493164, 4.57387638092041, 6.544560432434082, 7.711185932159424, 7.147166728973389, 9.96298885345459, 6.134423732757568, 7.341075897216797, 7.918953895568848, 6.469972610473633, 6.101696491241455, 9.832630157470703, 8.919487953186035, 6.647587299346924, 6.782810688018799, 4.5168609619140625, 9.677345275878906, 4.081759452819824, 4.18507719039917, 5.404144287109375, 4.111502170562744, 6.897830009460449, 7.300390243530273, 5.503617286682129, 6.839928150177002, 6.6774115562438965, 6.752607822418213, 7.994699954986572, 4.681934356689453, 8.74752140045166, 8.863990783691406, 6.107328414916992, 4.817385673522949, 4.030947208404541, 9.541325569152832, 6.233257293701172, 6.317805290222168, 4.131149768829346, 4.349124431610107, 6.743264198303223, 5.825472831726074, 4.14755916595459, 4.838742256164551, 4.401284217834473, 6.053703308105469, 6.113577365875244, 9.893911361694336, 4.440254211425781, 8.821846961975098, 7.062923431396484, 4.437892436981201, 3.9657211303710938, 4.460639953613281, 4.348712921142578, 6.701320171356201, 8.027578353881836, 8.351893424987793, 6.174273490905762, 7.874144554138184, 4.92205286026001, 4.335765361785889, 5.896726131439209, 7.212560653686523, 6.058833122253418, 5.377577781677246, 8.473474502563477, 4.031827926635742, 8.410663604736328, 8.522688865661621, 3.9455406665802, 7.8736162185668945, 7.129152774810791, 8.511908531188965, 7.8017401695251465, 8.06479263305664, 6.86836576461792, 9.091710090637207, 9.65921688079834, 9.935779571533203, 7.985208988189697, 8.921369552612305, 6.21636438369751]}],\n",
              "                        {\"height\": 500, \"margin\": {\"b\": 100, \"l\": 100, \"r\": 100, \"t\": 100}, \"template\": {\"data\": {\"bar\": [{\"error_x\": {\"color\": \"#f2f5fa\"}, \"error_y\": {\"color\": \"#f2f5fa\"}, \"marker\": {\"line\": {\"color\": \"rgb(17,17,17)\", \"width\": 0.5}}, \"type\": \"bar\"}], \"barpolar\": [{\"marker\": {\"line\": {\"color\": \"rgb(17,17,17)\", \"width\": 0.5}}, \"type\": \"barpolar\"}], \"carpet\": [{\"aaxis\": {\"endlinecolor\": \"#A2B1C6\", \"gridcolor\": \"#506784\", \"linecolor\": \"#506784\", \"minorgridcolor\": \"#506784\", \"startlinecolor\": \"#A2B1C6\"}, \"baxis\": {\"endlinecolor\": \"#A2B1C6\", \"gridcolor\": \"#506784\", \"linecolor\": \"#506784\", \"minorgridcolor\": \"#506784\", \"startlinecolor\": \"#A2B1C6\"}, \"type\": \"carpet\"}], \"choropleth\": [{\"colorbar\": {\"outlinewidth\": 0, \"ticks\": \"\"}, \"type\": \"choropleth\"}], \"contour\": [{\"colorbar\": {\"outlinewidth\": 0, \"ticks\": \"\"}, \"colorscale\": [[0.0, \"#0d0887\"], [0.1111111111111111, \"#46039f\"], [0.2222222222222222, \"#7201a8\"], [0.3333333333333333, \"#9c179e\"], [0.4444444444444444, \"#bd3786\"], [0.5555555555555556, \"#d8576b\"], [0.6666666666666666, \"#ed7953\"], [0.7777777777777778, \"#fb9f3a\"], [0.8888888888888888, \"#fdca26\"], [1.0, \"#f0f921\"]], \"type\": \"contour\"}], \"contourcarpet\": [{\"colorbar\": {\"outlinewidth\": 0, \"ticks\": \"\"}, \"type\": \"contourcarpet\"}], \"heatmap\": [{\"colorbar\": {\"outlinewidth\": 0, \"ticks\": \"\"}, \"colorscale\": [[0.0, \"#0d0887\"], [0.1111111111111111, \"#46039f\"], [0.2222222222222222, \"#7201a8\"], [0.3333333333333333, \"#9c179e\"], [0.4444444444444444, \"#bd3786\"], [0.5555555555555556, \"#d8576b\"], [0.6666666666666666, \"#ed7953\"], [0.7777777777777778, \"#fb9f3a\"], [0.8888888888888888, \"#fdca26\"], [1.0, \"#f0f921\"]], \"type\": \"heatmap\"}], \"heatmapgl\": [{\"colorbar\": {\"outlinewidth\": 0, \"ticks\": \"\"}, \"colorscale\": [[0.0, \"#0d0887\"], [0.1111111111111111, \"#46039f\"], [0.2222222222222222, \"#7201a8\"], [0.3333333333333333, \"#9c179e\"], [0.4444444444444444, \"#bd3786\"], [0.5555555555555556, \"#d8576b\"], [0.6666666666666666, \"#ed7953\"], [0.7777777777777778, \"#fb9f3a\"], [0.8888888888888888, \"#fdca26\"], [1.0, \"#f0f921\"]], \"type\": \"heatmapgl\"}], \"histogram\": [{\"marker\": {\"colorbar\": {\"outlinewidth\": 0, \"ticks\": \"\"}}, \"type\": \"histogram\"}], \"histogram2d\": [{\"colorbar\": {\"outlinewidth\": 0, \"ticks\": \"\"}, \"colorscale\": [[0.0, \"#0d0887\"], [0.1111111111111111, \"#46039f\"], [0.2222222222222222, \"#7201a8\"], [0.3333333333333333, \"#9c179e\"], [0.4444444444444444, \"#bd3786\"], [0.5555555555555556, \"#d8576b\"], [0.6666666666666666, \"#ed7953\"], [0.7777777777777778, \"#fb9f3a\"], [0.8888888888888888, \"#fdca26\"], [1.0, \"#f0f921\"]], \"type\": \"histogram2d\"}], \"histogram2dcontour\": [{\"colorbar\": {\"outlinewidth\": 0, \"ticks\": \"\"}, \"colorscale\": [[0.0, \"#0d0887\"], [0.1111111111111111, \"#46039f\"], [0.2222222222222222, \"#7201a8\"], [0.3333333333333333, \"#9c179e\"], [0.4444444444444444, \"#bd3786\"], [0.5555555555555556, \"#d8576b\"], [0.6666666666666666, \"#ed7953\"], [0.7777777777777778, \"#fb9f3a\"], [0.8888888888888888, \"#fdca26\"], [1.0, \"#f0f921\"]], \"type\": \"histogram2dcontour\"}], \"mesh3d\": [{\"colorbar\": {\"outlinewidth\": 0, \"ticks\": \"\"}, \"type\": \"mesh3d\"}], \"parcoords\": [{\"line\": {\"colorbar\": {\"outlinewidth\": 0, \"ticks\": \"\"}}, \"type\": \"parcoords\"}], \"pie\": [{\"automargin\": true, \"type\": \"pie\"}], \"scatter\": [{\"marker\": {\"line\": {\"color\": \"#283442\"}}, \"type\": \"scatter\"}], \"scatter3d\": [{\"line\": {\"colorbar\": {\"outlinewidth\": 0, \"ticks\": \"\"}}, \"marker\": {\"colorbar\": {\"outlinewidth\": 0, \"ticks\": \"\"}}, \"type\": \"scatter3d\"}], \"scattercarpet\": [{\"marker\": {\"colorbar\": {\"outlinewidth\": 0, \"ticks\": \"\"}}, \"type\": \"scattercarpet\"}], \"scattergeo\": [{\"marker\": {\"colorbar\": {\"outlinewidth\": 0, \"ticks\": \"\"}}, \"type\": \"scattergeo\"}], \"scattergl\": [{\"marker\": {\"line\": {\"color\": \"#283442\"}}, \"type\": \"scattergl\"}], \"scattermapbox\": [{\"marker\": {\"colorbar\": {\"outlinewidth\": 0, \"ticks\": \"\"}}, \"type\": \"scattermapbox\"}], \"scatterpolar\": [{\"marker\": {\"colorbar\": {\"outlinewidth\": 0, \"ticks\": \"\"}}, \"type\": \"scatterpolar\"}], \"scatterpolargl\": [{\"marker\": {\"colorbar\": {\"outlinewidth\": 0, \"ticks\": \"\"}}, \"type\": \"scatterpolargl\"}], \"scatterternary\": [{\"marker\": {\"colorbar\": {\"outlinewidth\": 0, \"ticks\": \"\"}}, \"type\": \"scatterternary\"}], \"surface\": [{\"colorbar\": {\"outlinewidth\": 0, \"ticks\": \"\"}, \"colorscale\": [[0.0, \"#0d0887\"], [0.1111111111111111, \"#46039f\"], [0.2222222222222222, \"#7201a8\"], [0.3333333333333333, \"#9c179e\"], [0.4444444444444444, \"#bd3786\"], [0.5555555555555556, \"#d8576b\"], [0.6666666666666666, \"#ed7953\"], [0.7777777777777778, \"#fb9f3a\"], [0.8888888888888888, \"#fdca26\"], [1.0, \"#f0f921\"]], \"type\": \"surface\"}], \"table\": [{\"cells\": {\"fill\": {\"color\": \"#506784\"}, \"line\": {\"color\": \"rgb(17,17,17)\"}}, \"header\": {\"fill\": {\"color\": \"#2a3f5f\"}, \"line\": {\"color\": \"rgb(17,17,17)\"}}, \"type\": \"table\"}]}, \"layout\": {\"annotationdefaults\": {\"arrowcolor\": \"#f2f5fa\", \"arrowhead\": 0, \"arrowwidth\": 1}, \"coloraxis\": {\"colorbar\": {\"outlinewidth\": 0, \"ticks\": \"\"}}, \"colorscale\": {\"diverging\": [[0, \"#8e0152\"], [0.1, \"#c51b7d\"], [0.2, \"#de77ae\"], [0.3, \"#f1b6da\"], [0.4, \"#fde0ef\"], [0.5, \"#f7f7f7\"], [0.6, \"#e6f5d0\"], [0.7, \"#b8e186\"], [0.8, \"#7fbc41\"], [0.9, \"#4d9221\"], [1, \"#276419\"]], \"sequential\": [[0.0, \"#0d0887\"], [0.1111111111111111, \"#46039f\"], [0.2222222222222222, \"#7201a8\"], [0.3333333333333333, \"#9c179e\"], [0.4444444444444444, \"#bd3786\"], [0.5555555555555556, \"#d8576b\"], [0.6666666666666666, \"#ed7953\"], [0.7777777777777778, \"#fb9f3a\"], [0.8888888888888888, \"#fdca26\"], [1.0, \"#f0f921\"]], \"sequentialminus\": [[0.0, \"#0d0887\"], [0.1111111111111111, \"#46039f\"], [0.2222222222222222, \"#7201a8\"], [0.3333333333333333, \"#9c179e\"], [0.4444444444444444, \"#bd3786\"], [0.5555555555555556, \"#d8576b\"], [0.6666666666666666, \"#ed7953\"], [0.7777777777777778, \"#fb9f3a\"], [0.8888888888888888, \"#fdca26\"], [1.0, \"#f0f921\"]]}, \"colorway\": [\"#636efa\", \"#EF553B\", \"#00cc96\", \"#ab63fa\", \"#FFA15A\", \"#19d3f3\", \"#FF6692\", \"#B6E880\", \"#FF97FF\", \"#FECB52\"], \"font\": {\"color\": \"#f2f5fa\"}, \"geo\": {\"bgcolor\": \"rgb(17,17,17)\", \"lakecolor\": \"rgb(17,17,17)\", \"landcolor\": \"rgb(17,17,17)\", \"showlakes\": true, \"showland\": true, \"subunitcolor\": \"#506784\"}, \"hoverlabel\": {\"align\": \"left\"}, \"hovermode\": \"closest\", \"mapbox\": {\"style\": \"dark\"}, \"paper_bgcolor\": \"rgb(17,17,17)\", \"plot_bgcolor\": \"rgb(17,17,17)\", \"polar\": {\"angularaxis\": {\"gridcolor\": \"#506784\", \"linecolor\": \"#506784\", \"ticks\": \"\"}, \"bgcolor\": \"rgb(17,17,17)\", \"radialaxis\": {\"gridcolor\": \"#506784\", \"linecolor\": \"#506784\", \"ticks\": \"\"}}, \"scene\": {\"xaxis\": {\"backgroundcolor\": \"rgb(17,17,17)\", \"gridcolor\": \"#506784\", \"gridwidth\": 2, \"linecolor\": \"#506784\", \"showbackground\": true, \"ticks\": \"\", \"zerolinecolor\": \"#C8D4E3\"}, \"yaxis\": {\"backgroundcolor\": \"rgb(17,17,17)\", \"gridcolor\": \"#506784\", \"gridwidth\": 2, \"linecolor\": \"#506784\", \"showbackground\": true, \"ticks\": \"\", \"zerolinecolor\": \"#C8D4E3\"}, \"zaxis\": {\"backgroundcolor\": \"rgb(17,17,17)\", \"gridcolor\": \"#506784\", \"gridwidth\": 2, \"linecolor\": \"#506784\", \"showbackground\": true, \"ticks\": \"\", \"zerolinecolor\": \"#C8D4E3\"}}, \"shapedefaults\": {\"line\": {\"color\": \"#f2f5fa\"}}, \"sliderdefaults\": {\"bgcolor\": \"#C8D4E3\", \"bordercolor\": \"rgb(17,17,17)\", \"borderwidth\": 1, \"tickwidth\": 0}, \"ternary\": {\"aaxis\": {\"gridcolor\": \"#506784\", \"linecolor\": \"#506784\", \"ticks\": \"\"}, \"baxis\": {\"gridcolor\": \"#506784\", \"linecolor\": \"#506784\", \"ticks\": \"\"}, \"bgcolor\": \"rgb(17,17,17)\", \"caxis\": {\"gridcolor\": \"#506784\", \"linecolor\": \"#506784\", \"ticks\": \"\"}}, \"title\": {\"x\": 0.05}, \"updatemenudefaults\": {\"bgcolor\": \"#506784\", \"borderwidth\": 0}, \"xaxis\": {\"automargin\": true, \"gridcolor\": \"#283442\", \"linecolor\": \"#506784\", \"ticks\": \"\", \"title\": {\"standoff\": 15}, \"zerolinecolor\": \"#283442\", \"zerolinewidth\": 2}, \"yaxis\": {\"automargin\": true, \"gridcolor\": \"#283442\", \"linecolor\": \"#506784\", \"ticks\": \"\", \"title\": {\"standoff\": 15}, \"zerolinecolor\": \"#283442\", \"zerolinewidth\": 2}}}, \"width\": 1000},\n",
              "                        {\"responsive\": true}\n",
              "                    ).then(function(){\n",
              "                            \n",
              "var gd = document.getElementById('d08c42d8-cac1-4d65-895b-e77a9ca3faf2');\n",
              "var x = new MutationObserver(function (mutations, observer) {{\n",
              "        var display = window.getComputedStyle(gd).display;\n",
              "        if (!display || display === 'none') {{\n",
              "            console.log([gd, 'removed!']);\n",
              "            Plotly.purge(gd);\n",
              "            observer.disconnect();\n",
              "        }}\n",
              "}});\n",
              "\n",
              "// Listen for the removal of the full notebook cells\n",
              "var notebookContainer = gd.closest('#notebook-container');\n",
              "if (notebookContainer) {{\n",
              "    x.observe(notebookContainer, {childList: true});\n",
              "}}\n",
              "\n",
              "// Listen for the clearing of the current output cell\n",
              "var outputEl = gd.closest('.output');\n",
              "if (outputEl) {{\n",
              "    x.observe(outputEl, {childList: true});\n",
              "}}\n",
              "\n",
              "                        })\n",
              "                };\n",
              "                \n",
              "            </script>\n",
              "        </div>\n",
              "</body>\n",
              "</html>"
            ]
          },
          "metadata": {}
        }
      ]
    },
    {
      "cell_type": "markdown",
      "metadata": {
        "id": "y-Nk0bFa3ur3"
      },
      "source": [
        "LLE"
      ]
    },
    {
      "cell_type": "code",
      "metadata": {
        "id": "hhYDQzaH3uFV"
      },
      "source": [
        "from sklearn.manifold import LocallyLinearEmbedding as LLE\n",
        "\n",
        "def Implement_LLE(n, df, target):\n",
        "  lle_op = LLE(n_components=n)\n",
        "  lle_df = lle_op.fit_transform(df)\n",
        "  col_labels= ['Component'+str(i) for i in range(1,n+1)]\n",
        "  lle_df  = pd.DataFrame(lle_df[:,0:n], index=target.tolist(), columns=col_labels)\n",
        "  lle_df= lle_df.reset_index()\n",
        "  lle_df.rename(columns={'index':'Label'}, inplace=True)\n",
        "  return lle_df"
      ],
      "execution_count": 53,
      "outputs": []
    },
    {
      "cell_type": "code",
      "metadata": {
        "colab": {
          "base_uri": "https://localhost:8080/",
          "height": 416
        },
        "id": "PwB4o-n739yE",
        "outputId": "4467eb3f-6064-4265-cdbd-59f5536de41b"
      },
      "source": [
        "lle_Idf = Implement_LLE(2,standardized_data,df_tbl_target['target'])\n",
        "lle_Idf"
      ],
      "execution_count": 54,
      "outputs": [
        {
          "output_type": "execute_result",
          "data": {
            "text/html": [
              "<div>\n",
              "<style scoped>\n",
              "    .dataframe tbody tr th:only-of-type {\n",
              "        vertical-align: middle;\n",
              "    }\n",
              "\n",
              "    .dataframe tbody tr th {\n",
              "        vertical-align: top;\n",
              "    }\n",
              "\n",
              "    .dataframe thead th {\n",
              "        text-align: right;\n",
              "    }\n",
              "</style>\n",
              "<table border=\"1\" class=\"dataframe\">\n",
              "  <thead>\n",
              "    <tr style=\"text-align: right;\">\n",
              "      <th></th>\n",
              "      <th>Label</th>\n",
              "      <th>Component1</th>\n",
              "      <th>Component2</th>\n",
              "    </tr>\n",
              "  </thead>\n",
              "  <tbody>\n",
              "    <tr>\n",
              "      <th>0</th>\n",
              "      <td>0</td>\n",
              "      <td>-0.057661</td>\n",
              "      <td>0.023879</td>\n",
              "    </tr>\n",
              "    <tr>\n",
              "      <th>1</th>\n",
              "      <td>0</td>\n",
              "      <td>-0.089942</td>\n",
              "      <td>-0.030223</td>\n",
              "    </tr>\n",
              "    <tr>\n",
              "      <th>2</th>\n",
              "      <td>0</td>\n",
              "      <td>-0.073981</td>\n",
              "      <td>-0.001860</td>\n",
              "    </tr>\n",
              "    <tr>\n",
              "      <th>3</th>\n",
              "      <td>0</td>\n",
              "      <td>-0.009929</td>\n",
              "      <td>0.073946</td>\n",
              "    </tr>\n",
              "    <tr>\n",
              "      <th>4</th>\n",
              "      <td>0</td>\n",
              "      <td>-0.084554</td>\n",
              "      <td>-0.028872</td>\n",
              "    </tr>\n",
              "    <tr>\n",
              "      <th>...</th>\n",
              "      <td>...</td>\n",
              "      <td>...</td>\n",
              "      <td>...</td>\n",
              "    </tr>\n",
              "    <tr>\n",
              "      <th>564</th>\n",
              "      <td>0</td>\n",
              "      <td>-0.080931</td>\n",
              "      <td>-0.027866</td>\n",
              "    </tr>\n",
              "    <tr>\n",
              "      <th>565</th>\n",
              "      <td>0</td>\n",
              "      <td>-0.080314</td>\n",
              "      <td>-0.029884</td>\n",
              "    </tr>\n",
              "    <tr>\n",
              "      <th>566</th>\n",
              "      <td>0</td>\n",
              "      <td>-0.008978</td>\n",
              "      <td>-0.015055</td>\n",
              "    </tr>\n",
              "    <tr>\n",
              "      <th>567</th>\n",
              "      <td>0</td>\n",
              "      <td>-0.053726</td>\n",
              "      <td>0.032310</td>\n",
              "    </tr>\n",
              "    <tr>\n",
              "      <th>568</th>\n",
              "      <td>1</td>\n",
              "      <td>0.029092</td>\n",
              "      <td>-0.060952</td>\n",
              "    </tr>\n",
              "  </tbody>\n",
              "</table>\n",
              "<p>569 rows × 3 columns</p>\n",
              "</div>"
            ],
            "text/plain": [
              "     Label  Component1  Component2\n",
              "0        0   -0.057661    0.023879\n",
              "1        0   -0.089942   -0.030223\n",
              "2        0   -0.073981   -0.001860\n",
              "3        0   -0.009929    0.073946\n",
              "4        0   -0.084554   -0.028872\n",
              "..     ...         ...         ...\n",
              "564      0   -0.080931   -0.027866\n",
              "565      0   -0.080314   -0.029884\n",
              "566      0   -0.008978   -0.015055\n",
              "567      0   -0.053726    0.032310\n",
              "568      1    0.029092   -0.060952\n",
              "\n",
              "[569 rows x 3 columns]"
            ]
          },
          "metadata": {},
          "execution_count": 54
        }
      ]
    },
    {
      "cell_type": "code",
      "metadata": {
        "colab": {
          "base_uri": "https://localhost:8080/",
          "height": 517
        },
        "id": "Cpk4xGCR4GM3",
        "outputId": "ab4bef01-5bb8-4e46-8424-efc8d6191477"
      },
      "source": [
        "fig = go.Figure(data=go.Scatter(\n",
        "        x = lle_Idf.iloc[:,1],\n",
        "        y = lle_Idf.iloc[:,2],\n",
        "        mode='markers',\n",
        "        marker=dict(\n",
        "            size=10,\n",
        "            color=lle_Idf.iloc[:,0], #set color equal to a variable\n",
        "            colorscale = 'Viridis', # one of plotly colorscales\n",
        "            showscale=True,\n",
        "            line_width=1\n",
        "        )\n",
        "    ))\n",
        "fig.update_layout(margin=dict( l=100,r=100,b=100,t=100),width=1000,height=500)                 \n",
        "fig.layout.template = 'plotly_dark' \n",
        "    \n",
        "fig.show()"
      ],
      "execution_count": 55,
      "outputs": [
        {
          "output_type": "display_data",
          "data": {
            "text/html": [
              "<html>\n",
              "<head><meta charset=\"utf-8\" /></head>\n",
              "<body>\n",
              "    <div>\n",
              "            <script src=\"https://cdnjs.cloudflare.com/ajax/libs/mathjax/2.7.5/MathJax.js?config=TeX-AMS-MML_SVG\"></script><script type=\"text/javascript\">if (window.MathJax) {MathJax.Hub.Config({SVG: {font: \"STIX-Web\"}});}</script>\n",
              "                <script type=\"text/javascript\">window.PlotlyConfig = {MathJaxConfig: 'local'};</script>\n",
              "        <script src=\"https://cdn.plot.ly/plotly-latest.min.js\"></script>    \n",
              "            <div id=\"6a739bf3-af8c-4267-bca3-116004b3a977\" class=\"plotly-graph-div\" style=\"height:500px; width:1000px;\"></div>\n",
              "            <script type=\"text/javascript\">\n",
              "                \n",
              "                    window.PLOTLYENV=window.PLOTLYENV || {};\n",
              "                    \n",
              "                if (document.getElementById(\"6a739bf3-af8c-4267-bca3-116004b3a977\")) {\n",
              "                    Plotly.newPlot(\n",
              "                        '6a739bf3-af8c-4267-bca3-116004b3a977',\n",
              "                        [{\"marker\": {\"color\": [0, 0, 0, 0, 0, 0, 0, 0, 0, 0, 0, 0, 0, 0, 0, 0, 0, 0, 0, 1, 1, 1, 0, 0, 0, 0, 0, 0, 0, 0, 0, 0, 0, 0, 0, 0, 0, 1, 0, 0, 0, 0, 0, 0, 0, 0, 1, 0, 1, 1, 1, 1, 1, 0, 0, 1, 0, 0, 1, 1, 1, 1, 0, 1, 0, 0, 1, 1, 1, 1, 0, 1, 0, 0, 1, 0, 1, 0, 0, 1, 1, 1, 0, 0, 1, 0, 0, 0, 1, 1, 1, 0, 1, 1, 0, 0, 1, 1, 1, 0, 0, 1, 1, 1, 1, 0, 1, 1, 0, 1, 1, 1, 1, 1, 1, 1, 1, 0, 0, 0, 1, 0, 0, 1, 1, 1, 0, 0, 1, 0, 1, 0, 0, 1, 0, 0, 1, 1, 0, 1, 1, 0, 1, 1, 1, 1, 0, 1, 1, 1, 1, 1, 1, 1, 1, 1, 0, 1, 1, 1, 1, 0, 0, 1, 0, 1, 1, 0, 0, 1, 1, 0, 0, 1, 1, 1, 1, 0, 1, 1, 0, 0, 0, 1, 0, 1, 0, 1, 1, 1, 0, 1, 1, 0, 0, 1, 0, 0, 0, 0, 1, 0, 0, 0, 1, 0, 1, 0, 1, 1, 0, 1, 0, 0, 0, 0, 1, 1, 0, 0, 1, 1, 1, 0, 1, 1, 1, 1, 1, 0, 0, 1, 1, 0, 1, 1, 0, 0, 1, 0, 1, 1, 1, 1, 0, 1, 1, 1, 1, 1, 0, 1, 0, 0, 0, 0, 0, 0, 0, 0, 0, 0, 0, 0, 0, 0, 1, 1, 1, 1, 1, 1, 0, 1, 0, 1, 1, 0, 1, 1, 0, 1, 0, 0, 1, 1, 1, 1, 1, 1, 1, 1, 1, 1, 1, 1, 1, 0, 1, 1, 0, 1, 0, 1, 1, 1, 1, 1, 1, 1, 1, 1, 1, 1, 1, 1, 1, 0, 1, 1, 1, 0, 1, 0, 1, 1, 1, 1, 0, 0, 0, 1, 1, 1, 1, 0, 1, 0, 1, 0, 1, 1, 1, 0, 1, 1, 1, 1, 1, 1, 1, 0, 0, 0, 1, 1, 1, 1, 1, 1, 1, 1, 1, 1, 1, 0, 0, 1, 0, 0, 0, 1, 0, 0, 1, 1, 1, 1, 1, 0, 1, 1, 1, 1, 1, 0, 1, 1, 1, 0, 1, 1, 0, 0, 1, 1, 1, 1, 1, 1, 0, 1, 1, 1, 1, 1, 1, 1, 0, 1, 1, 1, 1, 1, 0, 1, 1, 0, 1, 1, 1, 1, 1, 1, 1, 1, 1, 1, 1, 1, 0, 1, 0, 0, 1, 0, 1, 1, 1, 1, 1, 0, 1, 1, 0, 1, 0, 1, 1, 0, 1, 0, 1, 1, 1, 1, 1, 1, 1, 1, 0, 0, 1, 1, 1, 1, 1, 1, 0, 1, 1, 1, 1, 1, 1, 1, 1, 1, 1, 0, 1, 1, 1, 1, 1, 1, 1, 0, 1, 0, 1, 1, 0, 1, 1, 1, 1, 1, 0, 0, 1, 0, 1, 0, 1, 1, 1, 1, 1, 0, 1, 1, 0, 1, 0, 1, 0, 0, 1, 1, 1, 0, 1, 1, 1, 1, 1, 1, 1, 1, 1, 1, 1, 0, 1, 0, 0, 1, 1, 1, 1, 1, 1, 1, 1, 1, 1, 1, 1, 1, 1, 1, 1, 1, 1, 1, 1, 1, 1, 1, 1, 1, 0, 0, 0, 0, 0, 0, 1], \"colorscale\": [[0.0, \"#440154\"], [0.1111111111111111, \"#482878\"], [0.2222222222222222, \"#3e4989\"], [0.3333333333333333, \"#31688e\"], [0.4444444444444444, \"#26828e\"], [0.5555555555555556, \"#1f9e89\"], [0.6666666666666666, \"#35b779\"], [0.7777777777777778, \"#6ece58\"], [0.8888888888888888, \"#b5de2b\"], [1.0, \"#fde725\"]], \"line\": {\"width\": 1}, \"showscale\": true, \"size\": 10}, \"mode\": \"markers\", \"type\": \"scatter\", \"x\": [-0.05766092246537082, -0.08994170708388737, -0.07398112952026707, -0.009929244568007752, -0.08455393333460834, 0.0031025770545018727, -0.09942866005589308, -0.01321912212891253, 0.0002377507328233617, -0.008251743300493568, -0.0036831202157372625, -0.009168529438971685, -0.05427882648257177, 0.012798222949666207, -0.008259686736209484, -0.0015688947632427515, -0.0034677675964602164, -0.022488420447870264, -0.08218110543026032, 0.026629533973448857, 0.029099960190723688, 0.02848882115089288, -0.019293654750377247, -0.08261607027464334, -0.06878364234466798, -0.043681594384697806, 0.0005345260091138398, -0.08524528654512681, -0.0038138505407342886, -0.07876888739498872, -0.0638618737642558, 0.0030487087095213855, -0.05532134389808345, -0.06007398377628272, -0.00021681674077785176, -0.024226737588411765, 0.008954404717849824, 0.029918884514204443, 0.021032370122357036, 0.019219226941718806, 0.030250020053473978, -0.005423339697343293, -0.046455910960075786, 0.0038202388355948287, 0.014681092447110163, -0.07655415820597938, 0.030038225861841683, -0.004061847029418746, 0.03015778185916483, 0.03065266036268314, 0.03104976578274604, 0.02953394491076111, 0.030282867951103673, -0.08357994765643353, 0.0032854828443795157, 0.03045053826257989, -0.08026049398264898, -0.012227381096828173, 0.03070759846477435, 0.02897896979514012, 0.026542990301014834, 0.02444299995470219, -0.021173145115081483, 0.0274815548104533, -0.02853263626770556, -0.04776240607869976, 0.024838037639252675, 0.0302203183127208, 0.0007416088532027624, 0.030490251382499382, -0.08823538083163092, 0.001308550463430701, -0.03621252485329772, 0.024338452732183, 0.03083239713523036, -0.079306136660867, 0.02732528520450783, -0.06491569055346379, -0.028154737047939818, 0.029464484631799844, 0.02098273406061656, 0.01048013065637797, -0.07695666330567943, -0.08164829013633497, 0.029992570586958693, -0.08381735703092638, 0.016183061008526477, -0.0855988066595594, 0.027055545319009854, 0.01215384895326427, 0.0306902436400497, 0.01736314991029237, 0.029496794583047794, 0.03044308455630128, -0.027034722824424266, -0.08181593487586243, 0.028923189496266898, 0.026567476501457025, 0.028583041853418548, 0.018208120452534414, 0.01447542199803385, 0.02756469684541511, 0.03183842489074815, 0.023190104313649557, 0.029218131442290005, -0.0027211364376675193, 0.013446157469162166, 0.029931335260191757, -0.06385277359197444, 0.02842605838483773, 0.025960735955673196, 0.025714332661908555, -0.02101361821704598, 0.02424322179336319, 0.027491062867674006, 0.028265166209822678, 0.027083392454923874, -0.02358917634800307, -0.026115239768302087, -0.022790368085714097, 0.02867314455774414, -0.08518181561939311, -0.0524515978867785, 0.02685607422516728, 0.02634957210575888, 0.029643246800042596, 0.01379699550117516, -0.0669342307954777, 0.002660958246393835, -0.06756188728689477, 0.028092382940591992, -0.07979314830030575, -0.051763191562973015, 0.026990383117185098, -0.09445987780844718, 0.029869817362429, 0.029064094887635228, 0.029305370390681134, -0.05072443257579587, 0.02531593086632219, 0.02975008628074492, -0.07853299599909057, 0.028344591837146247, 0.029207996265938667, 0.029824006555746234, 0.026742709968560926, -0.004122195320258102, 0.02326665548745779, 0.025346368589045626, 0.030123003609091467, 0.028676250016601113, 0.017396943530293984, 0.0020427138767356136, 0.02980970774188985, 0.02929023578674382, 0.029493011686269645, -0.08585767210298906, -0.017036631995228917, 0.03036036544212598, 0.029305787530143523, 0.024771494580089145, -0.08073559634791488, -0.0745275258924718, 0.023387857407361306, -0.08276988812737616, 0.029858583055476177, 0.029710261377205588, -0.07696703605834881, -0.07961389287736788, 0.03061505246692277, 0.02696656390873301, 0.009783011614071127, -0.020230116681907745, 0.029272594905636773, 0.028617382765034408, 0.030391521447252698, -0.0027226316372861094, -0.015250354900217847, 0.030639134139367554, 0.029826593437111273, -0.08122875103376602, -0.05683961418234867, -0.02644740840382176, 0.029888291489012894, 0.013353261269921337, 0.02913588355730931, -0.09391136175613116, 0.0307736414446526, 0.029843457978848263, 0.03019935287486329, -0.023218836405093854, 0.028615081198924485, 0.028331957875341762, -0.013652616511087309, -0.007622681461866, 0.03157049962768672, 0.01924385424889162, -0.0338131231589814, -0.06811256424823897, 0.00640196206147768, 0.027281213495834268, -0.07126229465756834, -0.07379079467785858, -0.013405289413593938, 0.02710600495830398, 0.02214736316341011, 0.028509261993000745, -0.07858223640724177, 0.009714737665155683, 0.027099948052471817, -0.07708339558518335, 0.030384912217172565, -0.08775368888462601, -0.07838047027287005, -0.002579078090270169, 0.005628434847998501, 0.0229286917725034, 0.029556531446192427, -0.08005567896447122, -0.08201840631132995, 0.029226301013638527, 0.027720803055410765, 0.027559371761731927, 0.0039859605410678895, 0.03112486876418343, 0.028129534147863934, 0.029549510747749582, 0.024412312329359635, 0.026514803194652933, -0.005234071440957434, -0.04610845837705139, 0.030331387740550324, 0.030227699563509618, -0.08111212764245171, 0.029589673835142143, 0.02947695517069772, -0.0808978697308652, -0.08832905695995263, 0.024031781675152984, -0.05320166466114775, 0.029240848129392788, 0.031249041657692947, 0.005013018960913294, 0.029446106106650716, -0.08517357692252658, 0.0266942439167684, 0.029627567655015983, -0.007051842302322784, 0.02907021052747369, 0.028486514300431563, -0.07336160887410648, 0.03028537305681754, -0.05600801422043497, -0.08492584023248133, -0.08944962390705026, 0.022591997304186588, -0.07282957337638113, -0.012630942446919478, -0.05232232179987923, -0.030836018231438216, -0.08066761729247583, -0.010289749112128476, -0.08093362649080153, 0.02872724646288395, -0.09733251015746897, -0.0813439777013835, 0.026676579706430066, 0.03020074478388284, 0.029770140851939915, 0.023737398535746395, 0.030216578729700332, 0.030188171419923283, -0.07836800597024055, 0.029525217787248523, -0.0394383059731818, 0.022426755113852975, 0.02993750265697407, -0.023127877947240017, 0.029876001104650864, 0.030651564248018986, -0.07173896643915863, 0.030019535141180075, -0.08460265179462173, -0.020184109602549096, 0.026986701794124063, 0.030847206109846596, 0.025042030954531763, 0.028925307713897293, 0.018881947471088192, 0.0292599346378828, -0.01974905336919536, 0.024633502673909735, 0.028861129501393103, 0.030526865464573606, 0.029179614463044876, 0.029810543213899404, 0.030048317059114503, 0.029733890278776917, 0.03047341721637157, 0.028738651221674304, -0.07728823025303615, 0.02717902088738847, -0.07375658586507088, 0.02818357713123764, 0.031173869972180576, 0.03135176286522954, 0.030262956878791384, 0.031022937806811705, 0.03016492191977797, 0.03018829524436393, 0.029624741293305935, 0.02850397988804252, 0.027500407295213598, 0.030609411473518797, 0.026451122981100375, 0.029439311134352376, 0.0311505755463673, -0.09520175347817256, 0.0035592367492337227, 0.030994681387485318, 0.024299028173295906, -0.0803432067820415, 0.028938350351837536, -0.043429674064244944, 0.03033634274733384, 0.031016815546597302, 0.030091758730167978, 0.030287465063207154, -0.06820252171035024, -0.027214842675736147, -0.024377407231417555, 0.026430706561431018, 0.028648212700703436, 0.029512100813417205, 0.03164757712946285, -0.08532802381903073, 0.026740498973802727, -0.07844312114087962, 0.027399884161823495, -0.08178351543227845, 0.0233008339208587, 0.02643487084019305, 0.027609771859382796, -0.07701875341820064, 0.026745506450813784, 0.026989520096366546, 0.030627495503643954, 0.026209426509650774, 0.0279602385033045, 0.028250224767415018, 0.030828020532909076, -0.008664100463404783, -0.07945791720697261, 0.019189248698009795, 0.028925575794079863, 0.02780201438391398, 0.02081506819277276, 0.029511689949025772, 0.02724266696813263, 0.028892595556004593, 0.03036236953144043, 0.029588430784788573, 0.029722303810349095, 0.014620288645447285, 0.031061336041673212, -0.09179824319528977, -0.07403212655403694, 0.03149624421019851, -0.0821118594513847, -0.07716275971836378, -0.01646967467752514, 0.0254918847652774, -0.08006258534125524, -0.08930648754022796, 0.030102803014988286, 0.024066412470957605, -0.0005696712238254278, 0.029897521891784157, 0.02743207017432847, -0.002861701554965916, 0.027160882304026867, 0.03142460577092296, 0.024433735321965376, 0.025181104735622288, 0.02716598145696307, 0.016476941418507137, 0.02744136378353391, 0.02925214586143884, 0.02541861456527407, -0.07874685828217912, 0.028007809728620926, 0.027246769135763977, -0.03203622260478316, -0.06686517783061491, 0.029961710286317705, 0.030188236575696602, 0.02164491354407572, 0.027159648177428098, 0.029703863002736773, 0.031127878689228568, -0.04252314958695808, 0.028934170682815834, 0.030392518597300456, 0.030524194999550572, 0.03141965106093248, 0.026658327678169433, 0.026247357501657978, 0.02565676535592702, -0.08159246497219419, 0.029682139300049735, 0.03113520164250371, 0.027874927890184194, 0.03045175550756194, 0.019312229891712728, 0.029310810624894785, 0.027533157036400507, 0.02532698031628334, -0.07389861054756948, 0.028938204259111058, 0.030349809385917966, 0.028231148556589095, 0.007180472167166568, 0.02868270477436851, 0.02110769039239855, 0.02507271902982459, 0.03161203922435007, 0.02681767319955996, 0.02920768456370312, 0.029741629438360295, 0.03153781250296069, -0.014358361506323369, 0.024905490431636205, -0.0800010270285693, -0.08526331711447278, 0.028542264714126714, 0.015294415104753215, 0.02920128714591626, 0.030273388497230175, 0.02950438003845125, 0.0279130358118188, 0.023954844152296977, -0.015242818323928705, 0.02959635698497873, 0.029255023429252732, -0.090489460602634, 0.025942308510297853, -0.0782542695760581, 0.029394510164690125, 0.021478116033223225, -0.08438427313515977, 0.025833883958686122, -0.08913870165895996, 0.029098540322607343, 0.02802848194640313, 0.031004125282981135, 0.027308468335076466, 0.02729592673229216, 0.03126178214031562, 0.030683540700805107, 0.029999714545096645, -0.0049321028591713155, -0.0881156789318797, 0.03073611642766068, 0.029783067545356427, 0.028897357187656188, -0.006364655271191498, 0.02388661151965401, 0.029726028324536354, -0.053278274099192335, 0.01625368475047747, 0.02815892814271762, 0.028997444781957, 0.0251038744738882, 0.028485971594349097, 0.025304079419017824, 0.02888321249959429, 0.02159408756577102, 0.030376723337664495, 0.028864370324466638, -0.006333950936700938, 0.031256945400316566, 0.02816478478560161, 0.02598466663784754, 0.02896356970253196, 0.02665706321606258, 0.002039125470452835, 0.028408130404760253, -0.07739024782219464, 0.028352658406222007, -0.021698826769806952, 0.029827446834343723, 0.028300594545887632, -0.08156229829998553, 0.03157508472321015, 0.03136246976008364, 0.022363092020290756, 0.023392795156959884, 0.029812967573898494, -0.08710145266789455, -0.07869349166753119, 0.02707413381293538, -0.010820700883573923, 0.027611694733967202, -0.07901701108223626, 0.011627126652666703, 0.014999463410746497, 0.025376324291757443, 0.026007977237943188, 0.027517489593915794, -0.01871566435139622, 0.025847680760942966, 0.028017873578841956, -0.009814980027046545, 0.0263741732411657, 0.01369628671986081, 0.028975861794851645, -0.08814961269649062, -0.0876166876632557, 0.02486042741598006, 0.026762181900195896, 0.025685585616429356, -0.0793320688871078, 0.031798487014485594, 0.024860251404987065, 0.028056868667812134, 0.02748490408002467, 0.019990545734919617, 0.030035296004158985, 0.015054877110842598, 0.027373985304916828, 0.026250487928980007, 0.023845001049902722, 0.029089177998389733, -0.07707977833858616, 0.022855761475983997, -0.07338259679915936, 0.0140083155958911, 0.005280475204063144, 0.027523074417782546, 0.019404772346570124, 0.024923758348236003, 0.015070302069967978, 0.029206228391439264, 0.03007581962839698, 0.0280174061945995, 0.03108438309441387, 0.030505561757923048, 0.026917613352723278, 0.03019025801484179, 0.029996752196933686, 0.03107864962698398, 0.02798738713983407, 0.02851688738267925, 0.027432369675798953, 0.029632365020617394, 0.024107593311655125, 0.029475115325732812, 0.027138581855567234, 0.022391676154072556, 0.02411675963033566, 0.0216677789973733, 0.027561468330411676, -0.005945731919614235, -0.07323626933032001, -0.08093050432281775, -0.0803142730761589, -0.008978218271116719, -0.05372609996695307, 0.029091503177224483], \"y\": [0.02387922374207507, -0.030223174043636617, -0.0018595610095440062, 0.07394612993945188, -0.02887211162347573, 0.12102934995408712, -0.03137800871333281, 0.08461479501099187, 0.11754912229979296, 0.09120506854078977, -0.057681590555179185, 0.0775314791567558, 0.021250626963946258, -0.009681240510772357, 0.09452827536437762, 0.1099710050048506, -0.020909121551880728, 0.07707705537796668, -0.025133092794222982, 0.047398850471393764, 0.016636896959248627, 0.023575971836015435, 0.06452057257716245, -0.024229322076696504, -0.0011763451239565122, 0.05069720396332553, 0.11316530439591523, -0.03977268614475863, 0.09509774682583888, -0.015517763136452652, 0.019417834510924926, 0.12294531065272508, 0.03102896832568045, 0.015062150668838077, 0.09080086361485736, 0.04763553786794175, 0.08617442467083866, -0.0526472163415074, -0.038483161572316446, 0.04467040018299558, -0.04890947771153439, 0.04909711405527173, 0.026945085091676084, 0.08391090892831954, 0.02976260441640938, -0.006531000672426956, -0.015743891570272468, 0.09886111606165923, 0.01925739284325989, -0.07386381186890857, -0.042883756880445635, -0.04778938568920996, -0.029222489098752743, -0.028066316823095284, -0.03132873653024736, -0.008838581471269175, -0.021527466485963303, 0.08001990156802075, -0.04806457911799015, 0.014224272855474264, 0.005376380245975177, 0.0031045449500798966, 0.07566378657540174, -0.016233646972822646, 0.06651557914418016, 0.04542074519366545, 0.014741915372353554, -0.03527421605644475, 0.04705458404474928, -0.019688234552975734, -0.03442686887294984, 0.042070994159971786, 0.05155182065937349, 0.042772022891094254, -0.012300624596799913, -0.013273768323034778, 0.03684865148216516, 0.015139437619134432, 0.05337932711221096, -0.03325164805344293, 0.011876098864747517, 0.0734759595218999, -0.01546490701647782, -0.031380010651283305, -0.008714670987638914, -0.03473783663181313, 0.003314824156937189, -0.02205656555747021, 0.013917259019566659, 0.05698217107685969, -0.0839256744351214, 0.007674669605758878, -0.009085000158798356, -0.04265225423576725, 0.05577176971055765, -0.03904870594387634, -0.00941796800466597, -0.00021343997033114806, 0.032062646620561304, 0.016666603377327168, -0.04622373320428183, 0.0012599819352971957, -0.077645898214081, 0.02240421448811376, 0.0032339898124965545, 0.11998122444383877, 0.03437050282593404, -0.03381467622424801, 0.008587824333345961, -0.02564897206572562, 0.00790750770307729, 0.008921745215749666, 0.022870472364317468, 0.022130681972539753, 0.017506299404761713, -0.005482541022325384, 0.002944759914225576, 0.06659457663103115, 0.07509978372741477, -0.032081381450203506, 0.017447826522029523, -0.033375552986073184, 0.02466586981294191, 0.02573415848814148, -0.013908099527215426, -0.03442912179665968, -0.008583418820514362, -0.03789632804445999, 0.04952769961711064, 0.013243085857551651, 0.013834464887930116, 0.0006524129292894957, 0.014134492394921093, 0.04357967648508151, -0.02626042102697468, -0.08014384143652803, -0.008439159540663575, -0.0071770540330033505, -0.01187078781011074, 0.021855299121245925, -0.021294330202088374, -0.017983494414933965, 0.005734485508772108, -0.017190253846325203, -0.04217000597393383, 0.03132678174792512, 0.07194306178824879, 0.004896655630300428, 0.05812946509665789, -0.03046332763683754, -0.005721923977920134, 0.042070870001541305, 0.0650509650026926, 0.01572765107002042, 0.011656985344877148, -0.024019996635539446, -0.0356637436714883, -0.042343368281620414, 0.01664684595679546, -0.04076783716403198, 0.018329276977692356, -0.029828263916156533, -0.006241388142270468, 0.011765118556937283, -0.027938370943105216, -0.017490559543798224, 0.01685974764093569, -0.03588282894873177, -0.02371009221783687, -0.025154777315305722, 0.036676357540023116, -0.032498048151712, 0.0592559031361955, 0.01755567211650405, -0.02021133627749335, -0.017829558874928594, 0.044396816878361146, 0.06521366672804345, -0.029848575510890672, -0.013629451010915972, -0.02906614174803742, 0.022591236581367767, -0.016891381477640854, -0.010328196609599367, 0.0038991425674941823, -0.028102679369519986, -0.018649332823673866, -0.0021757229908319882, -0.02541465456032352, -0.03836372660993744, 0.0644610883762478, -0.040224840414643304, -0.05598776227673403, 0.06579052594862968, 0.058987637128712404, -0.026542547823689276, 0.04883521517023978, -0.037729848200898725, -0.0023428581080726612, 0.05916659941134085, -1.0822628056788401e-05, -0.0016388037247072734, -0.006172123946166334, 0.09185634238201026, 0.026506044752934235, 0.021193815180479216, 0.003402269154919299, -0.03629605659449914, 0.06390622878370211, 0.06303000125624675, -0.023368558496366054, -0.02954260981688098, -0.06425839509206345, -0.03310975150495966, 0.05205406400062254, 0.08794940919072908, 0.029631409993728295, -0.013251321216531772, -0.02978361449046189, -0.025881252872910075, 0.015100875673559576, 0.02086281747161553, -0.0012797474981094319, 0.09372527003237985, -0.017701729297012303, 0.03637929360964131, 0.001374006856826412, 0.0843235309844972, -0.020172425080426427, 0.09891496624353245, 0.03986529089148749, -0.08640896049898526, -0.0763723105533869, -0.02211663612514731, -0.0009695083701911171, -0.07866084344356662, -0.024201405624497276, -0.043720971460520036, -0.04744137876937047, -0.020002898139121657, 0.0006309967761542328, -0.03218063149918272, 0.05722689036874202, -0.09003838639706276, -0.037681777431822064, 0.006168828113633007, -0.07090812016584293, 0.07095258077281677, -0.03771026994590577, -0.006400157731614397, -0.0024472883110078854, -0.01692447726061701, 0.023637398983094478, -0.003049490764119075, -0.02552643263332462, 0.047178912549567915, 0.00012497565939920878, 0.10443760686763794, 0.03117181747081358, 0.049305017135333855, -0.021031024079248173, -0.03932843823001151, -0.038452619761498046, -0.03651003854216823, -0.024565842654912167, -0.025084421388410404, 0.007550081299613486, -0.07962874740257372, -0.015233114721178831, 0.03053924675776198, -0.029239574578849802, 0.020911617087837408, -0.013754301050250594, -0.0003023997521936163, -0.04803337189560802, 0.021305250497488066, -0.0037314056731983587, -0.012709374234927347, -0.025851569785969104, -0.028560676331619437, -0.003134324454844409, -0.0025422191841752094, -0.012398239866363762, 0.065580891868511, -0.005577434249058326, -0.05118783186984664, -0.00677550558916191, -0.031205871872466647, -0.0010985245091708555, -0.034696223450695535, 0.044220434920500803, 0.03480724610260367, 0.013822829946467208, -0.023934008394935032, -0.0014164426792901848, -0.016596743808737914, -0.03456956922835657, -0.012443701413442464, -0.024344817866525398, -0.01430773182784436, -0.013759079577943497, -0.008472002172487555, -0.010319598991003083, 0.0020085904634292735, -0.03319843631252376, -0.04958028768687131, -0.03086058086551511, -0.018414999020553546, -0.026439958671739972, -0.025290184264029472, -0.03218300659919697, -0.014261301246956395, 0.035869611710300946, -0.016603282944992557, 0.0027763681161784674, -0.037360878852172444, -0.035943391987173556, -0.022035392690390062, 0.03616861874048826, -0.039103464201755055, 0.027295358676297152, -0.03977127998177437, 0.01719996206314954, 0.03999631311385272, -0.011616507266995866, -0.021877574362195916, -0.023806788746165763, -0.03969780687284982, 0.021506101289043938, -0.005722357508162026, 0.042777246059097856, 0.04564340963005124, -0.003340694782723334, -0.03051833408243167, -0.060766495193388816, -0.040679476182467304, 0.03891937866505821, -0.023978973099549668, -0.007157212843240861, -0.029199800322469993, 0.08009852786906392, 0.044269668764067335, 0.005726998680890427, -0.022059532959657645, 0.03732926538127535, 0.01459620082392706, -0.05669416277871412, 0.03339470903390694, -0.00253640534124974, 0.001972558436249847, -0.03777431252882638, 0.07437368416424389, -0.02490733867156479, 0.031489024461084654, -0.004930587029389588, 0.0047362927804219706, 0.042082856166292704, -0.05820044197823872, -0.00027230895286380687, -0.013111029124952855, -0.040203472825238465, -0.08646024646084126, -0.032418435570373334, -0.03554555443171092, -0.027284484908140873, -0.038965057748841694, -0.011014481285738169, -0.02185825581259937, -0.02420037811873954, -0.012373767751107054, 0.06511608142585416, 0.050659561817454214, -0.0034914226198211776, -0.03058322750115056, -0.028856803223596923, 0.050568896257040606, 0.02145716466518593, -0.10407952619983567, 0.020003779095442747, 0.11090135997362674, 0.01320322583252947, -0.014738994078886947, -0.0020978469768506954, 0.04345092658948285, 0.043750219788219816, -0.058661193399683814, 0.02213842869095742, -0.03125112415256322, 0.012313142769492613, -0.02015683013095411, 0.00742307588046048, -0.001652327492996031, 0.05974176005452297, 0.01359409439206922, 0.002814486031638295, -0.062499153871633455, 0.04232338623714666, -0.020620881854734385, -0.02286002633263693, -0.01511965809794643, 0.057211342388670636, -0.009610516068861989, -0.03170052545629476, -0.028264767558639242, -0.025569751389190026, 0.006014296247460205, 0.034555844593845725, -0.03468636285426708, 0.0033469235914419504, -0.014112380469821923, -0.06847665368366368, -0.0161651923862372, -0.04460947133133037, 0.03516594913088143, -0.0978395773878711, 0.005105634108894489, 0.00477934278684706, -0.011293008992323121, 0.04499679716413094, -0.030494636928287182, -0.005340664438837385, 0.06009064124444835, 0.012056230834110055, 0.05350708778535771, 0.0031909771948926417, -0.040598875954870856, 0.03862504309213613, 0.0018135697736034032, -0.0454143810247694, -0.03419924776160006, 0.07845322633638127, 0.03301061251577285, -0.012119818921992225, -0.04006910316911387, -0.016555730704138877, 0.058647976304431894, -0.018828757058757903, -0.015023859860696275, -0.07265112598154784, -0.0063071854987381, 0.007330924193562083, -0.0020450610560274443, -0.021299926271529396, -0.024204433623022097, -0.01705725506088764, 0.0059322161087856035, -0.016445563711299797, -0.023977991481539517, -0.021210370424612834, -0.026852112164047738, -0.0028114422999878396, -0.04001291149382216, -0.06032105995420499, 0.014024660084641812, -0.027047694899613638, -0.07070337647115531, -0.042061056582807226, -0.09907820081406474, -0.10592065827825169, -0.06269298401780656, 0.014839689926661265, -0.06748832112199106, -0.10157164642458572, -0.04002765883198982, -0.03440422200630568, 0.06658728124896963, 0.016357838768944748, -0.03583764516358507, 0.02465263778034586, 0.03980842051429442, -0.005434540470689858, -0.05142787527192145, 0.07675981772539991, -0.0391212639316993, 0.03920470478600957, 0.023543346251256, 0.011291177741003262, -0.026137455444704985, 0.00031504119426371406, 0.06328447571507677, -0.02625931697354044, -0.03456465897794559, 0.02746052860297919, -0.028520226519938557, 0.04278828358531834, 0.050962643101928225, -0.021990904720882307, -0.00023318021476579097, 0.02037461622934771, -0.021576033533110286, -0.06844285020955228, 0.02343526425628246, -0.030225865582890483, -0.03147819596553134, -0.06725205541755981, -0.047308379103001494, 0.044915594953324596, -0.03246705907013839, -0.03703956122484106, -0.007614222331737149, 0.031988610475994, 0.07873822019292674, 0.012888275931725132, -0.012367092469830669, 0.08011745722621307, 0.05845214237010632, 0.01585436647022945, 0.01839164179210666, 0.03669170662914234, 0.06681196033147552, 0.011089561639352487, 0.0205309072852118, 0.0840212305674376, 0.023743911523253024, -0.028458314362331847, 0.013282954515072961, -0.013360643037342941, -0.01912198469202091, 0.030073020523885715, 0.02461571508213789, 0.011995767257490113, -0.022637351228042616, -0.035638771209800454, 0.0209546659857589, -0.0005610335846855402, 0.015474524247938581, 0.023338135957381944, -0.005254149620159549, 0.025713644676693088, 0.02811527047317173, 0.006786207399079768, 0.008754837880608057, -0.025083265587678948, -0.037293157768042366, 0.012382932089448543, -0.004139583201562673, 0.01349657181680552, 0.0531059592478304, -0.02856214341000054, 0.03234158413403865, 0.02555277438073383, 0.06640763811769265, -0.09697946108051486, -0.09804141099800319, 0.0002957184580103957, -0.07633227509498634, -0.006345871083676679, 0.007759575126228204, -0.04906586861787405, -0.04347522119150298, -0.03536820808876843, -0.007460317922838238, -0.10139475632998753, -0.020582124244599095, -0.07858911960644771, -0.026446318307147557, -0.005358267490608433, -0.028551960570277476, 0.006546851394721642, -0.0033492284382575536, -0.031380441057261024, -0.05036859050327937, 0.09124794168994137, -0.0014817952712473522, -0.027866099908458886, -0.029884216982121646, -0.015054777115042975, 0.032309861540999026, -0.06095159505498088]}],\n",
              "                        {\"height\": 500, \"margin\": {\"b\": 100, \"l\": 100, \"r\": 100, \"t\": 100}, \"template\": {\"data\": {\"bar\": [{\"error_x\": {\"color\": \"#f2f5fa\"}, \"error_y\": {\"color\": \"#f2f5fa\"}, \"marker\": {\"line\": {\"color\": \"rgb(17,17,17)\", \"width\": 0.5}}, \"type\": \"bar\"}], \"barpolar\": [{\"marker\": {\"line\": {\"color\": \"rgb(17,17,17)\", \"width\": 0.5}}, \"type\": \"barpolar\"}], \"carpet\": [{\"aaxis\": {\"endlinecolor\": \"#A2B1C6\", \"gridcolor\": \"#506784\", \"linecolor\": \"#506784\", \"minorgridcolor\": \"#506784\", \"startlinecolor\": \"#A2B1C6\"}, \"baxis\": {\"endlinecolor\": \"#A2B1C6\", \"gridcolor\": \"#506784\", \"linecolor\": \"#506784\", \"minorgridcolor\": \"#506784\", \"startlinecolor\": \"#A2B1C6\"}, \"type\": \"carpet\"}], \"choropleth\": [{\"colorbar\": {\"outlinewidth\": 0, \"ticks\": \"\"}, \"type\": \"choropleth\"}], \"contour\": [{\"colorbar\": {\"outlinewidth\": 0, \"ticks\": \"\"}, \"colorscale\": [[0.0, \"#0d0887\"], [0.1111111111111111, \"#46039f\"], [0.2222222222222222, \"#7201a8\"], [0.3333333333333333, \"#9c179e\"], [0.4444444444444444, \"#bd3786\"], [0.5555555555555556, \"#d8576b\"], [0.6666666666666666, \"#ed7953\"], [0.7777777777777778, \"#fb9f3a\"], [0.8888888888888888, \"#fdca26\"], [1.0, \"#f0f921\"]], \"type\": \"contour\"}], \"contourcarpet\": [{\"colorbar\": {\"outlinewidth\": 0, \"ticks\": \"\"}, \"type\": \"contourcarpet\"}], \"heatmap\": [{\"colorbar\": {\"outlinewidth\": 0, \"ticks\": \"\"}, \"colorscale\": [[0.0, \"#0d0887\"], [0.1111111111111111, \"#46039f\"], [0.2222222222222222, \"#7201a8\"], [0.3333333333333333, \"#9c179e\"], [0.4444444444444444, \"#bd3786\"], [0.5555555555555556, \"#d8576b\"], [0.6666666666666666, \"#ed7953\"], [0.7777777777777778, \"#fb9f3a\"], [0.8888888888888888, \"#fdca26\"], [1.0, \"#f0f921\"]], \"type\": \"heatmap\"}], \"heatmapgl\": [{\"colorbar\": {\"outlinewidth\": 0, \"ticks\": \"\"}, \"colorscale\": [[0.0, \"#0d0887\"], [0.1111111111111111, \"#46039f\"], [0.2222222222222222, \"#7201a8\"], [0.3333333333333333, \"#9c179e\"], [0.4444444444444444, \"#bd3786\"], [0.5555555555555556, \"#d8576b\"], [0.6666666666666666, \"#ed7953\"], [0.7777777777777778, \"#fb9f3a\"], [0.8888888888888888, \"#fdca26\"], [1.0, \"#f0f921\"]], \"type\": \"heatmapgl\"}], \"histogram\": [{\"marker\": {\"colorbar\": {\"outlinewidth\": 0, \"ticks\": \"\"}}, \"type\": \"histogram\"}], \"histogram2d\": [{\"colorbar\": {\"outlinewidth\": 0, \"ticks\": \"\"}, \"colorscale\": [[0.0, \"#0d0887\"], [0.1111111111111111, \"#46039f\"], [0.2222222222222222, \"#7201a8\"], [0.3333333333333333, \"#9c179e\"], [0.4444444444444444, \"#bd3786\"], [0.5555555555555556, \"#d8576b\"], [0.6666666666666666, \"#ed7953\"], [0.7777777777777778, \"#fb9f3a\"], [0.8888888888888888, \"#fdca26\"], [1.0, \"#f0f921\"]], \"type\": \"histogram2d\"}], \"histogram2dcontour\": [{\"colorbar\": {\"outlinewidth\": 0, \"ticks\": \"\"}, \"colorscale\": [[0.0, \"#0d0887\"], [0.1111111111111111, \"#46039f\"], [0.2222222222222222, \"#7201a8\"], [0.3333333333333333, \"#9c179e\"], [0.4444444444444444, \"#bd3786\"], [0.5555555555555556, \"#d8576b\"], [0.6666666666666666, \"#ed7953\"], [0.7777777777777778, \"#fb9f3a\"], [0.8888888888888888, \"#fdca26\"], [1.0, \"#f0f921\"]], \"type\": \"histogram2dcontour\"}], \"mesh3d\": [{\"colorbar\": {\"outlinewidth\": 0, \"ticks\": \"\"}, \"type\": \"mesh3d\"}], \"parcoords\": [{\"line\": {\"colorbar\": {\"outlinewidth\": 0, \"ticks\": \"\"}}, \"type\": \"parcoords\"}], \"pie\": [{\"automargin\": true, \"type\": \"pie\"}], \"scatter\": [{\"marker\": {\"line\": {\"color\": \"#283442\"}}, \"type\": \"scatter\"}], \"scatter3d\": [{\"line\": {\"colorbar\": {\"outlinewidth\": 0, \"ticks\": \"\"}}, \"marker\": {\"colorbar\": {\"outlinewidth\": 0, \"ticks\": \"\"}}, \"type\": \"scatter3d\"}], \"scattercarpet\": [{\"marker\": {\"colorbar\": {\"outlinewidth\": 0, \"ticks\": \"\"}}, \"type\": \"scattercarpet\"}], \"scattergeo\": [{\"marker\": {\"colorbar\": {\"outlinewidth\": 0, \"ticks\": \"\"}}, \"type\": \"scattergeo\"}], \"scattergl\": [{\"marker\": {\"line\": {\"color\": \"#283442\"}}, \"type\": \"scattergl\"}], \"scattermapbox\": [{\"marker\": {\"colorbar\": {\"outlinewidth\": 0, \"ticks\": \"\"}}, \"type\": \"scattermapbox\"}], \"scatterpolar\": [{\"marker\": {\"colorbar\": {\"outlinewidth\": 0, \"ticks\": \"\"}}, \"type\": \"scatterpolar\"}], \"scatterpolargl\": [{\"marker\": {\"colorbar\": {\"outlinewidth\": 0, \"ticks\": \"\"}}, \"type\": \"scatterpolargl\"}], \"scatterternary\": [{\"marker\": {\"colorbar\": {\"outlinewidth\": 0, \"ticks\": \"\"}}, \"type\": \"scatterternary\"}], \"surface\": [{\"colorbar\": {\"outlinewidth\": 0, \"ticks\": \"\"}, \"colorscale\": [[0.0, \"#0d0887\"], [0.1111111111111111, \"#46039f\"], [0.2222222222222222, \"#7201a8\"], [0.3333333333333333, \"#9c179e\"], [0.4444444444444444, \"#bd3786\"], [0.5555555555555556, \"#d8576b\"], [0.6666666666666666, \"#ed7953\"], [0.7777777777777778, \"#fb9f3a\"], [0.8888888888888888, \"#fdca26\"], [1.0, \"#f0f921\"]], \"type\": \"surface\"}], \"table\": [{\"cells\": {\"fill\": {\"color\": \"#506784\"}, \"line\": {\"color\": \"rgb(17,17,17)\"}}, \"header\": {\"fill\": {\"color\": \"#2a3f5f\"}, \"line\": {\"color\": \"rgb(17,17,17)\"}}, \"type\": \"table\"}]}, \"layout\": {\"annotationdefaults\": {\"arrowcolor\": \"#f2f5fa\", \"arrowhead\": 0, \"arrowwidth\": 1}, \"coloraxis\": {\"colorbar\": {\"outlinewidth\": 0, \"ticks\": \"\"}}, \"colorscale\": {\"diverging\": [[0, \"#8e0152\"], [0.1, \"#c51b7d\"], [0.2, \"#de77ae\"], [0.3, \"#f1b6da\"], [0.4, \"#fde0ef\"], [0.5, \"#f7f7f7\"], [0.6, \"#e6f5d0\"], [0.7, \"#b8e186\"], [0.8, \"#7fbc41\"], [0.9, \"#4d9221\"], [1, \"#276419\"]], \"sequential\": [[0.0, \"#0d0887\"], [0.1111111111111111, \"#46039f\"], [0.2222222222222222, \"#7201a8\"], [0.3333333333333333, \"#9c179e\"], [0.4444444444444444, \"#bd3786\"], [0.5555555555555556, \"#d8576b\"], [0.6666666666666666, \"#ed7953\"], [0.7777777777777778, \"#fb9f3a\"], [0.8888888888888888, \"#fdca26\"], [1.0, \"#f0f921\"]], \"sequentialminus\": [[0.0, \"#0d0887\"], [0.1111111111111111, \"#46039f\"], [0.2222222222222222, \"#7201a8\"], [0.3333333333333333, \"#9c179e\"], [0.4444444444444444, \"#bd3786\"], [0.5555555555555556, \"#d8576b\"], [0.6666666666666666, \"#ed7953\"], [0.7777777777777778, \"#fb9f3a\"], [0.8888888888888888, \"#fdca26\"], [1.0, \"#f0f921\"]]}, \"colorway\": [\"#636efa\", \"#EF553B\", \"#00cc96\", \"#ab63fa\", \"#FFA15A\", \"#19d3f3\", \"#FF6692\", \"#B6E880\", \"#FF97FF\", \"#FECB52\"], \"font\": {\"color\": \"#f2f5fa\"}, \"geo\": {\"bgcolor\": \"rgb(17,17,17)\", \"lakecolor\": \"rgb(17,17,17)\", \"landcolor\": \"rgb(17,17,17)\", \"showlakes\": true, \"showland\": true, \"subunitcolor\": \"#506784\"}, \"hoverlabel\": {\"align\": \"left\"}, \"hovermode\": \"closest\", \"mapbox\": {\"style\": \"dark\"}, \"paper_bgcolor\": \"rgb(17,17,17)\", \"plot_bgcolor\": \"rgb(17,17,17)\", \"polar\": {\"angularaxis\": {\"gridcolor\": \"#506784\", \"linecolor\": \"#506784\", \"ticks\": \"\"}, \"bgcolor\": \"rgb(17,17,17)\", \"radialaxis\": {\"gridcolor\": \"#506784\", \"linecolor\": \"#506784\", \"ticks\": \"\"}}, \"scene\": {\"xaxis\": {\"backgroundcolor\": \"rgb(17,17,17)\", \"gridcolor\": \"#506784\", \"gridwidth\": 2, \"linecolor\": \"#506784\", \"showbackground\": true, \"ticks\": \"\", \"zerolinecolor\": \"#C8D4E3\"}, \"yaxis\": {\"backgroundcolor\": \"rgb(17,17,17)\", \"gridcolor\": \"#506784\", \"gridwidth\": 2, \"linecolor\": \"#506784\", \"showbackground\": true, \"ticks\": \"\", \"zerolinecolor\": \"#C8D4E3\"}, \"zaxis\": {\"backgroundcolor\": \"rgb(17,17,17)\", \"gridcolor\": \"#506784\", \"gridwidth\": 2, \"linecolor\": \"#506784\", \"showbackground\": true, \"ticks\": \"\", \"zerolinecolor\": \"#C8D4E3\"}}, \"shapedefaults\": {\"line\": {\"color\": \"#f2f5fa\"}}, \"sliderdefaults\": {\"bgcolor\": \"#C8D4E3\", \"bordercolor\": \"rgb(17,17,17)\", \"borderwidth\": 1, \"tickwidth\": 0}, \"ternary\": {\"aaxis\": {\"gridcolor\": \"#506784\", \"linecolor\": \"#506784\", \"ticks\": \"\"}, \"baxis\": {\"gridcolor\": \"#506784\", \"linecolor\": \"#506784\", \"ticks\": \"\"}, \"bgcolor\": \"rgb(17,17,17)\", \"caxis\": {\"gridcolor\": \"#506784\", \"linecolor\": \"#506784\", \"ticks\": \"\"}}, \"title\": {\"x\": 0.05}, \"updatemenudefaults\": {\"bgcolor\": \"#506784\", \"borderwidth\": 0}, \"xaxis\": {\"automargin\": true, \"gridcolor\": \"#283442\", \"linecolor\": \"#506784\", \"ticks\": \"\", \"title\": {\"standoff\": 15}, \"zerolinecolor\": \"#283442\", \"zerolinewidth\": 2}, \"yaxis\": {\"automargin\": true, \"gridcolor\": \"#283442\", \"linecolor\": \"#506784\", \"ticks\": \"\", \"title\": {\"standoff\": 15}, \"zerolinecolor\": \"#283442\", \"zerolinewidth\": 2}}}, \"width\": 1000},\n",
              "                        {\"responsive\": true}\n",
              "                    ).then(function(){\n",
              "                            \n",
              "var gd = document.getElementById('6a739bf3-af8c-4267-bca3-116004b3a977');\n",
              "var x = new MutationObserver(function (mutations, observer) {{\n",
              "        var display = window.getComputedStyle(gd).display;\n",
              "        if (!display || display === 'none') {{\n",
              "            console.log([gd, 'removed!']);\n",
              "            Plotly.purge(gd);\n",
              "            observer.disconnect();\n",
              "        }}\n",
              "}});\n",
              "\n",
              "// Listen for the removal of the full notebook cells\n",
              "var notebookContainer = gd.closest('#notebook-container');\n",
              "if (notebookContainer) {{\n",
              "    x.observe(notebookContainer, {childList: true});\n",
              "}}\n",
              "\n",
              "// Listen for the clearing of the current output cell\n",
              "var outputEl = gd.closest('.output');\n",
              "if (outputEl) {{\n",
              "    x.observe(outputEl, {childList: true});\n",
              "}}\n",
              "\n",
              "                        })\n",
              "                };\n",
              "                \n",
              "            </script>\n",
              "        </div>\n",
              "</body>\n",
              "</html>"
            ]
          },
          "metadata": {}
        }
      ]
    }
  ]
}